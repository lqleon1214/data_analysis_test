{
 "cells": [
  {
   "cell_type": "code",
   "execution_count": 1,
   "metadata": {},
   "outputs": [
    {
     "name": "stderr",
     "output_type": "stream",
     "text": [
      "/Library/Frameworks/Python.framework/Versions/3.6/lib/python3.6/importlib/_bootstrap.py:219: RuntimeWarning: numpy.dtype size changed, may indicate binary incompatibility. Expected 96, got 88\n",
      "  return f(*args, **kwds)\n"
     ]
    }
   ],
   "source": [
    "import numpy as np\n",
    "import pandas as pd\n",
    "import scipy.stats as stats\n",
    "import matplotlib.pyplot as plt\n",
    "import math\n",
    "%matplotlib inline"
   ]
  },
  {
   "cell_type": "markdown",
   "metadata": {},
   "source": [
    "## 单样本t-test\n",
    "常用于比较样本和总体的均值是否一样。"
   ]
  },
  {
   "cell_type": "markdown",
   "metadata": {},
   "source": [
    "> 下面的 **`loc`** 参数实际上就是基数的意思。 **`mu`** 参数会在这个loc参数上面进行加来表示总的次数。"
   ]
  },
  {
   "cell_type": "code",
   "execution_count": 2,
   "metadata": {},
   "outputs": [
    {
     "name": "stdout",
     "output_type": "stream",
     "text": [
      "4900.062208\n",
      "4198.5\n"
     ]
    }
   ],
   "source": [
    "np.random.seed(2016)\n",
    "population_salary1 = stats.poisson.rvs(loc=1000, mu=4500, size=150000)\n",
    "population_salary2 = stats.poisson.rvs(loc=1000, mu=3000, size=100000)\n",
    "population_salary = np.concatenate((population_salary1, population_salary2))\n",
    "cd_salary1 = stats.poisson.rvs(loc=1000, mu=3000, size=30)\n",
    "cd_salary2 = stats.poisson.rvs(loc=1000, mu=3500, size=20)\n",
    "cd_salary = np.concatenate((cd_salary1, cd_salary2))\n",
    "print(population_salary.mean())\n",
    "print(cd_salary.mean())"
   ]
  },
  {
   "cell_type": "markdown",
   "metadata": {},
   "source": [
    "> * 在使用 **`stats.ttest_1samp`** 是做单一样本t检验，其中的参数 **`a`** 表示我们的单一样本对象，而参数 **`popmean`** 是我们总体的均值。\n",
    "> * 在得到的结果中 **`pvalue`** 是我们的p值，总体的假设是相同，如果取得的结果很小的话，就表示之前的假设为假。"
   ]
  },
  {
   "cell_type": "code",
   "execution_count": 3,
   "metadata": {},
   "outputs": [
    {
     "data": {
      "text/plain": [
       "Ttest_1sampResult(statistic=-18.332508356481146, pvalue=1.401937971050218e-23)"
      ]
     },
     "execution_count": 3,
     "metadata": {},
     "output_type": "execute_result"
    }
   ],
   "source": [
    "stats.ttest_1samp(a=cd_salary, popmean=population_salary.mean())"
   ]
  },
  {
   "cell_type": "code",
   "execution_count": 4,
   "metadata": {},
   "outputs": [
    {
     "data": {
      "text/plain": [
       "-2.0095752344892093"
      ]
     },
     "execution_count": 4,
     "metadata": {},
     "output_type": "execute_result"
    }
   ],
   "source": [
    "stats.t.ppf(q=0.025,df=49)     # 构造95%的置信区间。 这个是左侧的。"
   ]
  },
  {
   "cell_type": "code",
   "execution_count": 5,
   "metadata": {},
   "outputs": [
    {
     "data": {
      "text/plain": [
       "2.0095752344892088"
      ]
     },
     "execution_count": 5,
     "metadata": {},
     "output_type": "execute_result"
    }
   ],
   "source": [
    "stats.t.ppf(q=0.975, df=49)     # 30+20-1。 构造95%的置信区间。这个是除了右边2.5%的。"
   ]
  },
  {
   "cell_type": "code",
   "execution_count": 7,
   "metadata": {},
   "outputs": [
    {
     "data": {
      "text/plain": [
       "2.0"
      ]
     },
     "execution_count": 7,
     "metadata": {},
     "output_type": "execute_result"
    }
   ],
   "source": [
    "stats.t.cdf(x=19.318, df=49)*2"
   ]
  },
  {
   "cell_type": "code",
   "execution_count": 8,
   "metadata": {},
   "outputs": [
    {
     "data": {
      "text/plain": [
       "(4122.3689880749052, 4274.6310119250948)"
      ]
     },
     "execution_count": 8,
     "metadata": {},
     "output_type": "execute_result"
    }
   ],
   "source": [
    "sigma = cd_salary.std()/ math.sqrt(50)\n",
    "stats.t.interval(0.95, df=49, loc=cd_salary.mean(), scale=sigma)"
   ]
  },
  {
   "cell_type": "markdown",
   "metadata": {},
   "source": [
    "## 双样本t-test\n",
    "就是比较两个样本的均值是否有显著性差异。"
   ]
  },
  {
   "cell_type": "code",
   "execution_count": 10,
   "metadata": {},
   "outputs": [
    {
     "name": "stdout",
     "output_type": "stream",
     "text": [
      "3892.4\n"
     ]
    }
   ],
   "source": [
    "np.random.seed(2016)\n",
    "cq_salary1 = stats.poisson.rvs(loc=1000, mu=3300, size=30)\n",
    "cq_salary2 = stats.poisson.rvs(loc=1000, mu=2300, size=20)\n",
    "cq_salary = np.concatenate((cq_salary1, cq_salary2))\n",
    "print(cq_salary.mean())"
   ]
  },
  {
   "cell_type": "markdown",
   "metadata": {},
   "source": [
    "> 在进行双样本t检验的时候，scipy为我们提供了 **`stats.ttest_ind`** 方法，其中的参数 **`a`** 和 **`b`** 是表示两个样本，而参数 **`equal_var`** 表示的是是否 **`有相同的方差`** 的检验。"
   ]
  },
  {
   "cell_type": "code",
   "execution_count": 11,
   "metadata": {},
   "outputs": [
    {
     "data": {
      "text/plain": [
       "Ttest_indResult(statistic=3.8106072785123639, pvalue=0.00028077830201706758)"
      ]
     },
     "execution_count": 11,
     "metadata": {},
     "output_type": "execute_result"
    }
   ],
   "source": [
    "stats.ttest_ind(a=cd_salary, b=cq_salary, equal_var=False)    # 是否是相同的variance"
   ]
  },
  {
   "cell_type": "markdown",
   "metadata": {},
   "source": [
    "## paired-test\n",
    "数据之间有相互的关联的关系，比如吃药对体重的影响。"
   ]
  },
  {
   "cell_type": "code",
   "execution_count": 12,
   "metadata": {},
   "outputs": [
    {
     "data": {
      "text/html": [
       "<div>\n",
       "<style scoped>\n",
       "    .dataframe tbody tr th:only-of-type {\n",
       "        vertical-align: middle;\n",
       "    }\n",
       "\n",
       "    .dataframe tbody tr th {\n",
       "        vertical-align: top;\n",
       "    }\n",
       "\n",
       "    .dataframe thead th {\n",
       "        text-align: right;\n",
       "    }\n",
       "</style>\n",
       "<table border=\"1\" class=\"dataframe\">\n",
       "  <thead>\n",
       "    <tr style=\"text-align: right;\">\n",
       "      <th></th>\n",
       "      <th>weight_after</th>\n",
       "      <th>weight_before</th>\n",
       "      <th>weight_change</th>\n",
       "    </tr>\n",
       "  </thead>\n",
       "  <tbody>\n",
       "    <tr>\n",
       "      <th>count</th>\n",
       "      <td>100.000000</td>\n",
       "      <td>100.000000</td>\n",
       "      <td>100.000000</td>\n",
       "    </tr>\n",
       "    <tr>\n",
       "      <th>mean</th>\n",
       "      <td>58.630430</td>\n",
       "      <td>59.952022</td>\n",
       "      <td>1.321592</td>\n",
       "    </tr>\n",
       "    <tr>\n",
       "      <th>std</th>\n",
       "      <td>1.314275</td>\n",
       "      <td>0.961598</td>\n",
       "      <td>1.002293</td>\n",
       "    </tr>\n",
       "    <tr>\n",
       "      <th>min</th>\n",
       "      <td>55.953805</td>\n",
       "      <td>57.865425</td>\n",
       "      <td>-0.609435</td>\n",
       "    </tr>\n",
       "    <tr>\n",
       "      <th>25%</th>\n",
       "      <td>57.682933</td>\n",
       "      <td>59.301934</td>\n",
       "      <td>0.570082</td>\n",
       "    </tr>\n",
       "    <tr>\n",
       "      <th>50%</th>\n",
       "      <td>58.731642</td>\n",
       "      <td>59.837506</td>\n",
       "      <td>1.315559</td>\n",
       "    </tr>\n",
       "    <tr>\n",
       "      <th>75%</th>\n",
       "      <td>59.406286</td>\n",
       "      <td>60.707960</td>\n",
       "      <td>2.032967</td>\n",
       "    </tr>\n",
       "    <tr>\n",
       "      <th>max</th>\n",
       "      <td>61.640888</td>\n",
       "      <td>62.427961</td>\n",
       "      <td>3.564753</td>\n",
       "    </tr>\n",
       "  </tbody>\n",
       "</table>\n",
       "</div>"
      ],
      "text/plain": [
       "       weight_after  weight_before  weight_change\n",
       "count    100.000000     100.000000     100.000000\n",
       "mean      58.630430      59.952022       1.321592\n",
       "std        1.314275       0.961598       1.002293\n",
       "min       55.953805      57.865425      -0.609435\n",
       "25%       57.682933      59.301934       0.570082\n",
       "50%       58.731642      59.837506       1.315559\n",
       "75%       59.406286      60.707960       2.032967\n",
       "max       61.640888      62.427961       3.564753"
      ]
     },
     "execution_count": 12,
     "metadata": {},
     "output_type": "execute_result"
    }
   ],
   "source": [
    "np.random.seed(2016)\n",
    "before = stats.norm.rvs(loc=60, size=100)\n",
    "after = before + stats.norm.rvs(loc=-1.25, size=100)\n",
    "weight_df = pd.DataFrame({\"weight_before\":before, \"weight_after\":after, \"weight_change\": before-after})\n",
    "weight_df.describe()"
   ]
  },
  {
   "cell_type": "markdown",
   "metadata": {},
   "source": [
    "> 关于这种相关的T检验的话，可以使用scipy提供的 **`stats.ttest_rel`** 来进行这种比较的操作，其中的参数 **`a`** 和 **`b`** 表示要进行检验的相关的变量。"
   ]
  },
  {
   "cell_type": "code",
   "execution_count": 13,
   "metadata": {},
   "outputs": [
    {
     "data": {
      "text/plain": [
       "Ttest_relResult(statistic=13.185686571090971, pvalue=1.5966654846554254e-23)"
      ]
     },
     "execution_count": 13,
     "metadata": {},
     "output_type": "execute_result"
    }
   ],
   "source": [
    "stats.ttest_rel(a=before, b=after)"
   ]
  },
  {
   "cell_type": "code",
   "execution_count": 14,
   "metadata": {},
   "outputs": [
    {
     "data": {
      "text/html": [
       "<div>\n",
       "<style scoped>\n",
       "    .dataframe tbody tr th:only-of-type {\n",
       "        vertical-align: middle;\n",
       "    }\n",
       "\n",
       "    .dataframe tbody tr th {\n",
       "        vertical-align: top;\n",
       "    }\n",
       "\n",
       "    .dataframe thead th {\n",
       "        text-align: right;\n",
       "    }\n",
       "</style>\n",
       "<table border=\"1\" class=\"dataframe\">\n",
       "  <thead>\n",
       "    <tr style=\"text-align: right;\">\n",
       "      <th></th>\n",
       "      <th>weight_after</th>\n",
       "      <th>weight_before</th>\n",
       "      <th>weight_change</th>\n",
       "    </tr>\n",
       "  </thead>\n",
       "  <tbody>\n",
       "    <tr>\n",
       "      <th>0</th>\n",
       "      <td>57.006240</td>\n",
       "      <td>60.294854</td>\n",
       "      <td>3.288614</td>\n",
       "    </tr>\n",
       "    <tr>\n",
       "      <th>1</th>\n",
       "      <td>59.195722</td>\n",
       "      <td>60.508038</td>\n",
       "      <td>1.312316</td>\n",
       "    </tr>\n",
       "    <tr>\n",
       "      <th>2</th>\n",
       "      <td>59.864078</td>\n",
       "      <td>60.704740</td>\n",
       "      <td>0.840662</td>\n",
       "    </tr>\n",
       "    <tr>\n",
       "      <th>3</th>\n",
       "      <td>59.435102</td>\n",
       "      <td>60.826131</td>\n",
       "      <td>1.391028</td>\n",
       "    </tr>\n",
       "    <tr>\n",
       "      <th>4</th>\n",
       "      <td>60.193747</td>\n",
       "      <td>62.135452</td>\n",
       "      <td>1.941705</td>\n",
       "    </tr>\n",
       "    <tr>\n",
       "      <th>5</th>\n",
       "      <td>58.347267</td>\n",
       "      <td>59.432162</td>\n",
       "      <td>1.084895</td>\n",
       "    </tr>\n",
       "    <tr>\n",
       "      <th>6</th>\n",
       "      <td>60.476824</td>\n",
       "      <td>60.735234</td>\n",
       "      <td>0.258410</td>\n",
       "    </tr>\n",
       "    <tr>\n",
       "      <th>7</th>\n",
       "      <td>57.469703</td>\n",
       "      <td>59.030005</td>\n",
       "      <td>1.560302</td>\n",
       "    </tr>\n",
       "    <tr>\n",
       "      <th>8</th>\n",
       "      <td>57.698392</td>\n",
       "      <td>60.694236</td>\n",
       "      <td>2.995844</td>\n",
       "    </tr>\n",
       "    <tr>\n",
       "      <th>9</th>\n",
       "      <td>60.560296</td>\n",
       "      <td>61.371332</td>\n",
       "      <td>0.811036</td>\n",
       "    </tr>\n",
       "    <tr>\n",
       "      <th>10</th>\n",
       "      <td>58.432090</td>\n",
       "      <td>58.498458</td>\n",
       "      <td>0.066369</td>\n",
       "    </tr>\n",
       "    <tr>\n",
       "      <th>11</th>\n",
       "      <td>59.322109</td>\n",
       "      <td>60.466498</td>\n",
       "      <td>1.144390</td>\n",
       "    </tr>\n",
       "    <tr>\n",
       "      <th>12</th>\n",
       "      <td>59.235337</td>\n",
       "      <td>61.482768</td>\n",
       "      <td>2.247430</td>\n",
       "    </tr>\n",
       "    <tr>\n",
       "      <th>13</th>\n",
       "      <td>61.106218</td>\n",
       "      <td>61.730708</td>\n",
       "      <td>0.624490</td>\n",
       "    </tr>\n",
       "    <tr>\n",
       "      <th>14</th>\n",
       "      <td>57.160900</td>\n",
       "      <td>59.195593</td>\n",
       "      <td>2.034693</td>\n",
       "    </tr>\n",
       "    <tr>\n",
       "      <th>15</th>\n",
       "      <td>56.892405</td>\n",
       "      <td>57.865425</td>\n",
       "      <td>0.973019</td>\n",
       "    </tr>\n",
       "    <tr>\n",
       "      <th>16</th>\n",
       "      <td>58.392245</td>\n",
       "      <td>59.500736</td>\n",
       "      <td>1.108492</td>\n",
       "    </tr>\n",
       "    <tr>\n",
       "      <th>17</th>\n",
       "      <td>58.867247</td>\n",
       "      <td>59.947433</td>\n",
       "      <td>1.080186</td>\n",
       "    </tr>\n",
       "    <tr>\n",
       "      <th>18</th>\n",
       "      <td>58.938077</td>\n",
       "      <td>59.598322</td>\n",
       "      <td>0.660244</td>\n",
       "    </tr>\n",
       "    <tr>\n",
       "      <th>19</th>\n",
       "      <td>58.223270</td>\n",
       "      <td>59.584845</td>\n",
       "      <td>1.361575</td>\n",
       "    </tr>\n",
       "    <tr>\n",
       "      <th>20</th>\n",
       "      <td>57.341738</td>\n",
       "      <td>58.660539</td>\n",
       "      <td>1.318801</td>\n",
       "    </tr>\n",
       "    <tr>\n",
       "      <th>21</th>\n",
       "      <td>58.793641</td>\n",
       "      <td>58.745233</td>\n",
       "      <td>-0.048408</td>\n",
       "    </tr>\n",
       "    <tr>\n",
       "      <th>22</th>\n",
       "      <td>58.567648</td>\n",
       "      <td>59.198924</td>\n",
       "      <td>0.631277</td>\n",
       "    </tr>\n",
       "    <tr>\n",
       "      <th>23</th>\n",
       "      <td>56.603897</td>\n",
       "      <td>58.566033</td>\n",
       "      <td>1.962136</td>\n",
       "    </tr>\n",
       "    <tr>\n",
       "      <th>24</th>\n",
       "      <td>58.139353</td>\n",
       "      <td>59.552069</td>\n",
       "      <td>1.412716</td>\n",
       "    </tr>\n",
       "    <tr>\n",
       "      <th>25</th>\n",
       "      <td>58.913324</td>\n",
       "      <td>61.173166</td>\n",
       "      <td>2.259842</td>\n",
       "    </tr>\n",
       "    <tr>\n",
       "      <th>26</th>\n",
       "      <td>59.316798</td>\n",
       "      <td>60.904257</td>\n",
       "      <td>1.587459</td>\n",
       "    </tr>\n",
       "    <tr>\n",
       "      <th>27</th>\n",
       "      <td>58.447147</td>\n",
       "      <td>60.882609</td>\n",
       "      <td>2.435462</td>\n",
       "    </tr>\n",
       "    <tr>\n",
       "      <th>28</th>\n",
       "      <td>59.308198</td>\n",
       "      <td>61.411848</td>\n",
       "      <td>2.103650</td>\n",
       "    </tr>\n",
       "    <tr>\n",
       "      <th>29</th>\n",
       "      <td>57.072376</td>\n",
       "      <td>58.143834</td>\n",
       "      <td>1.071458</td>\n",
       "    </tr>\n",
       "    <tr>\n",
       "      <th>...</th>\n",
       "      <td>...</td>\n",
       "      <td>...</td>\n",
       "      <td>...</td>\n",
       "    </tr>\n",
       "    <tr>\n",
       "      <th>70</th>\n",
       "      <td>57.769278</td>\n",
       "      <td>59.981885</td>\n",
       "      <td>2.212607</td>\n",
       "    </tr>\n",
       "    <tr>\n",
       "      <th>71</th>\n",
       "      <td>58.953911</td>\n",
       "      <td>59.812502</td>\n",
       "      <td>0.858591</td>\n",
       "    </tr>\n",
       "    <tr>\n",
       "      <th>72</th>\n",
       "      <td>60.998167</td>\n",
       "      <td>60.440893</td>\n",
       "      <td>-0.557274</td>\n",
       "    </tr>\n",
       "    <tr>\n",
       "      <th>73</th>\n",
       "      <td>58.803840</td>\n",
       "      <td>59.326083</td>\n",
       "      <td>0.522242</td>\n",
       "    </tr>\n",
       "    <tr>\n",
       "      <th>74</th>\n",
       "      <td>56.647103</td>\n",
       "      <td>59.189834</td>\n",
       "      <td>2.542731</td>\n",
       "    </tr>\n",
       "    <tr>\n",
       "      <th>75</th>\n",
       "      <td>58.787633</td>\n",
       "      <td>59.126394</td>\n",
       "      <td>0.338762</td>\n",
       "    </tr>\n",
       "    <tr>\n",
       "      <th>76</th>\n",
       "      <td>58.234889</td>\n",
       "      <td>59.821908</td>\n",
       "      <td>1.587020</td>\n",
       "    </tr>\n",
       "    <tr>\n",
       "      <th>77</th>\n",
       "      <td>61.640888</td>\n",
       "      <td>62.427961</td>\n",
       "      <td>0.787073</td>\n",
       "    </tr>\n",
       "    <tr>\n",
       "      <th>78</th>\n",
       "      <td>57.691134</td>\n",
       "      <td>59.527469</td>\n",
       "      <td>1.836334</td>\n",
       "    </tr>\n",
       "    <tr>\n",
       "      <th>79</th>\n",
       "      <td>56.960371</td>\n",
       "      <td>59.470167</td>\n",
       "      <td>2.509796</td>\n",
       "    </tr>\n",
       "    <tr>\n",
       "      <th>80</th>\n",
       "      <td>58.953065</td>\n",
       "      <td>59.532085</td>\n",
       "      <td>0.579020</td>\n",
       "    </tr>\n",
       "    <tr>\n",
       "      <th>81</th>\n",
       "      <td>58.248119</td>\n",
       "      <td>59.653773</td>\n",
       "      <td>1.405654</td>\n",
       "    </tr>\n",
       "    <tr>\n",
       "      <th>82</th>\n",
       "      <td>57.304859</td>\n",
       "      <td>59.934329</td>\n",
       "      <td>2.629471</td>\n",
       "    </tr>\n",
       "    <tr>\n",
       "      <th>83</th>\n",
       "      <td>57.614197</td>\n",
       "      <td>59.193449</td>\n",
       "      <td>1.579253</td>\n",
       "    </tr>\n",
       "    <tr>\n",
       "      <th>84</th>\n",
       "      <td>60.867176</td>\n",
       "      <td>61.144750</td>\n",
       "      <td>0.277574</td>\n",
       "    </tr>\n",
       "    <tr>\n",
       "      <th>85</th>\n",
       "      <td>60.424723</td>\n",
       "      <td>60.137316</td>\n",
       "      <td>-0.287407</td>\n",
       "    </tr>\n",
       "    <tr>\n",
       "      <th>86</th>\n",
       "      <td>57.632140</td>\n",
       "      <td>58.360453</td>\n",
       "      <td>0.728313</td>\n",
       "    </tr>\n",
       "    <tr>\n",
       "      <th>87</th>\n",
       "      <td>57.658329</td>\n",
       "      <td>58.638970</td>\n",
       "      <td>0.980641</td>\n",
       "    </tr>\n",
       "    <tr>\n",
       "      <th>88</th>\n",
       "      <td>57.835314</td>\n",
       "      <td>59.853104</td>\n",
       "      <td>2.017790</td>\n",
       "    </tr>\n",
       "    <tr>\n",
       "      <th>89</th>\n",
       "      <td>59.482840</td>\n",
       "      <td>61.219688</td>\n",
       "      <td>1.736848</td>\n",
       "    </tr>\n",
       "    <tr>\n",
       "      <th>90</th>\n",
       "      <td>58.458346</td>\n",
       "      <td>60.701174</td>\n",
       "      <td>2.242828</td>\n",
       "    </tr>\n",
       "    <tr>\n",
       "      <th>91</th>\n",
       "      <td>58.978335</td>\n",
       "      <td>60.751343</td>\n",
       "      <td>1.773009</td>\n",
       "    </tr>\n",
       "    <tr>\n",
       "      <th>92</th>\n",
       "      <td>59.140467</td>\n",
       "      <td>58.820605</td>\n",
       "      <td>-0.319862</td>\n",
       "    </tr>\n",
       "    <tr>\n",
       "      <th>93</th>\n",
       "      <td>58.451797</td>\n",
       "      <td>58.019320</td>\n",
       "      <td>-0.432477</td>\n",
       "    </tr>\n",
       "    <tr>\n",
       "      <th>94</th>\n",
       "      <td>56.772361</td>\n",
       "      <td>59.871908</td>\n",
       "      <td>3.099547</td>\n",
       "    </tr>\n",
       "    <tr>\n",
       "      <th>95</th>\n",
       "      <td>59.148996</td>\n",
       "      <td>59.692264</td>\n",
       "      <td>0.543268</td>\n",
       "    </tr>\n",
       "    <tr>\n",
       "      <th>96</th>\n",
       "      <td>61.522639</td>\n",
       "      <td>60.913204</td>\n",
       "      <td>-0.609435</td>\n",
       "    </tr>\n",
       "    <tr>\n",
       "      <th>97</th>\n",
       "      <td>59.086853</td>\n",
       "      <td>60.827492</td>\n",
       "      <td>1.740639</td>\n",
       "    </tr>\n",
       "    <tr>\n",
       "      <th>98</th>\n",
       "      <td>58.557734</td>\n",
       "      <td>60.512260</td>\n",
       "      <td>1.954526</td>\n",
       "    </tr>\n",
       "    <tr>\n",
       "      <th>99</th>\n",
       "      <td>59.145892</td>\n",
       "      <td>59.365168</td>\n",
       "      <td>0.219277</td>\n",
       "    </tr>\n",
       "  </tbody>\n",
       "</table>\n",
       "<p>100 rows × 3 columns</p>\n",
       "</div>"
      ],
      "text/plain": [
       "    weight_after  weight_before  weight_change\n",
       "0      57.006240      60.294854       3.288614\n",
       "1      59.195722      60.508038       1.312316\n",
       "2      59.864078      60.704740       0.840662\n",
       "3      59.435102      60.826131       1.391028\n",
       "4      60.193747      62.135452       1.941705\n",
       "5      58.347267      59.432162       1.084895\n",
       "6      60.476824      60.735234       0.258410\n",
       "7      57.469703      59.030005       1.560302\n",
       "8      57.698392      60.694236       2.995844\n",
       "9      60.560296      61.371332       0.811036\n",
       "10     58.432090      58.498458       0.066369\n",
       "11     59.322109      60.466498       1.144390\n",
       "12     59.235337      61.482768       2.247430\n",
       "13     61.106218      61.730708       0.624490\n",
       "14     57.160900      59.195593       2.034693\n",
       "15     56.892405      57.865425       0.973019\n",
       "16     58.392245      59.500736       1.108492\n",
       "17     58.867247      59.947433       1.080186\n",
       "18     58.938077      59.598322       0.660244\n",
       "19     58.223270      59.584845       1.361575\n",
       "20     57.341738      58.660539       1.318801\n",
       "21     58.793641      58.745233      -0.048408\n",
       "22     58.567648      59.198924       0.631277\n",
       "23     56.603897      58.566033       1.962136\n",
       "24     58.139353      59.552069       1.412716\n",
       "25     58.913324      61.173166       2.259842\n",
       "26     59.316798      60.904257       1.587459\n",
       "27     58.447147      60.882609       2.435462\n",
       "28     59.308198      61.411848       2.103650\n",
       "29     57.072376      58.143834       1.071458\n",
       "..           ...            ...            ...\n",
       "70     57.769278      59.981885       2.212607\n",
       "71     58.953911      59.812502       0.858591\n",
       "72     60.998167      60.440893      -0.557274\n",
       "73     58.803840      59.326083       0.522242\n",
       "74     56.647103      59.189834       2.542731\n",
       "75     58.787633      59.126394       0.338762\n",
       "76     58.234889      59.821908       1.587020\n",
       "77     61.640888      62.427961       0.787073\n",
       "78     57.691134      59.527469       1.836334\n",
       "79     56.960371      59.470167       2.509796\n",
       "80     58.953065      59.532085       0.579020\n",
       "81     58.248119      59.653773       1.405654\n",
       "82     57.304859      59.934329       2.629471\n",
       "83     57.614197      59.193449       1.579253\n",
       "84     60.867176      61.144750       0.277574\n",
       "85     60.424723      60.137316      -0.287407\n",
       "86     57.632140      58.360453       0.728313\n",
       "87     57.658329      58.638970       0.980641\n",
       "88     57.835314      59.853104       2.017790\n",
       "89     59.482840      61.219688       1.736848\n",
       "90     58.458346      60.701174       2.242828\n",
       "91     58.978335      60.751343       1.773009\n",
       "92     59.140467      58.820605      -0.319862\n",
       "93     58.451797      58.019320      -0.432477\n",
       "94     56.772361      59.871908       3.099547\n",
       "95     59.148996      59.692264       0.543268\n",
       "96     61.522639      60.913204      -0.609435\n",
       "97     59.086853      60.827492       1.740639\n",
       "98     58.557734      60.512260       1.954526\n",
       "99     59.145892      59.365168       0.219277\n",
       "\n",
       "[100 rows x 3 columns]"
      ]
     },
     "execution_count": 14,
     "metadata": {},
     "output_type": "execute_result"
    }
   ],
   "source": [
    "weight_df"
   ]
  },
  {
   "cell_type": "markdown",
   "metadata": {},
   "source": [
    "## type 1/type 2错误"
   ]
  },
  {
   "cell_type": "markdown",
   "metadata": {},
   "source": [
    "假设检验是反证法的思想，依据样本统计量作出的统计推断，其推断结论并非绝对正确，结论有时也可能有错误，错误分为两类。<br/>\n",
    "\n",
    "* 第一类错误（typeⅠerror），Ⅰ型错误，拒绝了实际上成立的H0，，即错误地判为有差别，这种弃真的错误称为Ⅰ型错误。其概率大小用即检验水准用α表示。α可取单尾也可取双尾。假设检验时可根据研究目的来确定其大小，一般取0．05，当拒绝H0时则理论上理论100次检验中平均有5次发生这样的错误．。\n",
    "* 第二类错误（typeⅡ error）。Ⅱ型错误，接受了实际上不成立的H0 ，也就是错误地判为无差别，这类取伪的错误称为第二类错误。第二类错误的概率用β表示，β的大小很难确切估计。当样本例数固定时，α愈小，β愈大；反之，α愈大，β愈小。因而可通过选定α控制β大小。要同时减小α和β，唯有增加样本例数。统计上将1－β称为检验效能或把握度（power of a test），即两个总体确有差别存在，而以α为检验水准，假设检验能发现它们有差别的能力。实际工作中应权衡两类错误中哪一个重要以选择检验水准的大小。"
   ]
  },
  {
   "cell_type": "markdown",
   "metadata": {},
   "source": [
    "> 在下面使用 **`stats.norm.pdf`** 的时候，其中的参数： **`loc`** 表示的**均值** ；而连一个参数 **`scale`** 表示的是**标准差** 。"
   ]
  },
  {
   "cell_type": "code",
   "execution_count": 25,
   "metadata": {},
   "outputs": [
    {
     "data": {
      "text/plain": [
       "Text(0,0.02,'Type 2 Error')"
      ]
     },
     "execution_count": 25,
     "metadata": {},
     "output_type": "execute_result"
    },
    {
     "data": {
      "image/png": "[encoded data removed]",
      "text/plain": [
       "<matplotlib.figure.Figure at 0x1165a6b00>"
      ]
     },
     "metadata": {},
     "output_type": "display_data"
    }
   ],
   "source": [
    "plt.figure(figsize=(12,10))\n",
    "plt.fill_between(x=np.arange(-4,-2,0.01), y1=stats.norm.pdf(np.arange(-4,-2,0.01)), facecolor='red', alpha=0.35)\n",
    "plt.fill_between(x=np.arange(-2,2,0.01), y1=stats.norm.pdf(np.arange(-2,2,0.01)), facecolor='white', alpha=0.35, edgecolor='black')\n",
    "plt.fill_between(x=np.arange(2,4,0.01), y1=stats.norm.pdf(np.arange(2,4,0.01)), facecolor='red', alpha=0.35)\n",
    "plt.fill_between(x=np.arange(-4,-2,0.01), y1=stats.norm.pdf(np.arange(-4,-2,0.01), loc=3, scale=2), facecolor='white', alpha=0.35, edgecolor='black')\n",
    "plt.fill_between(x=np.arange(-2,2,0.01), y1=stats.norm.pdf(np.arange(-2,2,0.01), loc=3, scale=2), facecolor='blue',alpha=0.35)\n",
    "plt.fill_between(x=np.arange(2,10,0.01), y1=stats.norm.pdf(np.arange(2,10,0.01), loc=3, scale=2), facecolor='white', alpha=0.35, edgecolor='black')\n",
    "plt.text(x=-0.8, y=0.15, s=\"Null Hypothesis\")\n",
    "plt.text(x=2.5,y=0.13, s=\"Alternative\")\n",
    "plt.text(x=2.1, y=0.01, s=\"Type 1 Error\")\n",
    "plt.text(x=-3.2, y=0.01, s=\"Type 1 Error\")\n",
    "plt.text(x=0, y=0.02, s=\"Type 2 Error\")"
   ]
  },
  {
   "cell_type": "code",
   "execution_count": 26,
   "metadata": {},
   "outputs": [
    {
     "data": {
      "text/plain": [
       "0.29495606111232298"
      ]
     },
     "execution_count": 26,
     "metadata": {},
     "output_type": "execute_result"
    }
   ],
   "source": [
    "# Lower cutoff value\n",
    "lower_quantile = stats.norm.ppf(0.025)\n",
    "# Upper cutoff value\n",
    "upper_quantile = stats.norm.ppf(0.975)\n",
    "\n",
    "# Area under alternative\n",
    "low = stats.norm.cdf(lower_quantile, loc=3, scale=2)\n",
    "high = stats.norm.cdf(upper_quantile, loc=3, scale=2)\n",
    "high - low"
   ]
  },
  {
   "cell_type": "code",
   "execution_count": null,
   "metadata": {},
   "outputs": [],
   "source": []
  }
 ],
 "metadata": {
  "kernelspec": {
   "display_name": "Python 3",
   "language": "python",
   "name": "python3"
  },
  "language_info": {
   "codemirror_mode": {
    "name": "ipython",
    "version": 3
   },
   "file_extension": ".py",
   "mimetype": "text/x-python",
   "name": "python",
   "nbconvert_exporter": "python",
   "pygments_lexer": "ipython3",
   "version": "3.6.4"
  }
 },
 "nbformat": 4,
 "nbformat_minor": 2
}
