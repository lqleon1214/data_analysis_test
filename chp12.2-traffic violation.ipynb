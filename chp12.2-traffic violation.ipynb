{
 "cells": [
  {
   "cell_type": "code",
   "execution_count": 1,
   "metadata": {},
   "outputs": [],
   "source": [
    "import pandas as pd\n",
    "import numpy as np\n",
    "\n",
    "import matplotlib.pyplot as plt\n",
    "%matplotlib inline"
   ]
  },
  {
   "cell_type": "code",
   "execution_count": 2,
   "metadata": {},
   "outputs": [],
   "source": [
    "#https://catalog.data.gov/dataset/traffic-violations-56dda  \n",
    "#https://github.com/python-visualization/folium"
   ]
  },
  {
   "cell_type": "code",
   "execution_count": 2,
   "metadata": {},
   "outputs": [],
   "source": [
    "stops = pd.read_csv('./data/traffic-violation.csv')"
   ]
  },
  {
   "cell_type": "code",
   "execution_count": 3,
   "metadata": {},
   "outputs": [
    {
     "data": {
      "text/html": [
       "<div>\n",
       "<style scoped>\n",
       "    .dataframe tbody tr th:only-of-type {\n",
       "        vertical-align: middle;\n",
       "    }\n",
       "\n",
       "    .dataframe tbody tr th {\n",
       "        vertical-align: top;\n",
       "    }\n",
       "\n",
       "    .dataframe thead th {\n",
       "        text-align: right;\n",
       "    }\n",
       "</style>\n",
       "<table border=\"1\" class=\"dataframe\">\n",
       "  <thead>\n",
       "    <tr style=\"text-align: right;\">\n",
       "      <th></th>\n",
       "      <th>date_of_stop</th>\n",
       "      <th>time_of_stop</th>\n",
       "      <th>agency</th>\n",
       "      <th>subagency</th>\n",
       "      <th>description</th>\n",
       "      <th>location</th>\n",
       "      <th>latitude</th>\n",
       "      <th>longitude</th>\n",
       "      <th>vehicle_type</th>\n",
       "      <th>year</th>\n",
       "      <th>make</th>\n",
       "      <th>model</th>\n",
       "      <th>color</th>\n",
       "      <th>violation_type</th>\n",
       "      <th>race</th>\n",
       "      <th>gender</th>\n",
       "      <th>driver_state</th>\n",
       "      <th>driver_city</th>\n",
       "      <th>dl_state</th>\n",
       "      <th>arrest_type</th>\n",
       "    </tr>\n",
       "  </thead>\n",
       "  <tbody>\n",
       "    <tr>\n",
       "      <th>0</th>\n",
       "      <td>2016-11-23T00:00:00</td>\n",
       "      <td>10:56:00</td>\n",
       "      <td>MCP</td>\n",
       "      <td>2nd district, Bethesda</td>\n",
       "      <td>DRIVING MOTOR VEHICLE ON HIGHWAY WITHOUT REQUI...</td>\n",
       "      <td>355 @ 410</td>\n",
       "      <td>38.984470</td>\n",
       "      <td>-77.094138</td>\n",
       "      <td>28 - Other</td>\n",
       "      <td>0.0</td>\n",
       "      <td>00</td>\n",
       "      <td>SCOOTER</td>\n",
       "      <td>GREEN</td>\n",
       "      <td>Citation</td>\n",
       "      <td>WHITE</td>\n",
       "      <td>M</td>\n",
       "      <td>DC</td>\n",
       "      <td>WASHINGTON</td>\n",
       "      <td>DC</td>\n",
       "      <td>A - Marked Patrol</td>\n",
       "    </tr>\n",
       "    <tr>\n",
       "      <th>1</th>\n",
       "      <td>2016-11-23T00:00:00</td>\n",
       "      <td>13:36:00</td>\n",
       "      <td>MCP</td>\n",
       "      <td>5th district, Germantown</td>\n",
       "      <td>DRIVER WHEN TURNING LEFT FAIL TO YIELD RIGHT O...</td>\n",
       "      <td>FREDERICK RD/SHAKESPEARE BLVD</td>\n",
       "      <td>39.198538</td>\n",
       "      <td>-77.244758</td>\n",
       "      <td>02 - Automobile</td>\n",
       "      <td>2005.0</td>\n",
       "      <td>HONDA</td>\n",
       "      <td>ACCORD</td>\n",
       "      <td>WHITE</td>\n",
       "      <td>Citation</td>\n",
       "      <td>OTHER</td>\n",
       "      <td>F</td>\n",
       "      <td>MD</td>\n",
       "      <td>FREDERICK</td>\n",
       "      <td>MD</td>\n",
       "      <td>A - Marked Patrol</td>\n",
       "    </tr>\n",
       "    <tr>\n",
       "      <th>2</th>\n",
       "      <td>2016-11-23T00:00:00</td>\n",
       "      <td>14:16:00</td>\n",
       "      <td>MCP</td>\n",
       "      <td>3rd district, Silver Spring</td>\n",
       "      <td>DRIVING VEHICLE ON HIGHWAY WITH SUSPENDED REGI...</td>\n",
       "      <td>S/B 29 @ BLACKBURN RD</td>\n",
       "      <td>39.104683</td>\n",
       "      <td>-76.933665</td>\n",
       "      <td>02 - Automobile</td>\n",
       "      <td>2012.0</td>\n",
       "      <td>HOND</td>\n",
       "      <td>2S</td>\n",
       "      <td>WHITE</td>\n",
       "      <td>Citation</td>\n",
       "      <td>WHITE</td>\n",
       "      <td>F</td>\n",
       "      <td>MD</td>\n",
       "      <td>COLUMBIA</td>\n",
       "      <td>MD</td>\n",
       "      <td>A - Marked Patrol</td>\n",
       "    </tr>\n",
       "    <tr>\n",
       "      <th>3</th>\n",
       "      <td>2016-11-23T00:00:00</td>\n",
       "      <td>16:45:00</td>\n",
       "      <td>MCP</td>\n",
       "      <td>5th district, Germantown</td>\n",
       "      <td>FRAUD IN USE OF MVA ID CARD</td>\n",
       "      <td>RIVER RD &amp; FALLS RD</td>\n",
       "      <td>NaN</td>\n",
       "      <td>NaN</td>\n",
       "      <td>02 - Automobile</td>\n",
       "      <td>2016.0</td>\n",
       "      <td>FORD</td>\n",
       "      <td>FUSION</td>\n",
       "      <td>SILVER</td>\n",
       "      <td>Citation</td>\n",
       "      <td>BLACK</td>\n",
       "      <td>M</td>\n",
       "      <td>MD</td>\n",
       "      <td>BELTSVILLE</td>\n",
       "      <td>MD</td>\n",
       "      <td>B - Unmarked Patrol</td>\n",
       "    </tr>\n",
       "    <tr>\n",
       "      <th>4</th>\n",
       "      <td>2016-11-23T00:00:00</td>\n",
       "      <td>16:45:00</td>\n",
       "      <td>MCP</td>\n",
       "      <td>5th district, Germantown</td>\n",
       "      <td>POSSESSING MORE THAN ONE DRIVER'S LICENSE AT A...</td>\n",
       "      <td>RIVER RD &amp; FALLS RD</td>\n",
       "      <td>NaN</td>\n",
       "      <td>NaN</td>\n",
       "      <td>02 - Automobile</td>\n",
       "      <td>2016.0</td>\n",
       "      <td>FORD</td>\n",
       "      <td>FUSION</td>\n",
       "      <td>SILVER</td>\n",
       "      <td>Citation</td>\n",
       "      <td>BLACK</td>\n",
       "      <td>M</td>\n",
       "      <td>MD</td>\n",
       "      <td>BELTSVILLE</td>\n",
       "      <td>MD</td>\n",
       "      <td>B - Unmarked Patrol</td>\n",
       "    </tr>\n",
       "  </tbody>\n",
       "</table>\n",
       "</div>"
      ],
      "text/plain": [
       "          date_of_stop time_of_stop agency                    subagency  \\\n",
       "0  2016-11-23T00:00:00     10:56:00    MCP       2nd district, Bethesda   \n",
       "1  2016-11-23T00:00:00     13:36:00    MCP     5th district, Germantown   \n",
       "2  2016-11-23T00:00:00     14:16:00    MCP  3rd district, Silver Spring   \n",
       "3  2016-11-23T00:00:00     16:45:00    MCP     5th district, Germantown   \n",
       "4  2016-11-23T00:00:00     16:45:00    MCP     5th district, Germantown   \n",
       "\n",
       "                                         description  \\\n",
       "0  DRIVING MOTOR VEHICLE ON HIGHWAY WITHOUT REQUI...   \n",
       "1  DRIVER WHEN TURNING LEFT FAIL TO YIELD RIGHT O...   \n",
       "2  DRIVING VEHICLE ON HIGHWAY WITH SUSPENDED REGI...   \n",
       "3                        FRAUD IN USE OF MVA ID CARD   \n",
       "4  POSSESSING MORE THAN ONE DRIVER'S LICENSE AT A...   \n",
       "\n",
       "                        location   latitude  longitude     vehicle_type  \\\n",
       "0                      355 @ 410  38.984470 -77.094138       28 - Other   \n",
       "1  FREDERICK RD/SHAKESPEARE BLVD  39.198538 -77.244758  02 - Automobile   \n",
       "2          S/B 29 @ BLACKBURN RD  39.104683 -76.933665  02 - Automobile   \n",
       "3            RIVER RD & FALLS RD        NaN        NaN  02 - Automobile   \n",
       "4            RIVER RD & FALLS RD        NaN        NaN  02 - Automobile   \n",
       "\n",
       "     year   make    model   color violation_type   race gender driver_state  \\\n",
       "0     0.0     00  SCOOTER   GREEN       Citation  WHITE      M           DC   \n",
       "1  2005.0  HONDA   ACCORD   WHITE       Citation  OTHER      F           MD   \n",
       "2  2012.0   HOND       2S   WHITE       Citation  WHITE      F           MD   \n",
       "3  2016.0   FORD   FUSION  SILVER       Citation  BLACK      M           MD   \n",
       "4  2016.0   FORD   FUSION  SILVER       Citation  BLACK      M           MD   \n",
       "\n",
       "  driver_city dl_state          arrest_type  \n",
       "0  WASHINGTON       DC    A - Marked Patrol  \n",
       "1   FREDERICK       MD    A - Marked Patrol  \n",
       "2    COLUMBIA       MD    A - Marked Patrol  \n",
       "3  BELTSVILLE       MD  B - Unmarked Patrol  \n",
       "4  BELTSVILLE       MD  B - Unmarked Patrol  "
      ]
     },
     "execution_count": 3,
     "metadata": {},
     "output_type": "execute_result"
    }
   ],
   "source": [
    "stops.head()"
   ]
  },
  {
   "cell_type": "code",
   "execution_count": 4,
   "metadata": {},
   "outputs": [
    {
     "data": {
      "text/plain": [
       "(154287, 20)"
      ]
     },
     "execution_count": 4,
     "metadata": {},
     "output_type": "execute_result"
    }
   ],
   "source": [
    "stops.shape"
   ]
  },
  {
   "cell_type": "code",
   "execution_count": 5,
   "metadata": {},
   "outputs": [
    {
     "data": {
      "text/plain": [
       "BLACK          31640\n",
       "SILVER         28416\n",
       "WHITE          24837\n",
       "GRAY           16996\n",
       "RED            11952\n",
       "BLUE           11037\n",
       "GOLD            5020\n",
       "GREEN           4808\n",
       "BLUE, DARK      3566\n",
       "TAN             3098\n",
       "MAROON          2434\n",
       "BLUE, LIGHT     2036\n",
       "BEIGE           1558\n",
       "GREEN, DK       1488\n",
       "GREEN, LGT       771\n",
       "BROWN            709\n",
       "YELLOW           611\n",
       "ORANGE           478\n",
       "BRONZE           384\n",
       "PURPLE           335\n",
       "MULTICOLOR       148\n",
       "CREAM             90\n",
       "COPPER            63\n",
       "PINK              13\n",
       "CAMOUFLAGE         2\n",
       "CHROME             2\n",
       "Name: color, dtype: int64"
      ]
     },
     "execution_count": 5,
     "metadata": {},
     "output_type": "execute_result"
    }
   ],
   "source": [
    "stops['color'].value_counts()"
   ]
  },
  {
   "cell_type": "code",
   "execution_count": 6,
   "metadata": {},
   "outputs": [
    {
     "data": {
      "text/plain": [
       "A - Marked Patrol                         126935\n",
       "Q - Marked Laser                           14050\n",
       "B - Unmarked Patrol                         5628\n",
       "G - Marked Moving Radar (Stationary)        1251\n",
       "L - Motorcycle                              1232\n",
       "E - Marked Stationary Radar                 1224\n",
       "O - Foot Patrol                             1131\n",
       "S - License Plate Recognition                873\n",
       "I - Marked Moving Radar (Moving)             486\n",
       "R - Unmarked Laser                           473\n",
       "H - Unmarked Moving Radar (Stationary)       350\n",
       "M - Marked (Off-Duty)                        230\n",
       "J - Unmarked Moving Radar (Moving)           162\n",
       "F - Unmarked Stationary Radar                154\n",
       "C - Marked VASCAR                             39\n",
       "P - Mounted Patrol                            32\n",
       "N - Unmarked (Off-Duty)                       23\n",
       "D - Unmarked VASCAR                           11\n",
       "K - Aircraft Assist                            3\n",
       "Name: arrest_type, dtype: int64"
      ]
     },
     "execution_count": 6,
     "metadata": {},
     "output_type": "execute_result"
    }
   ],
   "source": [
    "stops['arrest_type'].value_counts()"
   ]
  },
  {
   "cell_type": "code",
   "execution_count": 48,
   "metadata": {},
   "outputs": [],
   "source": [
    "def parse_float(x):\n",
    "    try:\n",
    "#         if x == np.nan:\n",
    "#             x = 0\n",
    "#         else:\n",
    "        x = float(x)\n",
    "    except:\n",
    "        x = 0\n",
    "    return x\n",
    "stops['longitude'] = stops['longitude'].apply(parse_float)\n",
    "stops['latitude'] = stops['latitude'].apply(parse_float)"
   ]
  },
  {
   "cell_type": "code",
   "execution_count": 23,
   "metadata": {},
   "outputs": [
    {
     "name": "stdout",
     "output_type": "stream",
     "text": [
      "<class 'pandas.core.frame.DataFrame'>\n",
      "RangeIndex: 154287 entries, 0 to 154286\n",
      "Data columns (total 21 columns):\n",
      "date_of_stop      154287 non-null object\n",
      "time_of_stop      154287 non-null object\n",
      "agency            154287 non-null object\n",
      "subagency         154287 non-null object\n",
      "description       154287 non-null object\n",
      "location          154287 non-null object\n",
      "latitude          145004 non-null float64\n",
      "longitude         145004 non-null float64\n",
      "vehicle_type      154287 non-null object\n",
      "year              153302 non-null float64\n",
      "make              154263 non-null object\n",
      "model             154262 non-null object\n",
      "color             152492 non-null object\n",
      "violation_type    154287 non-null object\n",
      "race              154287 non-null object\n",
      "gender            154287 non-null object\n",
      "driver_state      154287 non-null object\n",
      "driver_city       154277 non-null object\n",
      "dl_state          154287 non-null object\n",
      "arrest_type       154287 non-null object\n",
      "date              154287 non-null datetime64[ns]\n",
      "dtypes: datetime64[ns](1), float64(3), object(17)\n",
      "memory usage: 24.7+ MB\n"
     ]
    }
   ],
   "source": [
    "stops.info()"
   ]
  },
  {
   "cell_type": "code",
   "execution_count": 44,
   "metadata": {},
   "outputs": [],
   "source": [
    "import datetime\n",
    "def parse_full_date(row):\n",
    "    date = datetime.datetime.strptime(row['date_of_stop'], '%Y-%m-%dT%H:%M:%S')\n",
    "    time = row['time_of_stop'].split(':')\n",
    "    date = date.replace(hour=int(time[0]), minute=int(time[1]), second=int(time[2]))\n",
    "    return date\n",
    "\n",
    "stops['date'] = stops.apply(parse_full_date, axis=1)"
   ]
  },
  {
   "cell_type": "markdown",
   "metadata": {},
   "source": [
    "> 时间结构的数据可以通过 **`该对象的dt.weekday`** 得出相对应的时间序列"
   ]
  },
  {
   "cell_type": "markdown",
   "metadata": {},
   "source": [
    "> ### 按星期进行分析"
   ]
  },
  {
   "cell_type": "code",
   "execution_count": 25,
   "metadata": {},
   "outputs": [
    {
     "data": {
      "text/plain": [
       "(array([ 19870.,  27963.,  25624.,  23636.,  23953.,  33241.]),\n",
       " array([ 0.,  1.,  2.,  3.,  4.,  5.,  6.]),\n",
       " <a list of 6 Patch objects>)"
      ]
     },
     "execution_count": 25,
     "metadata": {},
     "output_type": "execute_result"
    },
    {
     "data": {
      "image/png": "[encoded data removed]",
      "text/plain": [
       "<matplotlib.figure.Figure at 0x115b88be0>"
      ]
     },
     "metadata": {},
     "output_type": "display_data"
    }
   ],
   "source": [
    "plt.hist(stops['date'].dt.weekday, bins=6)"
   ]
  },
  {
   "cell_type": "markdown",
   "metadata": {},
   "source": [
    "> ### 按小时进行分析"
   ]
  },
  {
   "cell_type": "code",
   "execution_count": 26,
   "metadata": {},
   "outputs": [
    {
     "data": {
      "text/plain": [
       "(array([  9347.,   7207.,   5815.,   3518.,   2170.,   1252.,   2678.,\n",
       "          5539.,   7814.,   6920.,   6848.,   5657.,   5085.,   5682.,\n",
       "          5772.,   5284.,   7737.,   7765.,   5932.,   5501.,   6154.,\n",
       "          9334.,  12879.,  12397.]),\n",
       " array([  0.        ,   0.95833333,   1.91666667,   2.875     ,\n",
       "          3.83333333,   4.79166667,   5.75      ,   6.70833333,\n",
       "          7.66666667,   8.625     ,   9.58333333,  10.54166667,\n",
       "         11.5       ,  12.45833333,  13.41666667,  14.375     ,\n",
       "         15.33333333,  16.29166667,  17.25      ,  18.20833333,\n",
       "         19.16666667,  20.125     ,  21.08333333,  22.04166667,  23.        ]),\n",
       " <a list of 24 Patch objects>)"
      ]
     },
     "execution_count": 26,
     "metadata": {},
     "output_type": "execute_result"
    },
    {
     "data": {
      "image/png": "[encoded data removed]",
      "text/plain": [
       "<matplotlib.figure.Figure at 0x114e8b550>"
      ]
     },
     "metadata": {},
     "output_type": "display_data"
    }
   ],
   "source": [
    "plt.hist(stops['date'].dt.hour, bins=24)"
   ]
  },
  {
   "cell_type": "markdown",
   "metadata": {},
   "source": [
    "## 对数据进行过滤，只分析去年的"
   ]
  },
  {
   "cell_type": "code",
   "execution_count": 49,
   "metadata": {},
   "outputs": [],
   "source": [
    "last_year = stops[stops['date'] > datetime.datetime(year=2015, month=2, day=18)]"
   ]
  },
  {
   "cell_type": "code",
   "execution_count": 28,
   "metadata": {},
   "outputs": [
    {
     "data": {
      "text/html": [
       "<div>\n",
       "<style scoped>\n",
       "    .dataframe tbody tr th:only-of-type {\n",
       "        vertical-align: middle;\n",
       "    }\n",
       "\n",
       "    .dataframe tbody tr th {\n",
       "        vertical-align: top;\n",
       "    }\n",
       "\n",
       "    .dataframe thead th {\n",
       "        text-align: right;\n",
       "    }\n",
       "</style>\n",
       "<table border=\"1\" class=\"dataframe\">\n",
       "  <thead>\n",
       "    <tr style=\"text-align: right;\">\n",
       "      <th></th>\n",
       "      <th>date_of_stop</th>\n",
       "      <th>time_of_stop</th>\n",
       "      <th>agency</th>\n",
       "      <th>subagency</th>\n",
       "      <th>description</th>\n",
       "      <th>location</th>\n",
       "      <th>latitude</th>\n",
       "      <th>longitude</th>\n",
       "      <th>vehicle_type</th>\n",
       "      <th>year</th>\n",
       "      <th>...</th>\n",
       "      <th>model</th>\n",
       "      <th>color</th>\n",
       "      <th>violation_type</th>\n",
       "      <th>race</th>\n",
       "      <th>gender</th>\n",
       "      <th>driver_state</th>\n",
       "      <th>driver_city</th>\n",
       "      <th>dl_state</th>\n",
       "      <th>arrest_type</th>\n",
       "      <th>date</th>\n",
       "    </tr>\n",
       "  </thead>\n",
       "  <tbody>\n",
       "    <tr>\n",
       "      <th>0</th>\n",
       "      <td>2016-11-23T00:00:00</td>\n",
       "      <td>10:56:00</td>\n",
       "      <td>MCP</td>\n",
       "      <td>2nd district, Bethesda</td>\n",
       "      <td>DRIVING MOTOR VEHICLE ON HIGHWAY WITHOUT REQUI...</td>\n",
       "      <td>355 @ 410</td>\n",
       "      <td>38.984470</td>\n",
       "      <td>-77.094138</td>\n",
       "      <td>28 - Other</td>\n",
       "      <td>0.0</td>\n",
       "      <td>...</td>\n",
       "      <td>SCOOTER</td>\n",
       "      <td>GREEN</td>\n",
       "      <td>Citation</td>\n",
       "      <td>WHITE</td>\n",
       "      <td>M</td>\n",
       "      <td>DC</td>\n",
       "      <td>WASHINGTON</td>\n",
       "      <td>DC</td>\n",
       "      <td>A - Marked Patrol</td>\n",
       "      <td>2016-11-23 10:56:00</td>\n",
       "    </tr>\n",
       "    <tr>\n",
       "      <th>1</th>\n",
       "      <td>2016-11-23T00:00:00</td>\n",
       "      <td>13:36:00</td>\n",
       "      <td>MCP</td>\n",
       "      <td>5th district, Germantown</td>\n",
       "      <td>DRIVER WHEN TURNING LEFT FAIL TO YIELD RIGHT O...</td>\n",
       "      <td>FREDERICK RD/SHAKESPEARE BLVD</td>\n",
       "      <td>39.198538</td>\n",
       "      <td>-77.244758</td>\n",
       "      <td>02 - Automobile</td>\n",
       "      <td>2005.0</td>\n",
       "      <td>...</td>\n",
       "      <td>ACCORD</td>\n",
       "      <td>WHITE</td>\n",
       "      <td>Citation</td>\n",
       "      <td>OTHER</td>\n",
       "      <td>F</td>\n",
       "      <td>MD</td>\n",
       "      <td>FREDERICK</td>\n",
       "      <td>MD</td>\n",
       "      <td>A - Marked Patrol</td>\n",
       "      <td>2016-11-23 13:36:00</td>\n",
       "    </tr>\n",
       "    <tr>\n",
       "      <th>2</th>\n",
       "      <td>2016-11-23T00:00:00</td>\n",
       "      <td>14:16:00</td>\n",
       "      <td>MCP</td>\n",
       "      <td>3rd district, Silver Spring</td>\n",
       "      <td>DRIVING VEHICLE ON HIGHWAY WITH SUSPENDED REGI...</td>\n",
       "      <td>S/B 29 @ BLACKBURN RD</td>\n",
       "      <td>39.104683</td>\n",
       "      <td>-76.933665</td>\n",
       "      <td>02 - Automobile</td>\n",
       "      <td>2012.0</td>\n",
       "      <td>...</td>\n",
       "      <td>2S</td>\n",
       "      <td>WHITE</td>\n",
       "      <td>Citation</td>\n",
       "      <td>WHITE</td>\n",
       "      <td>F</td>\n",
       "      <td>MD</td>\n",
       "      <td>COLUMBIA</td>\n",
       "      <td>MD</td>\n",
       "      <td>A - Marked Patrol</td>\n",
       "      <td>2016-11-23 14:16:00</td>\n",
       "    </tr>\n",
       "    <tr>\n",
       "      <th>3</th>\n",
       "      <td>2016-11-23T00:00:00</td>\n",
       "      <td>16:45:00</td>\n",
       "      <td>MCP</td>\n",
       "      <td>5th district, Germantown</td>\n",
       "      <td>FRAUD IN USE OF MVA ID CARD</td>\n",
       "      <td>RIVER RD &amp; FALLS RD</td>\n",
       "      <td>NaN</td>\n",
       "      <td>NaN</td>\n",
       "      <td>02 - Automobile</td>\n",
       "      <td>2016.0</td>\n",
       "      <td>...</td>\n",
       "      <td>FUSION</td>\n",
       "      <td>SILVER</td>\n",
       "      <td>Citation</td>\n",
       "      <td>BLACK</td>\n",
       "      <td>M</td>\n",
       "      <td>MD</td>\n",
       "      <td>BELTSVILLE</td>\n",
       "      <td>MD</td>\n",
       "      <td>B - Unmarked Patrol</td>\n",
       "      <td>2016-11-23 16:45:00</td>\n",
       "    </tr>\n",
       "    <tr>\n",
       "      <th>4</th>\n",
       "      <td>2016-11-23T00:00:00</td>\n",
       "      <td>16:45:00</td>\n",
       "      <td>MCP</td>\n",
       "      <td>5th district, Germantown</td>\n",
       "      <td>POSSESSING MORE THAN ONE DRIVER'S LICENSE AT A...</td>\n",
       "      <td>RIVER RD &amp; FALLS RD</td>\n",
       "      <td>NaN</td>\n",
       "      <td>NaN</td>\n",
       "      <td>02 - Automobile</td>\n",
       "      <td>2016.0</td>\n",
       "      <td>...</td>\n",
       "      <td>FUSION</td>\n",
       "      <td>SILVER</td>\n",
       "      <td>Citation</td>\n",
       "      <td>BLACK</td>\n",
       "      <td>M</td>\n",
       "      <td>MD</td>\n",
       "      <td>BELTSVILLE</td>\n",
       "      <td>MD</td>\n",
       "      <td>B - Unmarked Patrol</td>\n",
       "      <td>2016-11-23 16:45:00</td>\n",
       "    </tr>\n",
       "  </tbody>\n",
       "</table>\n",
       "<p>5 rows × 21 columns</p>\n",
       "</div>"
      ],
      "text/plain": [
       "          date_of_stop time_of_stop agency                    subagency  \\\n",
       "0  2016-11-23T00:00:00     10:56:00    MCP       2nd district, Bethesda   \n",
       "1  2016-11-23T00:00:00     13:36:00    MCP     5th district, Germantown   \n",
       "2  2016-11-23T00:00:00     14:16:00    MCP  3rd district, Silver Spring   \n",
       "3  2016-11-23T00:00:00     16:45:00    MCP     5th district, Germantown   \n",
       "4  2016-11-23T00:00:00     16:45:00    MCP     5th district, Germantown   \n",
       "\n",
       "                                         description  \\\n",
       "0  DRIVING MOTOR VEHICLE ON HIGHWAY WITHOUT REQUI...   \n",
       "1  DRIVER WHEN TURNING LEFT FAIL TO YIELD RIGHT O...   \n",
       "2  DRIVING VEHICLE ON HIGHWAY WITH SUSPENDED REGI...   \n",
       "3                        FRAUD IN USE OF MVA ID CARD   \n",
       "4  POSSESSING MORE THAN ONE DRIVER'S LICENSE AT A...   \n",
       "\n",
       "                        location   latitude  longitude     vehicle_type  \\\n",
       "0                      355 @ 410  38.984470 -77.094138       28 - Other   \n",
       "1  FREDERICK RD/SHAKESPEARE BLVD  39.198538 -77.244758  02 - Automobile   \n",
       "2          S/B 29 @ BLACKBURN RD  39.104683 -76.933665  02 - Automobile   \n",
       "3            RIVER RD & FALLS RD        NaN        NaN  02 - Automobile   \n",
       "4            RIVER RD & FALLS RD        NaN        NaN  02 - Automobile   \n",
       "\n",
       "     year         ...            model   color violation_type   race gender  \\\n",
       "0     0.0         ...          SCOOTER   GREEN       Citation  WHITE      M   \n",
       "1  2005.0         ...           ACCORD   WHITE       Citation  OTHER      F   \n",
       "2  2012.0         ...               2S   WHITE       Citation  WHITE      F   \n",
       "3  2016.0         ...           FUSION  SILVER       Citation  BLACK      M   \n",
       "4  2016.0         ...           FUSION  SILVER       Citation  BLACK      M   \n",
       "\n",
       "  driver_state driver_city dl_state          arrest_type                date  \n",
       "0           DC  WASHINGTON       DC    A - Marked Patrol 2016-11-23 10:56:00  \n",
       "1           MD   FREDERICK       MD    A - Marked Patrol 2016-11-23 13:36:00  \n",
       "2           MD    COLUMBIA       MD    A - Marked Patrol 2016-11-23 14:16:00  \n",
       "3           MD  BELTSVILLE       MD  B - Unmarked Patrol 2016-11-23 16:45:00  \n",
       "4           MD  BELTSVILLE       MD  B - Unmarked Patrol 2016-11-23 16:45:00  \n",
       "\n",
       "[5 rows x 21 columns]"
      ]
     },
     "execution_count": 28,
     "metadata": {},
     "output_type": "execute_result"
    }
   ],
   "source": [
    "last_year.head()"
   ]
  },
  {
   "cell_type": "code",
   "execution_count": 29,
   "metadata": {},
   "outputs": [
    {
     "data": {
      "text/html": [
       "<div>\n",
       "<style scoped>\n",
       "    .dataframe tbody tr th:only-of-type {\n",
       "        vertical-align: middle;\n",
       "    }\n",
       "\n",
       "    .dataframe tbody tr th {\n",
       "        vertical-align: top;\n",
       "    }\n",
       "\n",
       "    .dataframe thead th {\n",
       "        text-align: right;\n",
       "    }\n",
       "</style>\n",
       "<table border=\"1\" class=\"dataframe\">\n",
       "  <thead>\n",
       "    <tr style=\"text-align: right;\">\n",
       "      <th></th>\n",
       "      <th>date_of_stop</th>\n",
       "      <th>time_of_stop</th>\n",
       "      <th>agency</th>\n",
       "      <th>subagency</th>\n",
       "      <th>description</th>\n",
       "      <th>location</th>\n",
       "      <th>latitude</th>\n",
       "      <th>longitude</th>\n",
       "      <th>vehicle_type</th>\n",
       "      <th>year</th>\n",
       "      <th>...</th>\n",
       "      <th>model</th>\n",
       "      <th>color</th>\n",
       "      <th>violation_type</th>\n",
       "      <th>race</th>\n",
       "      <th>gender</th>\n",
       "      <th>driver_state</th>\n",
       "      <th>driver_city</th>\n",
       "      <th>dl_state</th>\n",
       "      <th>arrest_type</th>\n",
       "      <th>date</th>\n",
       "    </tr>\n",
       "  </thead>\n",
       "  <tbody>\n",
       "    <tr>\n",
       "      <th>154282</th>\n",
       "      <td>2016-11-23T00:00:00</td>\n",
       "      <td>08:23:00</td>\n",
       "      <td>MCP</td>\n",
       "      <td>2nd district, Bethesda</td>\n",
       "      <td>STOP LIGHTS (*)</td>\n",
       "      <td>S/B OLD GEORGETOWN RD @ TUCKERMAN LN</td>\n",
       "      <td>39.033128</td>\n",
       "      <td>-77.125722</td>\n",
       "      <td>02 - Automobile</td>\n",
       "      <td>2005.0</td>\n",
       "      <td>...</td>\n",
       "      <td>4S</td>\n",
       "      <td>BLUE, DARK</td>\n",
       "      <td>ESERO</td>\n",
       "      <td>HISPANIC</td>\n",
       "      <td>F</td>\n",
       "      <td>MD</td>\n",
       "      <td>ROCKVILLE</td>\n",
       "      <td>MD</td>\n",
       "      <td>A - Marked Patrol</td>\n",
       "      <td>2016-11-23 08:23:00</td>\n",
       "    </tr>\n",
       "    <tr>\n",
       "      <th>154283</th>\n",
       "      <td>2016-11-23T00:00:00</td>\n",
       "      <td>03:10:00</td>\n",
       "      <td>MCP</td>\n",
       "      <td>4th district, Wheaton</td>\n",
       "      <td>STOP LIGHTS (*)</td>\n",
       "      <td>VEIRS MILL/CONNECTICUT</td>\n",
       "      <td>39.052153</td>\n",
       "      <td>-77.075378</td>\n",
       "      <td>02 - Automobile</td>\n",
       "      <td>2007.0</td>\n",
       "      <td>...</td>\n",
       "      <td>TK</td>\n",
       "      <td>SILVER</td>\n",
       "      <td>ESERO</td>\n",
       "      <td>HISPANIC</td>\n",
       "      <td>M</td>\n",
       "      <td>MD</td>\n",
       "      <td>TAKOMA PARK</td>\n",
       "      <td>MD</td>\n",
       "      <td>A - Marked Patrol</td>\n",
       "      <td>2016-11-23 03:10:00</td>\n",
       "    </tr>\n",
       "    <tr>\n",
       "      <th>154284</th>\n",
       "      <td>2016-11-23T00:00:00</td>\n",
       "      <td>01:46:00</td>\n",
       "      <td>MCP</td>\n",
       "      <td>5th district, Germantown</td>\n",
       "      <td>HEADLIGHTS (*)</td>\n",
       "      <td>CENTURY BLVD @ AIRCRAFT DR</td>\n",
       "      <td>39.184027</td>\n",
       "      <td>-77.262855</td>\n",
       "      <td>02 - Automobile</td>\n",
       "      <td>2004.0</td>\n",
       "      <td>...</td>\n",
       "      <td>4S</td>\n",
       "      <td>RED</td>\n",
       "      <td>ESERO</td>\n",
       "      <td>WHITE</td>\n",
       "      <td>M</td>\n",
       "      <td>MD</td>\n",
       "      <td>BOYDS</td>\n",
       "      <td>MD</td>\n",
       "      <td>A - Marked Patrol</td>\n",
       "      <td>2016-11-23 01:46:00</td>\n",
       "    </tr>\n",
       "    <tr>\n",
       "      <th>154285</th>\n",
       "      <td>2016-11-23T00:00:00</td>\n",
       "      <td>01:51:00</td>\n",
       "      <td>MCP</td>\n",
       "      <td>5th district, Germantown</td>\n",
       "      <td>STOP LIGHTS (*)</td>\n",
       "      <td>OLD W BALTIMORE RD / 355</td>\n",
       "      <td>39.215440</td>\n",
       "      <td>-77.254230</td>\n",
       "      <td>02 - Automobile</td>\n",
       "      <td>2009.0</td>\n",
       "      <td>...</td>\n",
       "      <td>TK</td>\n",
       "      <td>RED</td>\n",
       "      <td>ESERO</td>\n",
       "      <td>BLACK</td>\n",
       "      <td>F</td>\n",
       "      <td>MD</td>\n",
       "      <td>BOYDS</td>\n",
       "      <td>MD</td>\n",
       "      <td>A - Marked Patrol</td>\n",
       "      <td>2016-11-23 01:51:00</td>\n",
       "    </tr>\n",
       "    <tr>\n",
       "      <th>154286</th>\n",
       "      <td>2016-11-23T00:00:00</td>\n",
       "      <td>04:14:00</td>\n",
       "      <td>MCP</td>\n",
       "      <td>2nd district, Bethesda</td>\n",
       "      <td>HEADLIGHTS (*)</td>\n",
       "      <td>OLD GEORGETOWN RD @ W CEDAR LN</td>\n",
       "      <td>39.005005</td>\n",
       "      <td>-77.110842</td>\n",
       "      <td>02 - Automobile</td>\n",
       "      <td>2004.0</td>\n",
       "      <td>...</td>\n",
       "      <td>PRIUS</td>\n",
       "      <td>SILVER</td>\n",
       "      <td>ESERO</td>\n",
       "      <td>BLACK</td>\n",
       "      <td>M</td>\n",
       "      <td>MD</td>\n",
       "      <td>COLUMBIA</td>\n",
       "      <td>MD</td>\n",
       "      <td>A - Marked Patrol</td>\n",
       "      <td>2016-11-23 04:14:00</td>\n",
       "    </tr>\n",
       "  </tbody>\n",
       "</table>\n",
       "<p>5 rows × 21 columns</p>\n",
       "</div>"
      ],
      "text/plain": [
       "               date_of_stop time_of_stop agency                 subagency  \\\n",
       "154282  2016-11-23T00:00:00     08:23:00    MCP    2nd district, Bethesda   \n",
       "154283  2016-11-23T00:00:00     03:10:00    MCP     4th district, Wheaton   \n",
       "154284  2016-11-23T00:00:00     01:46:00    MCP  5th district, Germantown   \n",
       "154285  2016-11-23T00:00:00     01:51:00    MCP  5th district, Germantown   \n",
       "154286  2016-11-23T00:00:00     04:14:00    MCP    2nd district, Bethesda   \n",
       "\n",
       "            description                              location   latitude  \\\n",
       "154282  STOP LIGHTS (*)  S/B OLD GEORGETOWN RD @ TUCKERMAN LN  39.033128   \n",
       "154283  STOP LIGHTS (*)                VEIRS MILL/CONNECTICUT  39.052153   \n",
       "154284   HEADLIGHTS (*)            CENTURY BLVD @ AIRCRAFT DR  39.184027   \n",
       "154285  STOP LIGHTS (*)              OLD W BALTIMORE RD / 355  39.215440   \n",
       "154286   HEADLIGHTS (*)        OLD GEORGETOWN RD @ W CEDAR LN  39.005005   \n",
       "\n",
       "        longitude     vehicle_type    year         ...          model  \\\n",
       "154282 -77.125722  02 - Automobile  2005.0         ...             4S   \n",
       "154283 -77.075378  02 - Automobile  2007.0         ...             TK   \n",
       "154284 -77.262855  02 - Automobile  2004.0         ...             4S   \n",
       "154285 -77.254230  02 - Automobile  2009.0         ...             TK   \n",
       "154286 -77.110842  02 - Automobile  2004.0         ...          PRIUS   \n",
       "\n",
       "             color violation_type      race gender driver_state  driver_city  \\\n",
       "154282  BLUE, DARK          ESERO  HISPANIC      F           MD    ROCKVILLE   \n",
       "154283      SILVER          ESERO  HISPANIC      M           MD  TAKOMA PARK   \n",
       "154284         RED          ESERO     WHITE      M           MD        BOYDS   \n",
       "154285         RED          ESERO     BLACK      F           MD        BOYDS   \n",
       "154286      SILVER          ESERO     BLACK      M           MD     COLUMBIA   \n",
       "\n",
       "       dl_state        arrest_type                date  \n",
       "154282       MD  A - Marked Patrol 2016-11-23 08:23:00  \n",
       "154283       MD  A - Marked Patrol 2016-11-23 03:10:00  \n",
       "154284       MD  A - Marked Patrol 2016-11-23 01:46:00  \n",
       "154285       MD  A - Marked Patrol 2016-11-23 01:51:00  \n",
       "154286       MD  A - Marked Patrol 2016-11-23 04:14:00  \n",
       "\n",
       "[5 rows x 21 columns]"
      ]
     },
     "execution_count": 29,
     "metadata": {},
     "output_type": "execute_result"
    }
   ],
   "source": [
    "last_year.tail()"
   ]
  },
  {
   "cell_type": "code",
   "execution_count": 50,
   "metadata": {},
   "outputs": [
    {
     "name": "stdout",
     "output_type": "stream",
     "text": [
      "(20330, 21)\n"
     ]
    },
    {
     "data": {
      "text/plain": [
       "(154287, 21)"
      ]
     },
     "execution_count": 50,
     "metadata": {},
     "output_type": "execute_result"
    }
   ],
   "source": [
    "morning_rush = last_year[(last_year['date'].dt.weekday < 5) & (last_year['date'].dt.hour > 5) & (last_year['date'].dt.hour < 10)]\n",
    "print(morning_rush.shape)\n",
    "last_year.shape"
   ]
  },
  {
   "cell_type": "code",
   "execution_count": 31,
   "metadata": {},
   "outputs": [
    {
     "name": "stdout",
     "output_type": "stream",
     "text": [
      "[-77.0900083333333, 38.973541666666705]\n"
     ]
    }
   ],
   "source": [
    "for name, row in morning_rush.iloc[:1].iterrows():\n",
    "    print([row['longitude'], row['latitude']])"
   ]
  },
  {
   "cell_type": "code",
   "execution_count": 41,
   "metadata": {},
   "outputs": [
    {
     "data": {
      "text/html": [
       "<div style=\"width:100%;\"><div style=\"position:relative;width:100%;height:0;padding-bottom:60%;\"><iframe src=\"data:text/html;charset=utf-8;base64,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\" style=\"position:absolute;width:100%;height:100%;left:0;top:0;border:none !important;\" allowfullscreen webkitallowfullscreen mozallowfullscreen></iframe></div></div>"
      ],
      "text/plain": [
       "<folium.folium.Map at 0x105b3db00>"
      ]
     },
     "execution_count": 41,
     "metadata": {},
     "output_type": "execute_result"
    }
   ],
   "source": [
    "#! pip install folium\n",
    "import folium\n",
    "from folium import plugins\n",
    "\n",
    "stops_map = folium.Map(location=[39.0836, -77.1483], zoom_start=11)\n",
    "# marker_cluster = folium.().add_to(stops_map)\n",
    "for name, row in morning_rush.iloc[:1].iterrows():\n",
    "    folium.Marker([row[\"latitude\"],row[\"longitude\"]], popup=row[\"description\"]).add_to(stops_map)\n",
    "# stops_map.save('stops.html')\n",
    "stops_map"
   ]
  },
  {
   "cell_type": "code",
   "execution_count": 52,
   "metadata": {},
   "outputs": [
    {
     "name": "stderr",
     "output_type": "stream",
     "text": [
      "/Library/Frameworks/Python.framework/Versions/3.6/lib/python3.6/site-packages/ipykernel_launcher.py:2: FutureWarning: Method `add_children` is deprecated. Please use `add_child` instead.\n",
      "  \n"
     ]
    },
    {
     "data": {
      "text/html": [
       "<div style=\"width:100%;\"><div style=\"position:relative;width:100%;height:0;padding-bottom:60%;\"><iframe src=\"data:text/html;charset=utf-8;base64,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\" style=\"position:absolute;width:100%;height:100%;left:0;top:0;border:none !important;\" allowfullscreen webkitallowfullscreen mozallowfullscreen></iframe></div></div>"
      ],
      "text/plain": [
       "<folium.folium.Map at 0x115ac79e8>"
      ]
     },
     "execution_count": 52,
     "metadata": {},
     "output_type": "execute_result"
    }
   ],
   "source": [
    "stops_heatmap = folium.Map(location=[39.0836, -77.1483], zoom_start=11)\n",
    "stops_heatmap.add_children(plugins.HeatMap([[row['latitude'], row['longitude']] for name, row in morning_rush.dropna().iloc[:1000].iterrows()]))\n",
    "stops_heatmap.save('heatmap.html')\n",
    "stops_heatmap"
   ]
  },
  {
   "cell_type": "code",
   "execution_count": null,
   "metadata": {},
   "outputs": [],
   "source": []
  }
 ],
 "metadata": {
  "kernelspec": {
   "display_name": "Python 3",
   "language": "python",
   "name": "python3"
  },
  "language_info": {
   "codemirror_mode": {
    "name": "ipython",
    "version": 3
   },
   "file_extension": ".py",
   "mimetype": "text/x-python",
   "name": "python",
   "nbconvert_exporter": "python",
   "pygments_lexer": "ipython3",
   "version": "3.6.4"
  }
 },
 "nbformat": 4,
 "nbformat_minor": 2
}
