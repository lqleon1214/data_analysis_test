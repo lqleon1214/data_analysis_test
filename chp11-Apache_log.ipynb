{
 "cells": [
  {
   "cell_type": "code",
   "execution_count": 1,
   "metadata": {},
   "outputs": [],
   "source": [
    "import numpy as np\n",
    "import pandas as pd\n",
    "import matplotlib.pyplot as plt\n",
    "#! pip install apache-log-parser \n",
    "import apache_log_parser\n",
    "%matplotlib inline"
   ]
  },
  {
   "cell_type": "markdown",
   "metadata": {},
   "source": [
    "## Load and parse the data\n",
    "本案例参考 Nikolay Koldunov（koldunovn@gmail.com）文章完成"
   ]
  },
  {
   "cell_type": "markdown",
   "metadata": {},
   "source": [
    "我们使用[apache-log-parser](https://github.com/rory/apache-log-parser)进行apalce log分析。log解析前我们需要了解对应的网站的Apahce log的配置。 这里我们已经知道待分析网站的log格式为:  \n",
    "    \n",
    "    format = r'%V %h  %l %u %t \\\"%r\\\" %>s %b \\\"%{Referer}i\\\" \\\"%{User-Agent}i\\\" %T'\n",
    "    \n",
    "对应的各字段代表内容如下：(参考[stackoverflow](http://stackoverflow.com/questions/9234699/understanding-apache-access-log)):\n",
    "        \n",
    "    %V  - 根据 UseCanonicalName 设置的服务器名字\n",
    "    %h  - 远程主机（客户端 IP）\n",
    "    %l  - identity of the user determined by identd (not usually used since not reliable)\n",
    "    %u  - 由 HTTP authentication 决定的 user name\n",
    "    %t  - 服务器完成处理这个请求的时间\n",
    "    %r  - 来自客户端的请求行。 （\"GET / HTTP/1.0\"）\n",
    "    %>s - 服务器端返回给客户端的状态码（200， 404 等等。）\n",
    "    %b  - 响应给客户端的响应报文大小 （in bytes）\n",
    "    \\\"%{Referer}i\\\"  - Referer is the page that linked to this URL.\n",
    "    \\\"%{User-Agent}i\\\"  - the browser identification string\n",
    "    %T  - Apache 请求时间"
   ]
  },
  {
   "cell_type": "code",
   "execution_count": 15,
   "metadata": {},
   "outputs": [],
   "source": [
    "# 这个地方是要使用的log的日志的格式\n",
    "fformat = '%V %h %l %u %t \\\"%r\\\" %>s %b \\\"%{Referer}i\\\" \\\"%{User-Agent}i\\\" %T'"
   ]
  },
  {
   "cell_type": "markdown",
   "metadata": {},
   "source": [
    "创建解析器"
   ]
  },
  {
   "cell_type": "code",
   "execution_count": 16,
   "metadata": {},
   "outputs": [],
   "source": [
    "p = apache_log_parser.make_parser(fformat)"
   ]
  },
  {
   "cell_type": "markdown",
   "metadata": {},
   "source": [
    "比如：\n",
    "        \n",
    "        koldunov.net 85.26.235.202 - - [16/Mar/2013:00:19:43 +0400] \"GET /?p=364 HTTP/1.0\" 200 65237 \"http://koldunov.net/?p=364\" \"Mozilla/5.0 (Windows NT 5.1) AppleWebKit/537.11 (KHTML, like Gecko) Chrome/23.0.1271.64 Safari/537.11\" 0"
   ]
  },
  {
   "cell_type": "code",
   "execution_count": 17,
   "metadata": {},
   "outputs": [],
   "source": [
    "sample_string = 'koldunov.net 85.26.235.202 - - [16/Mar/2013:00:19:43 +0400] \"GET /?p=364 HTTP/1.0\" 200 65237 \"http://koldunov.net/?p=364\" \"Mozilla/5.0 (Windows NT 5.1) AppleWebKit/537.11 (KHTML, like Gecko) Chrome/23.0.1271.64 Safari/537.11\" 0'"
   ]
  },
  {
   "cell_type": "code",
   "execution_count": 19,
   "metadata": {},
   "outputs": [],
   "source": [
    "data = p(sample_string)"
   ]
  },
  {
   "cell_type": "code",
   "execution_count": 20,
   "metadata": {},
   "outputs": [
    {
     "data": {
      "text/plain": [
       "{'remote_host': '85.26.235.202',\n",
       " 'remote_logname': '-',\n",
       " 'remote_user': '-',\n",
       " 'request_first_line': 'GET /?p=364 HTTP/1.0',\n",
       " 'request_header_referer': 'http://koldunov.net/?p=364',\n",
       " 'request_header_user_agent': 'Mozilla/5.0 (Windows NT 5.1) AppleWebKit/537.11 (KHTML, like Gecko) Chrome/23.0.1271.64 Safari/537.11',\n",
       " 'request_header_user_agent__browser__family': 'Chrome',\n",
       " 'request_header_user_agent__browser__version_string': '23.0.1271',\n",
       " 'request_header_user_agent__is_mobile': False,\n",
       " 'request_header_user_agent__os__family': 'Windows XP',\n",
       " 'request_header_user_agent__os__version_string': '',\n",
       " 'request_http_ver': '1.0',\n",
       " 'request_method': 'GET',\n",
       " 'request_url': '/?p=364',\n",
       " 'request_url_fragment': '',\n",
       " 'request_url_hostname': None,\n",
       " 'request_url_netloc': '',\n",
       " 'request_url_password': None,\n",
       " 'request_url_path': '/',\n",
       " 'request_url_port': None,\n",
       " 'request_url_query': 'p=364',\n",
       " 'request_url_query_dict': {'p': ['364']},\n",
       " 'request_url_query_list': [('p', '364')],\n",
       " 'request_url_query_simple_dict': {'p': '364'},\n",
       " 'request_url_scheme': '',\n",
       " 'request_url_username': None,\n",
       " 'response_bytes_clf': '65237',\n",
       " 'server_name2': 'koldunov.net',\n",
       " 'status': '200',\n",
       " 'time_received': '[16/Mar/2013:00:19:43 +0400]',\n",
       " 'time_received_datetimeobj': datetime.datetime(2013, 3, 16, 0, 19, 43),\n",
       " 'time_received_isoformat': '2013-03-16T00:19:43',\n",
       " 'time_received_tz_datetimeobj': datetime.datetime(2013, 3, 16, 0, 19, 43, tzinfo='0400'),\n",
       " 'time_received_tz_isoformat': '2013-03-16T00:19:43+04:00',\n",
       " 'time_received_utc_datetimeobj': datetime.datetime(2013, 3, 15, 20, 19, 43, tzinfo='0000'),\n",
       " 'time_received_utc_isoformat': '2013-03-15T20:19:43+00:00',\n",
       " 'time_s': ''}"
      ]
     },
     "execution_count": 20,
     "metadata": {},
     "output_type": "execute_result"
    }
   ],
   "source": [
    "data"
   ]
  },
  {
   "cell_type": "code",
   "execution_count": 2,
   "metadata": {},
   "outputs": [],
   "source": [
    "log = open('./data/apache_access_log').readlines()"
   ]
  },
  {
   "cell_type": "markdown",
   "metadata": {},
   "source": [
    "### 解析每一行，并创建dict list"
   ]
  },
  {
   "cell_type": "code",
   "execution_count": 21,
   "metadata": {},
   "outputs": [],
   "source": [
    "import sys\n",
    "\n",
    "log_list = []\n",
    "for line in log:\n",
    "    try:\n",
    "        data = p(line)\n",
    "    except:\n",
    "        sys.stderr.write('Unable to parse %s' % line)\n",
    "    data['time_received'] = data['time_received'][1:12] + ' ' + data['time_received'][13:21] + ' ' + data['time_received'][22:27]\n",
    "    \n",
    "    log_list.append(data)"
   ]
  },
  {
   "cell_type": "markdown",
   "metadata": {},
   "source": [
    "## 准备网站日志数据\n",
    "\n",
    "把字典转化为DataFrame"
   ]
  },
  {
   "cell_type": "code",
   "execution_count": 22,
   "metadata": {},
   "outputs": [],
   "source": [
    "df = pd.DataFrame(log_list)"
   ]
  },
  {
   "cell_type": "code",
   "execution_count": 23,
   "metadata": {},
   "outputs": [
    {
     "data": {
      "text/plain": [
       "Index(['remote_host', 'remote_logname', 'remote_user', 'request_first_line',\n",
       "       'request_header_referer', 'request_header_user_agent',\n",
       "       'request_header_user_agent__browser__family',\n",
       "       'request_header_user_agent__browser__version_string',\n",
       "       'request_header_user_agent__is_mobile',\n",
       "       'request_header_user_agent__os__family',\n",
       "       'request_header_user_agent__os__version_string', 'request_http_ver',\n",
       "       'request_method', 'request_url', 'request_url_fragment',\n",
       "       'request_url_hostname', 'request_url_netloc', 'request_url_password',\n",
       "       'request_url_path', 'request_url_port', 'request_url_query',\n",
       "       'request_url_query_dict', 'request_url_query_list',\n",
       "       'request_url_query_simple_dict', 'request_url_scheme',\n",
       "       'request_url_username', 'response_bytes_clf', 'server_name2', 'status',\n",
       "       'time_received', 'time_received_datetimeobj', 'time_received_isoformat',\n",
       "       'time_received_tz_datetimeobj', 'time_received_tz_isoformat',\n",
       "       'time_received_utc_datetimeobj', 'time_received_utc_isoformat',\n",
       "       'time_s'],\n",
       "      dtype='object')"
      ]
     },
     "execution_count": 23,
     "metadata": {},
     "output_type": "execute_result"
    }
   ],
   "source": [
    "df.columns"
   ]
  },
  {
   "cell_type": "code",
   "execution_count": 24,
   "metadata": {},
   "outputs": [],
   "source": [
    "df = df[['status', 'response_bytes_clf', 'remote_host', 'request_first_line', 'time_received']]"
   ]
  },
  {
   "cell_type": "code",
   "execution_count": 25,
   "metadata": {},
   "outputs": [
    {
     "data": {
      "text/html": [
       "<div>\n",
       "<style scoped>\n",
       "    .dataframe tbody tr th:only-of-type {\n",
       "        vertical-align: middle;\n",
       "    }\n",
       "\n",
       "    .dataframe tbody tr th {\n",
       "        vertical-align: top;\n",
       "    }\n",
       "\n",
       "    .dataframe thead th {\n",
       "        text-align: right;\n",
       "    }\n",
       "</style>\n",
       "<table border=\"1\" class=\"dataframe\">\n",
       "  <thead>\n",
       "    <tr style=\"text-align: right;\">\n",
       "      <th></th>\n",
       "      <th>status</th>\n",
       "      <th>response_bytes_clf</th>\n",
       "      <th>remote_host</th>\n",
       "      <th>request_first_line</th>\n",
       "      <th>time_received</th>\n",
       "    </tr>\n",
       "  </thead>\n",
       "  <tbody>\n",
       "    <tr>\n",
       "      <th>0</th>\n",
       "      <td>200</td>\n",
       "      <td>26126</td>\n",
       "      <td>109.165.31.156</td>\n",
       "      <td>GET /index.php?option=com_content&amp;task=section...</td>\n",
       "      <td>16/Mar/2013 08:00:25 +0400</td>\n",
       "    </tr>\n",
       "    <tr>\n",
       "      <th>1</th>\n",
       "      <td>200</td>\n",
       "      <td>10532</td>\n",
       "      <td>109.165.31.156</td>\n",
       "      <td>GET /templates/ja_procyon/css/template_css.css...</td>\n",
       "      <td>16/Mar/2013 08:00:25 +0400</td>\n",
       "    </tr>\n",
       "    <tr>\n",
       "      <th>2</th>\n",
       "      <td>200</td>\n",
       "      <td>1853</td>\n",
       "      <td>109.165.31.156</td>\n",
       "      <td>GET /templates/ja_procyon/switcher.js HTTP/1.0</td>\n",
       "      <td>16/Mar/2013 08:00:25 +0400</td>\n",
       "    </tr>\n",
       "    <tr>\n",
       "      <th>3</th>\n",
       "      <td>200</td>\n",
       "      <td>37153</td>\n",
       "      <td>109.165.31.156</td>\n",
       "      <td>GET /includes/js/overlib_mini.js HTTP/1.0</td>\n",
       "      <td>16/Mar/2013 08:00:25 +0400</td>\n",
       "    </tr>\n",
       "    <tr>\n",
       "      <th>4</th>\n",
       "      <td>200</td>\n",
       "      <td>3978</td>\n",
       "      <td>109.165.31.156</td>\n",
       "      <td>GET /modules/ja_transmenu/transmenuh.css HTTP/1.0</td>\n",
       "      <td>16/Mar/2013 08:00:25 +0400</td>\n",
       "    </tr>\n",
       "  </tbody>\n",
       "</table>\n",
       "</div>"
      ],
      "text/plain": [
       "  status response_bytes_clf     remote_host  \\\n",
       "0    200              26126  109.165.31.156   \n",
       "1    200              10532  109.165.31.156   \n",
       "2    200               1853  109.165.31.156   \n",
       "3    200              37153  109.165.31.156   \n",
       "4    200               3978  109.165.31.156   \n",
       "\n",
       "                                  request_first_line  \\\n",
       "0  GET /index.php?option=com_content&task=section...   \n",
       "1  GET /templates/ja_procyon/css/template_css.css...   \n",
       "2     GET /templates/ja_procyon/switcher.js HTTP/1.0   \n",
       "3          GET /includes/js/overlib_mini.js HTTP/1.0   \n",
       "4  GET /modules/ja_transmenu/transmenuh.css HTTP/1.0   \n",
       "\n",
       "                time_received  \n",
       "0  16/Mar/2013 08:00:25 +0400  \n",
       "1  16/Mar/2013 08:00:25 +0400  \n",
       "2  16/Mar/2013 08:00:25 +0400  \n",
       "3  16/Mar/2013 08:00:25 +0400  \n",
       "4  16/Mar/2013 08:00:25 +0400  "
      ]
     },
     "execution_count": 25,
     "metadata": {},
     "output_type": "execute_result"
    }
   ],
   "source": [
    "df.head()"
   ]
  },
  {
   "cell_type": "markdown",
   "metadata": {},
   "source": [
    "把time_received变成index，这里使用了pop"
   ]
  },
  {
   "cell_type": "code",
   "execution_count": null,
   "metadata": {},
   "outputs": [],
   "source": []
  }
 ],
 "metadata": {
  "kernelspec": {
   "display_name": "Python 3",
   "language": "python",
   "name": "python3"
  },
  "language_info": {
   "codemirror_mode": {
    "name": "ipython",
    "version": 3
   },
   "file_extension": ".py",
   "mimetype": "text/x-python",
   "name": "python",
   "nbconvert_exporter": "python",
   "pygments_lexer": "ipython3",
   "version": "3.6.4"
  }
 },
 "nbformat": 4,
 "nbformat_minor": 2
}
