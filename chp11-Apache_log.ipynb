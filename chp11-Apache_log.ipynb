{
 "cells": [
  {
   "cell_type": "code",
   "execution_count": 1,
   "metadata": {},
   "outputs": [],
   "source": [
    "import numpy as np\n",
    "import pandas as pd\n",
    "import matplotlib.pyplot as plt\n",
    "#! pip install apache-log-parser \n",
    "import apache_log_parser\n",
    "%matplotlib inline"
   ]
  },
  {
   "cell_type": "markdown",
   "metadata": {},
   "source": [
    "## Load and parse the data\n",
    "本案例参考 Nikolay Koldunov（koldunovn@gmail.com）文章完成"
   ]
  },
  {
   "cell_type": "markdown",
   "metadata": {},
   "source": [
    "我们使用[apache-log-parser](https://github.com/rory/apache-log-parser)进行apalce log分析。log解析前我们需要了解对应的网站的Apahce log的配置。 这里我们已经知道待分析网站的log格式为:  \n",
    "    \n",
    "    format = r'%V %h  %l %u %t \\\"%r\\\" %>s %b \\\"%{Referer}i\\\" \\\"%{User-Agent}i\\\" %T'\n",
    "    \n",
    "对应的各字段代表内容如下：(参考[stackoverflow](http://stackoverflow.com/questions/9234699/understanding-apache-access-log)):\n",
    "        \n",
    "    %V  - 根据 UseCanonicalName 设置的服务器名字\n",
    "    %h  - 远程主机（客户端 IP）\n",
    "    %l  - identity of the user determined by identd (not usually used since not reliable)\n",
    "    %u  - 由 HTTP authentication 决定的 user name\n",
    "    %t  - 服务器完成处理这个请求的时间\n",
    "    %r  - 来自客户端的请求行。 （\"GET / HTTP/1.0\"）\n",
    "    %>s - 服务器端返回给客户端的状态码（200， 404 等等。）\n",
    "    %b  - 响应给客户端的响应报文大小 （in bytes）\n",
    "    \\\"%{Referer}i\\\"  - Referer is the page that linked to this URL.\n",
    "    \\\"%{User-Agent}i\\\"  - the browser identification string\n",
    "    %T  - Apache 请求时间"
   ]
  },
  {
   "cell_type": "code",
   "execution_count": 2,
   "metadata": {},
   "outputs": [],
   "source": [
    "# 这个地方是要使用的log的日志的格式\n",
    "fformat = '%V %h %l %u %t \\\"%r\\\" %>s %b \\\"%{Referer}i\\\" \\\"%{User-Agent}i\\\" %T'"
   ]
  },
  {
   "cell_type": "markdown",
   "metadata": {},
   "source": [
    "创建解析器"
   ]
  },
  {
   "cell_type": "code",
   "execution_count": 3,
   "metadata": {},
   "outputs": [],
   "source": [
    "p = apache_log_parser.make_parser(fformat)"
   ]
  },
  {
   "cell_type": "markdown",
   "metadata": {},
   "source": [
    "比如：\n",
    "        \n",
    "        koldunov.net 85.26.235.202 - - [16/Mar/2013:00:19:43 +0400] \"GET /?p=364 HTTP/1.0\" 200 65237 \"http://koldunov.net/?p=364\" \"Mozilla/5.0 (Windows NT 5.1) AppleWebKit/537.11 (KHTML, like Gecko) Chrome/23.0.1271.64 Safari/537.11\" 0"
   ]
  },
  {
   "cell_type": "code",
   "execution_count": 4,
   "metadata": {},
   "outputs": [],
   "source": [
    "sample_string = 'koldunov.net 85.26.235.202 - - [16/Mar/2013:00:19:43 +0400] \"GET /?p=364 HTTP/1.0\" 200 65237 \"http://koldunov.net/?p=364\" \"Mozilla/5.0 (Windows NT 5.1) AppleWebKit/537.11 (KHTML, like Gecko) Chrome/23.0.1271.64 Safari/537.11\" 0'"
   ]
  },
  {
   "cell_type": "code",
   "execution_count": 5,
   "metadata": {},
   "outputs": [],
   "source": [
    "data = p(sample_string)"
   ]
  },
  {
   "cell_type": "code",
   "execution_count": 6,
   "metadata": {},
   "outputs": [
    {
     "data": {
      "text/plain": [
       "{'remote_host': '85.26.235.202',\n",
       " 'remote_logname': '-',\n",
       " 'remote_user': '-',\n",
       " 'request_first_line': 'GET /?p=364 HTTP/1.0',\n",
       " 'request_header_referer': 'http://koldunov.net/?p=364',\n",
       " 'request_header_user_agent': 'Mozilla/5.0 (Windows NT 5.1) AppleWebKit/537.11 (KHTML, like Gecko) Chrome/23.0.1271.64 Safari/537.11',\n",
       " 'request_header_user_agent__browser__family': 'Chrome',\n",
       " 'request_header_user_agent__browser__version_string': '23.0.1271',\n",
       " 'request_header_user_agent__is_mobile': False,\n",
       " 'request_header_user_agent__os__family': 'Windows XP',\n",
       " 'request_header_user_agent__os__version_string': '',\n",
       " 'request_http_ver': '1.0',\n",
       " 'request_method': 'GET',\n",
       " 'request_url': '/?p=364',\n",
       " 'request_url_fragment': '',\n",
       " 'request_url_hostname': None,\n",
       " 'request_url_netloc': '',\n",
       " 'request_url_password': None,\n",
       " 'request_url_path': '/',\n",
       " 'request_url_port': None,\n",
       " 'request_url_query': 'p=364',\n",
       " 'request_url_query_dict': {'p': ['364']},\n",
       " 'request_url_query_list': [('p', '364')],\n",
       " 'request_url_query_simple_dict': {'p': '364'},\n",
       " 'request_url_scheme': '',\n",
       " 'request_url_username': None,\n",
       " 'response_bytes_clf': '65237',\n",
       " 'server_name2': 'koldunov.net',\n",
       " 'status': '200',\n",
       " 'time_received': '[16/Mar/2013:00:19:43 +0400]',\n",
       " 'time_received_datetimeobj': datetime.datetime(2013, 3, 16, 0, 19, 43),\n",
       " 'time_received_isoformat': '2013-03-16T00:19:43',\n",
       " 'time_received_tz_datetimeobj': datetime.datetime(2013, 3, 16, 0, 19, 43, tzinfo='0400'),\n",
       " 'time_received_tz_isoformat': '2013-03-16T00:19:43+04:00',\n",
       " 'time_received_utc_datetimeobj': datetime.datetime(2013, 3, 15, 20, 19, 43, tzinfo='0000'),\n",
       " 'time_received_utc_isoformat': '2013-03-15T20:19:43+00:00',\n",
       " 'time_s': ''}"
      ]
     },
     "execution_count": 6,
     "metadata": {},
     "output_type": "execute_result"
    }
   ],
   "source": [
    "data"
   ]
  },
  {
   "cell_type": "code",
   "execution_count": 7,
   "metadata": {},
   "outputs": [],
   "source": [
    "log = open('./data/apache_access_log').readlines()"
   ]
  },
  {
   "cell_type": "markdown",
   "metadata": {},
   "source": [
    "### 解析每一行，并创建dict list"
   ]
  },
  {
   "cell_type": "code",
   "execution_count": 8,
   "metadata": {},
   "outputs": [],
   "source": [
    "import sys\n",
    "\n",
    "log_list = []\n",
    "for line in log:\n",
    "    try:\n",
    "        data = p(line)\n",
    "    except:\n",
    "        sys.stderr.write('Unable to parse %s' % line)\n",
    "    data['time_received'] = data['time_received'][1:12] + ' ' + data['time_received'][13:21] + ' ' + data['time_received'][22:27]\n",
    "    \n",
    "    log_list.append(data)"
   ]
  },
  {
   "cell_type": "markdown",
   "metadata": {},
   "source": [
    "## 准备网站日志数据\n",
    "\n",
    "把字典转化为DataFrame"
   ]
  },
  {
   "cell_type": "code",
   "execution_count": 9,
   "metadata": {},
   "outputs": [],
   "source": [
    "df = pd.DataFrame(log_list)"
   ]
  },
  {
   "cell_type": "code",
   "execution_count": 10,
   "metadata": {},
   "outputs": [
    {
     "data": {
      "text/plain": [
       "Index(['remote_host', 'remote_logname', 'remote_user', 'request_first_line',\n",
       "       'request_header_referer', 'request_header_user_agent',\n",
       "       'request_header_user_agent__browser__family',\n",
       "       'request_header_user_agent__browser__version_string',\n",
       "       'request_header_user_agent__is_mobile',\n",
       "       'request_header_user_agent__os__family',\n",
       "       'request_header_user_agent__os__version_string', 'request_http_ver',\n",
       "       'request_method', 'request_url', 'request_url_fragment',\n",
       "       'request_url_hostname', 'request_url_netloc', 'request_url_password',\n",
       "       'request_url_path', 'request_url_port', 'request_url_query',\n",
       "       'request_url_query_dict', 'request_url_query_list',\n",
       "       'request_url_query_simple_dict', 'request_url_scheme',\n",
       "       'request_url_username', 'response_bytes_clf', 'server_name2', 'status',\n",
       "       'time_received', 'time_received_datetimeobj', 'time_received_isoformat',\n",
       "       'time_received_tz_datetimeobj', 'time_received_tz_isoformat',\n",
       "       'time_received_utc_datetimeobj', 'time_received_utc_isoformat',\n",
       "       'time_s'],\n",
       "      dtype='object')"
      ]
     },
     "execution_count": 10,
     "metadata": {},
     "output_type": "execute_result"
    }
   ],
   "source": [
    "df.columns"
   ]
  },
  {
   "cell_type": "code",
   "execution_count": 11,
   "metadata": {},
   "outputs": [],
   "source": [
    "df = df[['status', 'response_bytes_clf', 'remote_host', 'request_first_line', 'time_received']]"
   ]
  },
  {
   "cell_type": "code",
   "execution_count": 12,
   "metadata": {},
   "outputs": [
    {
     "data": {
      "text/html": [
       "<div>\n",
       "<style scoped>\n",
       "    .dataframe tbody tr th:only-of-type {\n",
       "        vertical-align: middle;\n",
       "    }\n",
       "\n",
       "    .dataframe tbody tr th {\n",
       "        vertical-align: top;\n",
       "    }\n",
       "\n",
       "    .dataframe thead th {\n",
       "        text-align: right;\n",
       "    }\n",
       "</style>\n",
       "<table border=\"1\" class=\"dataframe\">\n",
       "  <thead>\n",
       "    <tr style=\"text-align: right;\">\n",
       "      <th></th>\n",
       "      <th>status</th>\n",
       "      <th>response_bytes_clf</th>\n",
       "      <th>remote_host</th>\n",
       "      <th>request_first_line</th>\n",
       "      <th>time_received</th>\n",
       "    </tr>\n",
       "  </thead>\n",
       "  <tbody>\n",
       "    <tr>\n",
       "      <th>0</th>\n",
       "      <td>200</td>\n",
       "      <td>26126</td>\n",
       "      <td>109.165.31.156</td>\n",
       "      <td>GET /index.php?option=com_content&amp;task=section...</td>\n",
       "      <td>16/Mar/2013 08:00:25 +0400</td>\n",
       "    </tr>\n",
       "    <tr>\n",
       "      <th>1</th>\n",
       "      <td>200</td>\n",
       "      <td>10532</td>\n",
       "      <td>109.165.31.156</td>\n",
       "      <td>GET /templates/ja_procyon/css/template_css.css...</td>\n",
       "      <td>16/Mar/2013 08:00:25 +0400</td>\n",
       "    </tr>\n",
       "    <tr>\n",
       "      <th>2</th>\n",
       "      <td>200</td>\n",
       "      <td>1853</td>\n",
       "      <td>109.165.31.156</td>\n",
       "      <td>GET /templates/ja_procyon/switcher.js HTTP/1.0</td>\n",
       "      <td>16/Mar/2013 08:00:25 +0400</td>\n",
       "    </tr>\n",
       "    <tr>\n",
       "      <th>3</th>\n",
       "      <td>200</td>\n",
       "      <td>37153</td>\n",
       "      <td>109.165.31.156</td>\n",
       "      <td>GET /includes/js/overlib_mini.js HTTP/1.0</td>\n",
       "      <td>16/Mar/2013 08:00:25 +0400</td>\n",
       "    </tr>\n",
       "    <tr>\n",
       "      <th>4</th>\n",
       "      <td>200</td>\n",
       "      <td>3978</td>\n",
       "      <td>109.165.31.156</td>\n",
       "      <td>GET /modules/ja_transmenu/transmenuh.css HTTP/1.0</td>\n",
       "      <td>16/Mar/2013 08:00:25 +0400</td>\n",
       "    </tr>\n",
       "  </tbody>\n",
       "</table>\n",
       "</div>"
      ],
      "text/plain": [
       "  status response_bytes_clf     remote_host  \\\n",
       "0    200              26126  109.165.31.156   \n",
       "1    200              10532  109.165.31.156   \n",
       "2    200               1853  109.165.31.156   \n",
       "3    200              37153  109.165.31.156   \n",
       "4    200               3978  109.165.31.156   \n",
       "\n",
       "                                  request_first_line  \\\n",
       "0  GET /index.php?option=com_content&task=section...   \n",
       "1  GET /templates/ja_procyon/css/template_css.css...   \n",
       "2     GET /templates/ja_procyon/switcher.js HTTP/1.0   \n",
       "3          GET /includes/js/overlib_mini.js HTTP/1.0   \n",
       "4  GET /modules/ja_transmenu/transmenuh.css HTTP/1.0   \n",
       "\n",
       "                time_received  \n",
       "0  16/Mar/2013 08:00:25 +0400  \n",
       "1  16/Mar/2013 08:00:25 +0400  \n",
       "2  16/Mar/2013 08:00:25 +0400  \n",
       "3  16/Mar/2013 08:00:25 +0400  \n",
       "4  16/Mar/2013 08:00:25 +0400  "
      ]
     },
     "execution_count": 12,
     "metadata": {},
     "output_type": "execute_result"
    }
   ],
   "source": [
    "df.head()"
   ]
  },
  {
   "cell_type": "markdown",
   "metadata": {},
   "source": [
    "把time_received变成index，这里使用了pop，把对应的列弹出并进行返回。"
   ]
  },
  {
   "cell_type": "code",
   "execution_count": 13,
   "metadata": {},
   "outputs": [],
   "source": [
    "df.index = pd.to_datetime(df.pop('time_received'))"
   ]
  },
  {
   "cell_type": "code",
   "execution_count": 14,
   "metadata": {},
   "outputs": [
    {
     "data": {
      "text/html": [
       "<div>\n",
       "<style scoped>\n",
       "    .dataframe tbody tr th:only-of-type {\n",
       "        vertical-align: middle;\n",
       "    }\n",
       "\n",
       "    .dataframe tbody tr th {\n",
       "        vertical-align: top;\n",
       "    }\n",
       "\n",
       "    .dataframe thead th {\n",
       "        text-align: right;\n",
       "    }\n",
       "</style>\n",
       "<table border=\"1\" class=\"dataframe\">\n",
       "  <thead>\n",
       "    <tr style=\"text-align: right;\">\n",
       "      <th></th>\n",
       "      <th>status</th>\n",
       "      <th>response_bytes_clf</th>\n",
       "      <th>remote_host</th>\n",
       "      <th>request_first_line</th>\n",
       "    </tr>\n",
       "    <tr>\n",
       "      <th>time_received</th>\n",
       "      <th></th>\n",
       "      <th></th>\n",
       "      <th></th>\n",
       "      <th></th>\n",
       "    </tr>\n",
       "  </thead>\n",
       "  <tbody>\n",
       "    <tr>\n",
       "      <th>2013-03-16 04:00:25</th>\n",
       "      <td>200</td>\n",
       "      <td>26126</td>\n",
       "      <td>109.165.31.156</td>\n",
       "      <td>GET /index.php?option=com_content&amp;task=section...</td>\n",
       "    </tr>\n",
       "    <tr>\n",
       "      <th>2013-03-16 04:00:25</th>\n",
       "      <td>200</td>\n",
       "      <td>10532</td>\n",
       "      <td>109.165.31.156</td>\n",
       "      <td>GET /templates/ja_procyon/css/template_css.css...</td>\n",
       "    </tr>\n",
       "    <tr>\n",
       "      <th>2013-03-16 04:00:25</th>\n",
       "      <td>200</td>\n",
       "      <td>1853</td>\n",
       "      <td>109.165.31.156</td>\n",
       "      <td>GET /templates/ja_procyon/switcher.js HTTP/1.0</td>\n",
       "    </tr>\n",
       "    <tr>\n",
       "      <th>2013-03-16 04:00:25</th>\n",
       "      <td>200</td>\n",
       "      <td>37153</td>\n",
       "      <td>109.165.31.156</td>\n",
       "      <td>GET /includes/js/overlib_mini.js HTTP/1.0</td>\n",
       "    </tr>\n",
       "    <tr>\n",
       "      <th>2013-03-16 04:00:25</th>\n",
       "      <td>200</td>\n",
       "      <td>3978</td>\n",
       "      <td>109.165.31.156</td>\n",
       "      <td>GET /modules/ja_transmenu/transmenuh.css HTTP/1.0</td>\n",
       "    </tr>\n",
       "  </tbody>\n",
       "</table>\n",
       "</div>"
      ],
      "text/plain": [
       "                    status response_bytes_clf     remote_host  \\\n",
       "time_received                                                   \n",
       "2013-03-16 04:00:25    200              26126  109.165.31.156   \n",
       "2013-03-16 04:00:25    200              10532  109.165.31.156   \n",
       "2013-03-16 04:00:25    200               1853  109.165.31.156   \n",
       "2013-03-16 04:00:25    200              37153  109.165.31.156   \n",
       "2013-03-16 04:00:25    200               3978  109.165.31.156   \n",
       "\n",
       "                                                    request_first_line  \n",
       "time_received                                                           \n",
       "2013-03-16 04:00:25  GET /index.php?option=com_content&task=section...  \n",
       "2013-03-16 04:00:25  GET /templates/ja_procyon/css/template_css.css...  \n",
       "2013-03-16 04:00:25     GET /templates/ja_procyon/switcher.js HTTP/1.0  \n",
       "2013-03-16 04:00:25          GET /includes/js/overlib_mini.js HTTP/1.0  \n",
       "2013-03-16 04:00:25  GET /modules/ja_transmenu/transmenuh.css HTTP/1.0  "
      ]
     },
     "execution_count": 14,
     "metadata": {},
     "output_type": "execute_result"
    }
   ],
   "source": [
    "df.head()"
   ]
  },
  {
   "cell_type": "code",
   "execution_count": 15,
   "metadata": {},
   "outputs": [
    {
     "name": "stdout",
     "output_type": "stream",
     "text": [
      "<class 'pandas.core.frame.DataFrame'>\n",
      "DatetimeIndex: 6634 entries, 2013-03-16 04:00:25 to 2013-03-16 20:19:30\n",
      "Data columns (total 4 columns):\n",
      "status                6634 non-null object\n",
      "response_bytes_clf    6634 non-null object\n",
      "remote_host           6634 non-null object\n",
      "request_first_line    6634 non-null object\n",
      "dtypes: object(4)\n",
      "memory usage: 259.1+ KB\n"
     ]
    }
   ],
   "source": [
    "df.info()      # status不是int"
   ]
  },
  {
   "cell_type": "markdown",
   "metadata": {},
   "source": [
    "> 转化实际上有很多种方法，我们这里使用 **`loc`** 进行搜索，然后进行转换。"
   ]
  },
  {
   "cell_type": "code",
   "execution_count": 16,
   "metadata": {},
   "outputs": [],
   "source": [
    "df.loc[:, 'status'] = df['status'].astype(int)"
   ]
  },
  {
   "cell_type": "code",
   "execution_count": 17,
   "metadata": {},
   "outputs": [
    {
     "name": "stdout",
     "output_type": "stream",
     "text": [
      "<class 'pandas.core.frame.DataFrame'>\n",
      "DatetimeIndex: 6634 entries, 2013-03-16 04:00:25 to 2013-03-16 20:19:30\n",
      "Data columns (total 4 columns):\n",
      "status                6634 non-null int64\n",
      "response_bytes_clf    6634 non-null object\n",
      "remote_host           6634 non-null object\n",
      "request_first_line    6634 non-null object\n",
      "dtypes: int64(1), object(3)\n",
      "memory usage: 259.1+ KB\n"
     ]
    }
   ],
   "source": [
    "df.info()"
   ]
  },
  {
   "cell_type": "markdown",
   "metadata": {},
   "source": [
    "> ### 而response_bytes_clf列有些数据包含字符串'-'，我们无法直接使用 **`astype`** :"
   ]
  },
  {
   "cell_type": "code",
   "execution_count": 18,
   "metadata": {},
   "outputs": [
    {
     "data": {
      "text/plain": [
       "'-'"
      ]
     },
     "execution_count": 18,
     "metadata": {},
     "output_type": "execute_result"
    }
   ],
   "source": [
    "df['response_bytes_clf'][93]"
   ]
  },
  {
   "cell_type": "markdown",
   "metadata": {},
   "source": [
    "### 将'-'转换成NaN，同时单位转换为M。"
   ]
  },
  {
   "cell_type": "code",
   "execution_count": 19,
   "metadata": {},
   "outputs": [],
   "source": [
    "def dash2nan(x):\n",
    "    if x =='-':\n",
    "        x = np.nan\n",
    "    else:\n",
    "        x = float(x) / 1048576\n",
    "    \n",
    "    return x"
   ]
  },
  {
   "cell_type": "code",
   "execution_count": 20,
   "metadata": {},
   "outputs": [],
   "source": [
    "df['response_bytes_clf'] = df['response_bytes_clf'].apply(dash2nan)"
   ]
  },
  {
   "cell_type": "code",
   "execution_count": 21,
   "metadata": {},
   "outputs": [
    {
     "data": {
      "text/html": [
       "<div>\n",
       "<style scoped>\n",
       "    .dataframe tbody tr th:only-of-type {\n",
       "        vertical-align: middle;\n",
       "    }\n",
       "\n",
       "    .dataframe tbody tr th {\n",
       "        vertical-align: top;\n",
       "    }\n",
       "\n",
       "    .dataframe thead th {\n",
       "        text-align: right;\n",
       "    }\n",
       "</style>\n",
       "<table border=\"1\" class=\"dataframe\">\n",
       "  <thead>\n",
       "    <tr style=\"text-align: right;\">\n",
       "      <th></th>\n",
       "      <th>status</th>\n",
       "      <th>response_bytes_clf</th>\n",
       "      <th>remote_host</th>\n",
       "      <th>request_first_line</th>\n",
       "    </tr>\n",
       "    <tr>\n",
       "      <th>time_received</th>\n",
       "      <th></th>\n",
       "      <th></th>\n",
       "      <th></th>\n",
       "      <th></th>\n",
       "    </tr>\n",
       "  </thead>\n",
       "  <tbody>\n",
       "    <tr>\n",
       "      <th>2013-03-16 04:00:25</th>\n",
       "      <td>200</td>\n",
       "      <td>0.024916</td>\n",
       "      <td>109.165.31.156</td>\n",
       "      <td>GET /index.php?option=com_content&amp;task=section...</td>\n",
       "    </tr>\n",
       "    <tr>\n",
       "      <th>2013-03-16 04:00:25</th>\n",
       "      <td>200</td>\n",
       "      <td>0.010044</td>\n",
       "      <td>109.165.31.156</td>\n",
       "      <td>GET /templates/ja_procyon/css/template_css.css...</td>\n",
       "    </tr>\n",
       "    <tr>\n",
       "      <th>2013-03-16 04:00:25</th>\n",
       "      <td>200</td>\n",
       "      <td>0.001767</td>\n",
       "      <td>109.165.31.156</td>\n",
       "      <td>GET /templates/ja_procyon/switcher.js HTTP/1.0</td>\n",
       "    </tr>\n",
       "    <tr>\n",
       "      <th>2013-03-16 04:00:25</th>\n",
       "      <td>200</td>\n",
       "      <td>0.035432</td>\n",
       "      <td>109.165.31.156</td>\n",
       "      <td>GET /includes/js/overlib_mini.js HTTP/1.0</td>\n",
       "    </tr>\n",
       "    <tr>\n",
       "      <th>2013-03-16 04:00:25</th>\n",
       "      <td>200</td>\n",
       "      <td>0.003794</td>\n",
       "      <td>109.165.31.156</td>\n",
       "      <td>GET /modules/ja_transmenu/transmenuh.css HTTP/1.0</td>\n",
       "    </tr>\n",
       "    <tr>\n",
       "      <th>2013-03-16 04:00:25</th>\n",
       "      <td>200</td>\n",
       "      <td>0.033319</td>\n",
       "      <td>109.165.31.156</td>\n",
       "      <td>GET /modules/ja_transmenu/transmenu.js HTTP/1.0</td>\n",
       "    </tr>\n",
       "    <tr>\n",
       "      <th>2013-03-16 04:00:25</th>\n",
       "      <td>200</td>\n",
       "      <td>0.039610</td>\n",
       "      <td>109.165.31.156</td>\n",
       "      <td>GET /templates/ja_procyon/images/header-logo.j...</td>\n",
       "    </tr>\n",
       "    <tr>\n",
       "      <th>2013-03-16 04:00:25</th>\n",
       "      <td>200</td>\n",
       "      <td>0.001791</td>\n",
       "      <td>109.165.31.156</td>\n",
       "      <td>GET /favicon.ico HTTP/1.0</td>\n",
       "    </tr>\n",
       "    <tr>\n",
       "      <th>2013-03-16 04:00:26</th>\n",
       "      <td>200</td>\n",
       "      <td>0.000052</td>\n",
       "      <td>109.165.31.156</td>\n",
       "      <td>GET /templates/ja_procyon/images/arrow-on.gif ...</td>\n",
       "    </tr>\n",
       "    <tr>\n",
       "      <th>2013-03-16 04:00:26</th>\n",
       "      <td>200</td>\n",
       "      <td>0.000060</td>\n",
       "      <td>109.165.31.156</td>\n",
       "      <td>GET /templates/ja_procyon/images/arrow-off.gif...</td>\n",
       "    </tr>\n",
       "    <tr>\n",
       "      <th>2013-03-16 04:01:04</th>\n",
       "      <td>200</td>\n",
       "      <td>0.001321</td>\n",
       "      <td>178.154.206.250</td>\n",
       "      <td>GET /robots.txt HTTP/1.0</td>\n",
       "    </tr>\n",
       "    <tr>\n",
       "      <th>2013-03-16 04:01:43</th>\n",
       "      <td>200</td>\n",
       "      <td>0.029293</td>\n",
       "      <td>217.69.133.68</td>\n",
       "      <td>GET /index.php?id=803&amp;itemid=28&amp;option=com_con...</td>\n",
       "    </tr>\n",
       "    <tr>\n",
       "      <th>2013-03-16 04:01:44</th>\n",
       "      <td>200</td>\n",
       "      <td>0.040730</td>\n",
       "      <td>66.249.73.137</td>\n",
       "      <td>GET /index.php?option=com_frontpage&amp;Itemid=1 H...</td>\n",
       "    </tr>\n",
       "    <tr>\n",
       "      <th>2013-03-16 04:01:55</th>\n",
       "      <td>200</td>\n",
       "      <td>0.020531</td>\n",
       "      <td>173.199.115.187</td>\n",
       "      <td>GET /forum/viewtopic.php?f=2&amp;t=19&amp;view=print H...</td>\n",
       "    </tr>\n",
       "    <tr>\n",
       "      <th>2013-03-16 04:03:13</th>\n",
       "      <td>200</td>\n",
       "      <td>0.034251</td>\n",
       "      <td>109.165.31.156</td>\n",
       "      <td>GET /index.php?option=com_content&amp;task=categor...</td>\n",
       "    </tr>\n",
       "    <tr>\n",
       "      <th>2013-03-16 04:03:24</th>\n",
       "      <td>200</td>\n",
       "      <td>0.001791</td>\n",
       "      <td>188.134.34.199</td>\n",
       "      <td>GET /favicon.ico HTTP/1.0</td>\n",
       "    </tr>\n",
       "    <tr>\n",
       "      <th>2013-03-16 04:03:39</th>\n",
       "      <td>200</td>\n",
       "      <td>0.031823</td>\n",
       "      <td>66.249.73.137</td>\n",
       "      <td>GET /index.php?option=com_content&amp;task=categor...</td>\n",
       "    </tr>\n",
       "    <tr>\n",
       "      <th>2013-03-16 04:03:58</th>\n",
       "      <td>200</td>\n",
       "      <td>0.053244</td>\n",
       "      <td>217.69.133.68</td>\n",
       "      <td>GET /index.php?id=1361&amp;itemid=265&amp;option=com_c...</td>\n",
       "    </tr>\n",
       "    <tr>\n",
       "      <th>2013-03-16 04:04:22</th>\n",
       "      <td>200</td>\n",
       "      <td>0.021585</td>\n",
       "      <td>5.79.199.116</td>\n",
       "      <td>GET /forum/viewtopic.php?p=5510 HTTP/1.0</td>\n",
       "    </tr>\n",
       "    <tr>\n",
       "      <th>2013-03-16 04:04:22</th>\n",
       "      <td>200</td>\n",
       "      <td>0.002900</td>\n",
       "      <td>5.79.199.116</td>\n",
       "      <td>GET /forum/styles/prosilver/template/styleswit...</td>\n",
       "    </tr>\n",
       "  </tbody>\n",
       "</table>\n",
       "</div>"
      ],
      "text/plain": [
       "                     status  response_bytes_clf      remote_host  \\\n",
       "time_received                                                      \n",
       "2013-03-16 04:00:25     200            0.024916   109.165.31.156   \n",
       "2013-03-16 04:00:25     200            0.010044   109.165.31.156   \n",
       "2013-03-16 04:00:25     200            0.001767   109.165.31.156   \n",
       "2013-03-16 04:00:25     200            0.035432   109.165.31.156   \n",
       "2013-03-16 04:00:25     200            0.003794   109.165.31.156   \n",
       "2013-03-16 04:00:25     200            0.033319   109.165.31.156   \n",
       "2013-03-16 04:00:25     200            0.039610   109.165.31.156   \n",
       "2013-03-16 04:00:25     200            0.001791   109.165.31.156   \n",
       "2013-03-16 04:00:26     200            0.000052   109.165.31.156   \n",
       "2013-03-16 04:00:26     200            0.000060   109.165.31.156   \n",
       "2013-03-16 04:01:04     200            0.001321  178.154.206.250   \n",
       "2013-03-16 04:01:43     200            0.029293    217.69.133.68   \n",
       "2013-03-16 04:01:44     200            0.040730    66.249.73.137   \n",
       "2013-03-16 04:01:55     200            0.020531  173.199.115.187   \n",
       "2013-03-16 04:03:13     200            0.034251   109.165.31.156   \n",
       "2013-03-16 04:03:24     200            0.001791   188.134.34.199   \n",
       "2013-03-16 04:03:39     200            0.031823    66.249.73.137   \n",
       "2013-03-16 04:03:58     200            0.053244    217.69.133.68   \n",
       "2013-03-16 04:04:22     200            0.021585     5.79.199.116   \n",
       "2013-03-16 04:04:22     200            0.002900     5.79.199.116   \n",
       "\n",
       "                                                    request_first_line  \n",
       "time_received                                                           \n",
       "2013-03-16 04:00:25  GET /index.php?option=com_content&task=section...  \n",
       "2013-03-16 04:00:25  GET /templates/ja_procyon/css/template_css.css...  \n",
       "2013-03-16 04:00:25     GET /templates/ja_procyon/switcher.js HTTP/1.0  \n",
       "2013-03-16 04:00:25          GET /includes/js/overlib_mini.js HTTP/1.0  \n",
       "2013-03-16 04:00:25  GET /modules/ja_transmenu/transmenuh.css HTTP/1.0  \n",
       "2013-03-16 04:00:25    GET /modules/ja_transmenu/transmenu.js HTTP/1.0  \n",
       "2013-03-16 04:00:25  GET /templates/ja_procyon/images/header-logo.j...  \n",
       "2013-03-16 04:00:25                          GET /favicon.ico HTTP/1.0  \n",
       "2013-03-16 04:00:26  GET /templates/ja_procyon/images/arrow-on.gif ...  \n",
       "2013-03-16 04:00:26  GET /templates/ja_procyon/images/arrow-off.gif...  \n",
       "2013-03-16 04:01:04                           GET /robots.txt HTTP/1.0  \n",
       "2013-03-16 04:01:43  GET /index.php?id=803&itemid=28&option=com_con...  \n",
       "2013-03-16 04:01:44  GET /index.php?option=com_frontpage&Itemid=1 H...  \n",
       "2013-03-16 04:01:55  GET /forum/viewtopic.php?f=2&t=19&view=print H...  \n",
       "2013-03-16 04:03:13  GET /index.php?option=com_content&task=categor...  \n",
       "2013-03-16 04:03:24                          GET /favicon.ico HTTP/1.0  \n",
       "2013-03-16 04:03:39  GET /index.php?option=com_content&task=categor...  \n",
       "2013-03-16 04:03:58  GET /index.php?id=1361&itemid=265&option=com_c...  \n",
       "2013-03-16 04:04:22           GET /forum/viewtopic.php?p=5510 HTTP/1.0  \n",
       "2013-03-16 04:04:22  GET /forum/styles/prosilver/template/styleswit...  "
      ]
     },
     "execution_count": 21,
     "metadata": {},
     "output_type": "execute_result"
    }
   ],
   "source": [
    "df.head(20)"
   ]
  },
  {
   "cell_type": "markdown",
   "metadata": {},
   "source": [
    "### 流量分析\n",
    "\n",
    "根据时间看网站下载流量"
   ]
  },
  {
   "cell_type": "code",
   "execution_count": 22,
   "metadata": {},
   "outputs": [
    {
     "data": {
      "text/plain": [
       "<matplotlib.axes._subplots.AxesSubplot at 0x11277b748>"
      ]
     },
     "execution_count": 22,
     "metadata": {},
     "output_type": "execute_result"
    },
    {
     "data": {
      "image/png": "[encoded data removed]",
      "text/plain": [
       "<matplotlib.figure.Figure at 0x10516e6a0>"
      ]
     },
     "metadata": {},
     "output_type": "display_data"
    }
   ],
   "source": [
    "df['response_bytes_clf'].plot()"
   ]
  },
  {
   "cell_type": "markdown",
   "metadata": {},
   "source": [
    "按照5分钟进行重新采样，统计访问次数（实际上也就是 **`聚集操作`** ）\n",
    "> 是通过 **`resample`** 方法进行的。"
   ]
  },
  {
   "cell_type": "code",
   "execution_count": 23,
   "metadata": {},
   "outputs": [
    {
     "data": {
      "text/plain": [
       "<matplotlib.axes._subplots.AxesSubplot at 0x11350dd30>"
      ]
     },
     "execution_count": 23,
     "metadata": {},
     "output_type": "execute_result"
    },
    {
     "data": {
      "image/png": "[encoded data removed]",
      "text/plain": [
       "<matplotlib.figure.Figure at 0x11277b550>"
      ]
     },
     "metadata": {},
     "output_type": "display_data"
    }
   ],
   "source": [
    "df_s = df['response_bytes_clf'].resample('5t').count()\n",
    "df_s.plot()     # 这个地方的绘图是计数而不是下载的流量。"
   ]
  },
  {
   "cell_type": "code",
   "execution_count": 24,
   "metadata": {},
   "outputs": [
    {
     "data": {
      "text/plain": [
       "time_received\n",
       "2013-03-16 04:00:00    52\n",
       "2013-03-16 04:05:00     7\n",
       "2013-03-16 04:10:00    17\n",
       "2013-03-16 04:15:00    18\n",
       "2013-03-16 04:20:00    12\n",
       "2013-03-16 04:25:00    19\n",
       "2013-03-16 04:30:00    16\n",
       "2013-03-16 04:35:00    19\n",
       "2013-03-16 04:40:00    10\n",
       "2013-03-16 04:45:00    28\n",
       "2013-03-16 04:50:00    35\n",
       "2013-03-16 04:55:00    21\n",
       "2013-03-16 05:00:00    16\n",
       "2013-03-16 05:05:00     7\n",
       "2013-03-16 05:10:00    17\n",
       "2013-03-16 05:15:00     8\n",
       "2013-03-16 05:20:00    25\n",
       "2013-03-16 05:25:00    12\n",
       "2013-03-16 05:30:00     5\n",
       "2013-03-16 05:35:00     8\n",
       "2013-03-16 05:40:00    13\n",
       "2013-03-16 05:45:00    30\n",
       "2013-03-16 05:50:00     4\n",
       "2013-03-16 05:55:00    18\n",
       "2013-03-16 06:00:00     8\n",
       "2013-03-16 06:05:00    18\n",
       "2013-03-16 06:10:00    82\n",
       "2013-03-16 06:15:00    11\n",
       "2013-03-16 06:20:00    19\n",
       "2013-03-16 06:25:00    23\n",
       "                       ..\n",
       "2013-03-16 17:50:00    13\n",
       "2013-03-16 17:55:00    67\n",
       "2013-03-16 18:00:00    28\n",
       "2013-03-16 18:05:00    21\n",
       "2013-03-16 18:10:00    83\n",
       "2013-03-16 18:15:00    53\n",
       "2013-03-16 18:20:00    43\n",
       "2013-03-16 18:25:00    25\n",
       "2013-03-16 18:30:00    65\n",
       "2013-03-16 18:35:00    19\n",
       "2013-03-16 18:40:00    27\n",
       "2013-03-16 18:45:00    18\n",
       "2013-03-16 18:50:00    48\n",
       "2013-03-16 18:55:00    40\n",
       "2013-03-16 19:00:00    36\n",
       "2013-03-16 19:05:00    14\n",
       "2013-03-16 19:10:00    37\n",
       "2013-03-16 19:15:00    27\n",
       "2013-03-16 19:20:00    14\n",
       "2013-03-16 19:25:00    22\n",
       "2013-03-16 19:30:00    22\n",
       "2013-03-16 19:35:00    12\n",
       "2013-03-16 19:40:00    55\n",
       "2013-03-16 19:45:00    81\n",
       "2013-03-16 19:50:00    34\n",
       "2013-03-16 19:55:00    22\n",
       "2013-03-16 20:00:00    18\n",
       "2013-03-16 20:05:00    19\n",
       "2013-03-16 20:10:00     8\n",
       "2013-03-16 20:15:00     9\n",
       "Freq: 5T, Name: response_bytes_clf, Length: 196, dtype: int64"
      ]
     },
     "execution_count": 24,
     "metadata": {},
     "output_type": "execute_result"
    }
   ],
   "source": [
    "df_s"
   ]
  },
  {
   "cell_type": "markdown",
   "metadata": {},
   "source": [
    "### 同时统计访问次数以及流量"
   ]
  },
  {
   "cell_type": "markdown",
   "metadata": {},
   "source": [
    "> 像下面的 * **`ax1.twinx()`** * 代表创建了第二个Y轴。"
   ]
  },
  {
   "cell_type": "code",
   "execution_count": 25,
   "metadata": {},
   "outputs": [
    {
     "name": "stdout",
     "output_type": "stream",
     "text": [
      "                     count       sum\n",
      "time_received                       \n",
      "2013-03-16 04:00:00     59  6.957677\n",
      "2013-03-16 04:10:00     35  0.929472\n",
      "2013-03-16 04:20:00     31  0.771323\n",
      "2013-03-16 04:30:00     35  0.771191\n",
      "2013-03-16 04:40:00     38  0.943575\n"
     ]
    },
    {
     "data": {
      "text/plain": [
       "<matplotlib.legend.Legend at 0x1136c79b0>"
      ]
     },
     "execution_count": 25,
     "metadata": {},
     "output_type": "execute_result"
    },
    {
     "data": {
      "image/png": "[encoded data removed]",
      "text/plain": [
       "<matplotlib.figure.Figure at 0x1135a5dd8>"
      ]
     },
     "metadata": {},
     "output_type": "display_data"
    }
   ],
   "source": [
    "df_b = pd.DataFrame({'count': df['response_bytes_clf'].resample('10t').count(), \n",
    "                     'sum': df['response_bytes_clf'].resample('10t').sum()})\n",
    "print(df_b.head())\n",
    "ax1 = plt.subplot(111)\n",
    "ax2 = ax1.twinx()\n",
    "ax1.plot(df_b['count'], color='r', label='count')\n",
    "ax1.legend(loc=0)\n",
    "ax2.plot(df_b['sum'], label='sum')\n",
    "ax2.legend(loc=2)"
   ]
  },
  {
   "cell_type": "code",
   "execution_count": 26,
   "metadata": {},
   "outputs": [
    {
     "data": {
      "text/html": [
       "<div>\n",
       "<style scoped>\n",
       "    .dataframe tbody tr th:only-of-type {\n",
       "        vertical-align: middle;\n",
       "    }\n",
       "\n",
       "    .dataframe tbody tr th {\n",
       "        vertical-align: top;\n",
       "    }\n",
       "\n",
       "    .dataframe thead th {\n",
       "        text-align: right;\n",
       "    }\n",
       "</style>\n",
       "<table border=\"1\" class=\"dataframe\">\n",
       "  <thead>\n",
       "    <tr style=\"text-align: right;\">\n",
       "      <th></th>\n",
       "      <th>count</th>\n",
       "      <th>sum</th>\n",
       "    </tr>\n",
       "    <tr>\n",
       "      <th>time_received</th>\n",
       "      <th></th>\n",
       "      <th></th>\n",
       "    </tr>\n",
       "  </thead>\n",
       "  <tbody>\n",
       "    <tr>\n",
       "      <th>2013-03-16 04:00:00</th>\n",
       "      <td>59</td>\n",
       "      <td>6.957677</td>\n",
       "    </tr>\n",
       "    <tr>\n",
       "      <th>2013-03-16 04:10:00</th>\n",
       "      <td>35</td>\n",
       "      <td>0.929472</td>\n",
       "    </tr>\n",
       "    <tr>\n",
       "      <th>2013-03-16 04:20:00</th>\n",
       "      <td>31</td>\n",
       "      <td>0.771323</td>\n",
       "    </tr>\n",
       "    <tr>\n",
       "      <th>2013-03-16 04:30:00</th>\n",
       "      <td>35</td>\n",
       "      <td>0.771191</td>\n",
       "    </tr>\n",
       "    <tr>\n",
       "      <th>2013-03-16 04:40:00</th>\n",
       "      <td>38</td>\n",
       "      <td>0.943575</td>\n",
       "    </tr>\n",
       "  </tbody>\n",
       "</table>\n",
       "</div>"
      ],
      "text/plain": [
       "                     count       sum\n",
       "time_received                       \n",
       "2013-03-16 04:00:00     59  6.957677\n",
       "2013-03-16 04:10:00     35  0.929472\n",
       "2013-03-16 04:20:00     31  0.771323\n",
       "2013-03-16 04:30:00     35  0.771191\n",
       "2013-03-16 04:40:00     38  0.943575"
      ]
     },
     "execution_count": 26,
     "metadata": {},
     "output_type": "execute_result"
    }
   ],
   "source": [
    "df_b.head()"
   ]
  },
  {
   "cell_type": "markdown",
   "metadata": {},
   "source": [
    "## 流量和访问次数的关系"
   ]
  },
  {
   "cell_type": "code",
   "execution_count": 27,
   "metadata": {},
   "outputs": [
    {
     "data": {
      "text/html": [
       "<div>\n",
       "<style scoped>\n",
       "    .dataframe tbody tr th:only-of-type {\n",
       "        vertical-align: middle;\n",
       "    }\n",
       "\n",
       "    .dataframe tbody tr th {\n",
       "        vertical-align: top;\n",
       "    }\n",
       "\n",
       "    .dataframe thead th {\n",
       "        text-align: right;\n",
       "    }\n",
       "</style>\n",
       "<table border=\"1\" class=\"dataframe\">\n",
       "  <thead>\n",
       "    <tr style=\"text-align: right;\">\n",
       "      <th></th>\n",
       "      <th>count</th>\n",
       "      <th>sum</th>\n",
       "    </tr>\n",
       "  </thead>\n",
       "  <tbody>\n",
       "    <tr>\n",
       "      <th>count</th>\n",
       "      <td>1.000000</td>\n",
       "      <td>0.512629</td>\n",
       "    </tr>\n",
       "    <tr>\n",
       "      <th>sum</th>\n",
       "      <td>0.512629</td>\n",
       "      <td>1.000000</td>\n",
       "    </tr>\n",
       "  </tbody>\n",
       "</table>\n",
       "</div>"
      ],
      "text/plain": [
       "          count       sum\n",
       "count  1.000000  0.512629\n",
       "sum    0.512629  1.000000"
      ]
     },
     "execution_count": 27,
     "metadata": {},
     "output_type": "execute_result"
    }
   ],
   "source": [
    "df_b.corr()      # 也就是相关的关系"
   ]
  },
  {
   "cell_type": "markdown",
   "metadata": {},
   "source": [
    "### 考察一下流量高的时间段"
   ]
  },
  {
   "cell_type": "code",
   "execution_count": 28,
   "metadata": {},
   "outputs": [
    {
     "data": {
      "text/plain": [
       "<matplotlib.axes._subplots.AxesSubplot at 0x11346c5c0>"
      ]
     },
     "execution_count": 28,
     "metadata": {},
     "output_type": "execute_result"
    },
    {
     "data": {
      "image/png": "[encoded data removed]",
      "text/plain": [
       "<matplotlib.figure.Figure at 0x113583b00>"
      ]
     },
     "metadata": {},
     "output_type": "display_data"
    }
   ],
   "source": [
    "df_b['2013-03-16 2:00':'2013-03-16 9:00']['sum'].plot()"
   ]
  },
  {
   "cell_type": "markdown",
   "metadata": {},
   "source": [
    "似乎是下载了一本书，一共21M"
   ]
  },
  {
   "cell_type": "code",
   "execution_count": 29,
   "metadata": {},
   "outputs": [
    {
     "data": {
      "text/html": [
       "<div>\n",
       "<style scoped>\n",
       "    .dataframe tbody tr th:only-of-type {\n",
       "        vertical-align: middle;\n",
       "    }\n",
       "\n",
       "    .dataframe tbody tr th {\n",
       "        vertical-align: top;\n",
       "    }\n",
       "\n",
       "    .dataframe thead th {\n",
       "        text-align: right;\n",
       "    }\n",
       "</style>\n",
       "<table border=\"1\" class=\"dataframe\">\n",
       "  <thead>\n",
       "    <tr style=\"text-align: right;\">\n",
       "      <th></th>\n",
       "      <th>status</th>\n",
       "      <th>response_bytes_clf</th>\n",
       "      <th>remote_host</th>\n",
       "      <th>request_first_line</th>\n",
       "    </tr>\n",
       "    <tr>\n",
       "      <th>time_received</th>\n",
       "      <th></th>\n",
       "      <th></th>\n",
       "      <th></th>\n",
       "      <th></th>\n",
       "    </tr>\n",
       "  </thead>\n",
       "  <tbody>\n",
       "    <tr>\n",
       "      <th>2013-03-16 05:02:59</th>\n",
       "      <td>200</td>\n",
       "      <td>21.365701</td>\n",
       "      <td>77.50.248.20</td>\n",
       "      <td>GET /books/Bondarenko.pdf HTTP/1.0</td>\n",
       "    </tr>\n",
       "  </tbody>\n",
       "</table>\n",
       "</div>"
      ],
      "text/plain": [
       "                     status  response_bytes_clf   remote_host  \\\n",
       "time_received                                                   \n",
       "2013-03-16 05:02:59     200           21.365701  77.50.248.20   \n",
       "\n",
       "                                     request_first_line  \n",
       "time_received                                            \n",
       "2013-03-16 05:02:59  GET /books/Bondarenko.pdf HTTP/1.0  "
      ]
     },
     "execution_count": 29,
     "metadata": {},
     "output_type": "execute_result"
    }
   ],
   "source": [
    "df[df['response_bytes_clf']>20]"
   ]
  },
  {
   "cell_type": "markdown",
   "metadata": {},
   "source": [
    "通常情况下request大小是多少呢？"
   ]
  },
  {
   "cell_type": "code",
   "execution_count": 30,
   "metadata": {},
   "outputs": [
    {
     "data": {
      "text/plain": [
       "<matplotlib.axes._subplots.AxesSubplot at 0x113593390>"
      ]
     },
     "execution_count": 30,
     "metadata": {},
     "output_type": "execute_result"
    },
    {
     "data": {
      "image/png": "[encoded data removed]",
      "text/plain": [
       "<matplotlib.figure.Figure at 0x1136fd208>"
      ]
     },
     "metadata": {},
     "output_type": "display_data"
    }
   ],
   "source": [
    "cc = df[df['response_bytes_clf'] < 20]\n",
    "cc.response_bytes_clf.hist(bins=10)"
   ]
  },
  {
   "cell_type": "markdown",
   "metadata": {},
   "source": [
    "> 从上面这个图看可以看到大部分的请求都是小于0.5M的，所以我们下面进行更加详细的分析。"
   ]
  },
  {
   "cell_type": "code",
   "execution_count": 31,
   "metadata": {},
   "outputs": [
    {
     "data": {
      "text/plain": [
       "<matplotlib.axes._subplots.AxesSubplot at 0x114083e10>"
      ]
     },
     "execution_count": 31,
     "metadata": {},
     "output_type": "execute_result"
    },
    {
     "data": {
      "image/png": "[encoded data removed]",
      "text/plain": [
       "<matplotlib.figure.Figure at 0x113746e10>"
      ]
     },
     "metadata": {},
     "output_type": "display_data"
    }
   ],
   "source": [
    "cc = df[df['response_bytes_clf'] < 0.5]\n",
    "cc.response_bytes_clf.hist(bins=100)"
   ]
  },
  {
   "cell_type": "markdown",
   "metadata": {},
   "source": [
    "再进一步进行过滤"
   ]
  },
  {
   "cell_type": "code",
   "execution_count": 32,
   "metadata": {},
   "outputs": [
    {
     "data": {
      "text/plain": [
       "<matplotlib.axes._subplots.AxesSubplot at 0x1143a8b38>"
      ]
     },
     "execution_count": 32,
     "metadata": {},
     "output_type": "execute_result"
    },
    {
     "data": {
      "image/png": "[encoded data removed]",
      "text/plain": [
       "<matplotlib.figure.Figure at 0x11347abe0>"
      ]
     },
     "metadata": {},
     "output_type": "display_data"
    }
   ],
   "source": [
    "cc = df[(df['response_bytes_clf'] > 0.0) & (df['response_bytes_clf'] < 0.05)]\n",
    "cc.response_bytes_clf.hist(bins=100)"
   ]
  },
  {
   "cell_type": "markdown",
   "metadata": {},
   "source": [
    "> 我们可以查看这些小于0.05M的请求到底都是什么请求"
   ]
  },
  {
   "cell_type": "code",
   "execution_count": 33,
   "metadata": {},
   "outputs": [
    {
     "data": {
      "text/html": [
       "<div>\n",
       "<style scoped>\n",
       "    .dataframe tbody tr th:only-of-type {\n",
       "        vertical-align: middle;\n",
       "    }\n",
       "\n",
       "    .dataframe tbody tr th {\n",
       "        vertical-align: top;\n",
       "    }\n",
       "\n",
       "    .dataframe thead th {\n",
       "        text-align: right;\n",
       "    }\n",
       "</style>\n",
       "<table border=\"1\" class=\"dataframe\">\n",
       "  <thead>\n",
       "    <tr style=\"text-align: right;\">\n",
       "      <th></th>\n",
       "      <th>status</th>\n",
       "      <th>response_bytes_clf</th>\n",
       "      <th>remote_host</th>\n",
       "      <th>request_first_line</th>\n",
       "    </tr>\n",
       "    <tr>\n",
       "      <th>time_received</th>\n",
       "      <th></th>\n",
       "      <th></th>\n",
       "      <th></th>\n",
       "      <th></th>\n",
       "    </tr>\n",
       "  </thead>\n",
       "  <tbody>\n",
       "    <tr>\n",
       "      <th>2013-03-16 04:00:25</th>\n",
       "      <td>200</td>\n",
       "      <td>0.024916</td>\n",
       "      <td>109.165.31.156</td>\n",
       "      <td>GET /index.php?option=com_content&amp;task=section...</td>\n",
       "    </tr>\n",
       "    <tr>\n",
       "      <th>2013-03-16 04:00:25</th>\n",
       "      <td>200</td>\n",
       "      <td>0.010044</td>\n",
       "      <td>109.165.31.156</td>\n",
       "      <td>GET /templates/ja_procyon/css/template_css.css...</td>\n",
       "    </tr>\n",
       "    <tr>\n",
       "      <th>2013-03-16 04:00:25</th>\n",
       "      <td>200</td>\n",
       "      <td>0.001767</td>\n",
       "      <td>109.165.31.156</td>\n",
       "      <td>GET /templates/ja_procyon/switcher.js HTTP/1.0</td>\n",
       "    </tr>\n",
       "    <tr>\n",
       "      <th>2013-03-16 04:00:25</th>\n",
       "      <td>200</td>\n",
       "      <td>0.035432</td>\n",
       "      <td>109.165.31.156</td>\n",
       "      <td>GET /includes/js/overlib_mini.js HTTP/1.0</td>\n",
       "    </tr>\n",
       "    <tr>\n",
       "      <th>2013-03-16 04:00:25</th>\n",
       "      <td>200</td>\n",
       "      <td>0.003794</td>\n",
       "      <td>109.165.31.156</td>\n",
       "      <td>GET /modules/ja_transmenu/transmenuh.css HTTP/1.0</td>\n",
       "    </tr>\n",
       "  </tbody>\n",
       "</table>\n",
       "</div>"
      ],
      "text/plain": [
       "                     status  response_bytes_clf     remote_host  \\\n",
       "time_received                                                     \n",
       "2013-03-16 04:00:25     200            0.024916  109.165.31.156   \n",
       "2013-03-16 04:00:25     200            0.010044  109.165.31.156   \n",
       "2013-03-16 04:00:25     200            0.001767  109.165.31.156   \n",
       "2013-03-16 04:00:25     200            0.035432  109.165.31.156   \n",
       "2013-03-16 04:00:25     200            0.003794  109.165.31.156   \n",
       "\n",
       "                                                    request_first_line  \n",
       "time_received                                                           \n",
       "2013-03-16 04:00:25  GET /index.php?option=com_content&task=section...  \n",
       "2013-03-16 04:00:25  GET /templates/ja_procyon/css/template_css.css...  \n",
       "2013-03-16 04:00:25     GET /templates/ja_procyon/switcher.js HTTP/1.0  \n",
       "2013-03-16 04:00:25          GET /includes/js/overlib_mini.js HTTP/1.0  \n",
       "2013-03-16 04:00:25  GET /modules/ja_transmenu/transmenuh.css HTTP/1.0  "
      ]
     },
     "execution_count": 33,
     "metadata": {},
     "output_type": "execute_result"
    }
   ],
   "source": [
    "cc = df[(df['response_bytes_clf'] > 0.0) & (df['response_bytes_clf'] < 0.05)]\n",
    "cc.head()"
   ]
  },
  {
   "cell_type": "markdown",
   "metadata": {},
   "source": [
    "## 根据服务器返回状态码进行分析"
   ]
  },
  {
   "cell_type": "code",
   "execution_count": 34,
   "metadata": {},
   "outputs": [
    {
     "data": {
      "text/html": [
       "<div>\n",
       "<style scoped>\n",
       "    .dataframe tbody tr th:only-of-type {\n",
       "        vertical-align: middle;\n",
       "    }\n",
       "\n",
       "    .dataframe tbody tr th {\n",
       "        vertical-align: top;\n",
       "    }\n",
       "\n",
       "    .dataframe thead th {\n",
       "        text-align: right;\n",
       "    }\n",
       "</style>\n",
       "<table border=\"1\" class=\"dataframe\">\n",
       "  <thead>\n",
       "    <tr style=\"text-align: right;\">\n",
       "      <th></th>\n",
       "      <th>status</th>\n",
       "      <th>response_bytes_clf</th>\n",
       "      <th>remote_host</th>\n",
       "      <th>request_first_line</th>\n",
       "    </tr>\n",
       "    <tr>\n",
       "      <th>time_received</th>\n",
       "      <th></th>\n",
       "      <th></th>\n",
       "      <th></th>\n",
       "      <th></th>\n",
       "    </tr>\n",
       "  </thead>\n",
       "  <tbody>\n",
       "    <tr>\n",
       "      <th>2013-03-16 04:00:25</th>\n",
       "      <td>200</td>\n",
       "      <td>0.024916</td>\n",
       "      <td>109.165.31.156</td>\n",
       "      <td>GET /index.php?option=com_content&amp;task=section...</td>\n",
       "    </tr>\n",
       "    <tr>\n",
       "      <th>2013-03-16 04:00:25</th>\n",
       "      <td>200</td>\n",
       "      <td>0.010044</td>\n",
       "      <td>109.165.31.156</td>\n",
       "      <td>GET /templates/ja_procyon/css/template_css.css...</td>\n",
       "    </tr>\n",
       "    <tr>\n",
       "      <th>2013-03-16 04:00:25</th>\n",
       "      <td>200</td>\n",
       "      <td>0.001767</td>\n",
       "      <td>109.165.31.156</td>\n",
       "      <td>GET /templates/ja_procyon/switcher.js HTTP/1.0</td>\n",
       "    </tr>\n",
       "    <tr>\n",
       "      <th>2013-03-16 04:00:25</th>\n",
       "      <td>200</td>\n",
       "      <td>0.035432</td>\n",
       "      <td>109.165.31.156</td>\n",
       "      <td>GET /includes/js/overlib_mini.js HTTP/1.0</td>\n",
       "    </tr>\n",
       "    <tr>\n",
       "      <th>2013-03-16 04:00:25</th>\n",
       "      <td>200</td>\n",
       "      <td>0.003794</td>\n",
       "      <td>109.165.31.156</td>\n",
       "      <td>GET /modules/ja_transmenu/transmenuh.css HTTP/1.0</td>\n",
       "    </tr>\n",
       "  </tbody>\n",
       "</table>\n",
       "</div>"
      ],
      "text/plain": [
       "                     status  response_bytes_clf     remote_host  \\\n",
       "time_received                                                     \n",
       "2013-03-16 04:00:25     200            0.024916  109.165.31.156   \n",
       "2013-03-16 04:00:25     200            0.010044  109.165.31.156   \n",
       "2013-03-16 04:00:25     200            0.001767  109.165.31.156   \n",
       "2013-03-16 04:00:25     200            0.035432  109.165.31.156   \n",
       "2013-03-16 04:00:25     200            0.003794  109.165.31.156   \n",
       "\n",
       "                                                    request_first_line  \n",
       "time_received                                                           \n",
       "2013-03-16 04:00:25  GET /index.php?option=com_content&task=section...  \n",
       "2013-03-16 04:00:25  GET /templates/ja_procyon/css/template_css.css...  \n",
       "2013-03-16 04:00:25     GET /templates/ja_procyon/switcher.js HTTP/1.0  \n",
       "2013-03-16 04:00:25          GET /includes/js/overlib_mini.js HTTP/1.0  \n",
       "2013-03-16 04:00:25  GET /modules/ja_transmenu/transmenuh.css HTTP/1.0  "
      ]
     },
     "execution_count": 34,
     "metadata": {},
     "output_type": "execute_result"
    }
   ],
   "source": [
    "df.head()"
   ]
  },
  {
   "cell_type": "code",
   "execution_count": 35,
   "metadata": {},
   "outputs": [],
   "source": [
    "t_span = '2H'\n",
    "\n",
    "df_404 = df['status'][df['status'] == 404].resample(t_span).count()\n",
    "df_403 = df['status'][df['status'] == 403].resample(t_span).count()\n",
    "df_301 = df['status'][df['status'] == 301].resample(t_span).count()\n",
    "df_304 = df['status'][df['status'] == 304].resample(t_span).count()\n",
    "df_200 = df['status'][df['status'] == 200].resample(t_span).count()\n",
    "\n",
    "status_df = pd.DataFrame({'Not Found': df_404, \n",
    "                          'Forbidden': df_403, \n",
    "                          'Moved Permanently': df_301, \n",
    "                          'Not Modified': df_304,\n",
    "                         'OK': df_200})"
   ]
  },
  {
   "cell_type": "code",
   "execution_count": 36,
   "metadata": {},
   "outputs": [
    {
     "data": {
      "text/html": [
       "<div>\n",
       "<style scoped>\n",
       "    .dataframe tbody tr th:only-of-type {\n",
       "        vertical-align: middle;\n",
       "    }\n",
       "\n",
       "    .dataframe tbody tr th {\n",
       "        vertical-align: top;\n",
       "    }\n",
       "\n",
       "    .dataframe thead th {\n",
       "        text-align: right;\n",
       "    }\n",
       "</style>\n",
       "<table border=\"1\" class=\"dataframe\">\n",
       "  <thead>\n",
       "    <tr style=\"text-align: right;\">\n",
       "      <th></th>\n",
       "      <th>Forbidden</th>\n",
       "      <th>Moved Permanently</th>\n",
       "      <th>Not Found</th>\n",
       "      <th>Not Modified</th>\n",
       "      <th>OK</th>\n",
       "    </tr>\n",
       "    <tr>\n",
       "      <th>time_received</th>\n",
       "      <th></th>\n",
       "      <th></th>\n",
       "      <th></th>\n",
       "      <th></th>\n",
       "      <th></th>\n",
       "    </tr>\n",
       "  </thead>\n",
       "  <tbody>\n",
       "    <tr>\n",
       "      <th>2013-03-16 04:00:00</th>\n",
       "      <td>22</td>\n",
       "      <td>17</td>\n",
       "      <td>3</td>\n",
       "      <td>4.0</td>\n",
       "      <td>375</td>\n",
       "    </tr>\n",
       "    <tr>\n",
       "      <th>2013-03-16 06:00:00</th>\n",
       "      <td>26</td>\n",
       "      <td>76</td>\n",
       "      <td>2</td>\n",
       "      <td>2.0</td>\n",
       "      <td>607</td>\n",
       "    </tr>\n",
       "    <tr>\n",
       "      <th>2013-03-16 08:00:00</th>\n",
       "      <td>45</td>\n",
       "      <td>83</td>\n",
       "      <td>2</td>\n",
       "      <td>23.0</td>\n",
       "      <td>780</td>\n",
       "    </tr>\n",
       "    <tr>\n",
       "      <th>2013-03-16 10:00:00</th>\n",
       "      <td>29</td>\n",
       "      <td>34</td>\n",
       "      <td>4</td>\n",
       "      <td>2.0</td>\n",
       "      <td>699</td>\n",
       "    </tr>\n",
       "    <tr>\n",
       "      <th>2013-03-16 12:00:00</th>\n",
       "      <td>27</td>\n",
       "      <td>94</td>\n",
       "      <td>5</td>\n",
       "      <td>3.0</td>\n",
       "      <td>886</td>\n",
       "    </tr>\n",
       "  </tbody>\n",
       "</table>\n",
       "</div>"
      ],
      "text/plain": [
       "                     Forbidden  Moved Permanently  Not Found  Not Modified  \\\n",
       "time_received                                                                \n",
       "2013-03-16 04:00:00         22                 17          3           4.0   \n",
       "2013-03-16 06:00:00         26                 76          2           2.0   \n",
       "2013-03-16 08:00:00         45                 83          2          23.0   \n",
       "2013-03-16 10:00:00         29                 34          4           2.0   \n",
       "2013-03-16 12:00:00         27                 94          5           3.0   \n",
       "\n",
       "                      OK  \n",
       "time_received             \n",
       "2013-03-16 04:00:00  375  \n",
       "2013-03-16 06:00:00  607  \n",
       "2013-03-16 08:00:00  780  \n",
       "2013-03-16 10:00:00  699  \n",
       "2013-03-16 12:00:00  886  "
      ]
     },
     "execution_count": 36,
     "metadata": {},
     "output_type": "execute_result"
    }
   ],
   "source": [
    "status_df.head()"
   ]
  },
  {
   "cell_type": "code",
   "execution_count": 37,
   "metadata": {},
   "outputs": [
    {
     "data": {
      "text/plain": [
       "<matplotlib.axes._subplots.AxesSubplot at 0x11459cb00>"
      ]
     },
     "execution_count": 37,
     "metadata": {},
     "output_type": "execute_result"
    },
    {
     "data": {
      "image/png": "[encoded data removed]",
      "text/plain": [
       "<matplotlib.figure.Figure at 0x11427f7b8>"
      ]
     },
     "metadata": {},
     "output_type": "display_data"
    }
   ],
   "source": [
    "status_df.plot(figsize=(10,3))"
   ]
  },
  {
   "cell_type": "markdown",
   "metadata": {},
   "source": [
    "> 下面的图是显示错误码的堆叠的比例图，也就是在 **`plot`** 方法里面添加参数 **`stacked`** 为True！！。"
   ]
  },
  {
   "cell_type": "code",
   "execution_count": 38,
   "metadata": {},
   "outputs": [
    {
     "data": {
      "text/plain": [
       "<matplotlib.axes._subplots.AxesSubplot at 0x11472d080>"
      ]
     },
     "execution_count": 38,
     "metadata": {},
     "output_type": "execute_result"
    },
    {
     "data": {
      "image/png": "[encoded data removed]",
      "text/plain": [
       "<matplotlib.figure.Figure at 0x1144e25f8>"
      ]
     },
     "metadata": {},
     "output_type": "display_data"
    }
   ],
   "source": [
    "status_df[['Not Found', 'Forbidden', 'Moved Permanently', 'Not Modified']].plot(kind='barh', stacked=True, figsize=(10, 7))"
   ]
  },
  {
   "cell_type": "markdown",
   "metadata": {},
   "source": [
    "## 根据Status分组"
   ]
  },
  {
   "cell_type": "code",
   "execution_count": 39,
   "metadata": {},
   "outputs": [],
   "source": [
    "grouped_status = df.groupby('status')"
   ]
  },
  {
   "cell_type": "code",
   "execution_count": 40,
   "metadata": {},
   "outputs": [
    {
     "data": {
      "text/html": [
       "<div>\n",
       "<style scoped>\n",
       "    .dataframe tbody tr th:only-of-type {\n",
       "        vertical-align: middle;\n",
       "    }\n",
       "\n",
       "    .dataframe tbody tr th {\n",
       "        vertical-align: top;\n",
       "    }\n",
       "\n",
       "    .dataframe thead th {\n",
       "        text-align: right;\n",
       "    }\n",
       "</style>\n",
       "<table border=\"1\" class=\"dataframe\">\n",
       "  <thead>\n",
       "    <tr style=\"text-align: right;\">\n",
       "      <th></th>\n",
       "      <th>status</th>\n",
       "      <th>response_bytes_clf</th>\n",
       "      <th>remote_host</th>\n",
       "      <th>request_first_line</th>\n",
       "    </tr>\n",
       "    <tr>\n",
       "      <th>time_received</th>\n",
       "      <th></th>\n",
       "      <th></th>\n",
       "      <th></th>\n",
       "      <th></th>\n",
       "    </tr>\n",
       "  </thead>\n",
       "  <tbody>\n",
       "    <tr>\n",
       "      <th>2013-03-16 04:00:25</th>\n",
       "      <td>200</td>\n",
       "      <td>0.024916</td>\n",
       "      <td>109.165.31.156</td>\n",
       "      <td>GET /index.php?option=com_content&amp;task=section...</td>\n",
       "    </tr>\n",
       "    <tr>\n",
       "      <th>2013-03-16 04:00:25</th>\n",
       "      <td>200</td>\n",
       "      <td>0.010044</td>\n",
       "      <td>109.165.31.156</td>\n",
       "      <td>GET /templates/ja_procyon/css/template_css.css...</td>\n",
       "    </tr>\n",
       "    <tr>\n",
       "      <th>2013-03-16 04:04:23</th>\n",
       "      <td>403</td>\n",
       "      <td>0.001054</td>\n",
       "      <td>5.79.199.116</td>\n",
       "      <td>GET /forum/download/file.php?avatar=156.gif HT...</td>\n",
       "    </tr>\n",
       "    <tr>\n",
       "      <th>2013-03-16 04:04:23</th>\n",
       "      <td>403</td>\n",
       "      <td>0.001054</td>\n",
       "      <td>5.79.199.116</td>\n",
       "      <td>GET /forum/download/file.php?avatar=216.jpg HT...</td>\n",
       "    </tr>\n",
       "    <tr>\n",
       "      <th>2013-03-16 04:04:25</th>\n",
       "      <td>404</td>\n",
       "      <td>0.001063</td>\n",
       "      <td>5.79.199.116</td>\n",
       "      <td>GET /apple-touch-icon-precomposed.png HTTP/1.0</td>\n",
       "    </tr>\n",
       "    <tr>\n",
       "      <th>2013-03-16 04:04:26</th>\n",
       "      <td>404</td>\n",
       "      <td>0.001063</td>\n",
       "      <td>5.79.199.116</td>\n",
       "      <td>GET /apple-touch-icon.png HTTP/1.0</td>\n",
       "    </tr>\n",
       "    <tr>\n",
       "      <th>2013-03-16 04:13:08</th>\n",
       "      <td>301</td>\n",
       "      <td>0.000232</td>\n",
       "      <td>38.100.21.63</td>\n",
       "      <td>GET /forum HTTP/1.0</td>\n",
       "    </tr>\n",
       "    <tr>\n",
       "      <th>2013-03-16 04:13:09</th>\n",
       "      <td>400</td>\n",
       "      <td>0.000999</td>\n",
       "      <td>38.100.21.63</td>\n",
       "      <td>GET /.. HTTP/1.0</td>\n",
       "    </tr>\n",
       "    <tr>\n",
       "      <th>2013-03-16 04:13:09</th>\n",
       "      <td>301</td>\n",
       "      <td>0.000234</td>\n",
       "      <td>38.100.21.63</td>\n",
       "      <td>GET /podcast HTTP/1.0</td>\n",
       "    </tr>\n",
       "    <tr>\n",
       "      <th>2013-03-16 04:19:41</th>\n",
       "      <td>304</td>\n",
       "      <td>NaN</td>\n",
       "      <td>178.154.206.250</td>\n",
       "      <td>GET /images/stories/researchers/laplace.jpg HT...</td>\n",
       "    </tr>\n",
       "    <tr>\n",
       "      <th>2013-03-16 04:33:14</th>\n",
       "      <td>304</td>\n",
       "      <td>NaN</td>\n",
       "      <td>178.154.206.250</td>\n",
       "      <td>GET /images/stories/researchers/treshnikov.jpg...</td>\n",
       "    </tr>\n",
       "    <tr>\n",
       "      <th>2013-03-16 04:47:04</th>\n",
       "      <td>302</td>\n",
       "      <td>NaN</td>\n",
       "      <td>176.8.91.244</td>\n",
       "      <td>POST /podcast/wp-comments-post.php HTTP/1.0</td>\n",
       "    </tr>\n",
       "    <tr>\n",
       "      <th>2013-03-16 07:27:40</th>\n",
       "      <td>302</td>\n",
       "      <td>NaN</td>\n",
       "      <td>78.30.212.183</td>\n",
       "      <td>POST /podcast/wp-comments-post.php HTTP/1.0</td>\n",
       "    </tr>\n",
       "    <tr>\n",
       "      <th>2013-03-16 07:42:53</th>\n",
       "      <td>206</td>\n",
       "      <td>0.031250</td>\n",
       "      <td>109.171.109.164</td>\n",
       "      <td>GET /images/stories/pdf/0104_044.pdf HTTP/1.0</td>\n",
       "    </tr>\n",
       "    <tr>\n",
       "      <th>2013-03-16 07:42:53</th>\n",
       "      <td>206</td>\n",
       "      <td>0.224717</td>\n",
       "      <td>109.171.109.164</td>\n",
       "      <td>GET /images/stories/pdf/0104_044.pdf HTTP/1.0</td>\n",
       "    </tr>\n",
       "  </tbody>\n",
       "</table>\n",
       "</div>"
      ],
      "text/plain": [
       "                     status  response_bytes_clf      remote_host  \\\n",
       "time_received                                                      \n",
       "2013-03-16 04:00:25     200            0.024916   109.165.31.156   \n",
       "2013-03-16 04:00:25     200            0.010044   109.165.31.156   \n",
       "2013-03-16 04:04:23     403            0.001054     5.79.199.116   \n",
       "2013-03-16 04:04:23     403            0.001054     5.79.199.116   \n",
       "2013-03-16 04:04:25     404            0.001063     5.79.199.116   \n",
       "2013-03-16 04:04:26     404            0.001063     5.79.199.116   \n",
       "2013-03-16 04:13:08     301            0.000232     38.100.21.63   \n",
       "2013-03-16 04:13:09     400            0.000999     38.100.21.63   \n",
       "2013-03-16 04:13:09     301            0.000234     38.100.21.63   \n",
       "2013-03-16 04:19:41     304                 NaN  178.154.206.250   \n",
       "2013-03-16 04:33:14     304                 NaN  178.154.206.250   \n",
       "2013-03-16 04:47:04     302                 NaN     176.8.91.244   \n",
       "2013-03-16 07:27:40     302                 NaN    78.30.212.183   \n",
       "2013-03-16 07:42:53     206            0.031250  109.171.109.164   \n",
       "2013-03-16 07:42:53     206            0.224717  109.171.109.164   \n",
       "\n",
       "                                                    request_first_line  \n",
       "time_received                                                           \n",
       "2013-03-16 04:00:25  GET /index.php?option=com_content&task=section...  \n",
       "2013-03-16 04:00:25  GET /templates/ja_procyon/css/template_css.css...  \n",
       "2013-03-16 04:04:23  GET /forum/download/file.php?avatar=156.gif HT...  \n",
       "2013-03-16 04:04:23  GET /forum/download/file.php?avatar=216.jpg HT...  \n",
       "2013-03-16 04:04:25     GET /apple-touch-icon-precomposed.png HTTP/1.0  \n",
       "2013-03-16 04:04:26                 GET /apple-touch-icon.png HTTP/1.0  \n",
       "2013-03-16 04:13:08                                GET /forum HTTP/1.0  \n",
       "2013-03-16 04:13:09                                   GET /.. HTTP/1.0  \n",
       "2013-03-16 04:13:09                              GET /podcast HTTP/1.0  \n",
       "2013-03-16 04:19:41  GET /images/stories/researchers/laplace.jpg HT...  \n",
       "2013-03-16 04:33:14  GET /images/stories/researchers/treshnikov.jpg...  \n",
       "2013-03-16 04:47:04        POST /podcast/wp-comments-post.php HTTP/1.0  \n",
       "2013-03-16 07:27:40        POST /podcast/wp-comments-post.php HTTP/1.0  \n",
       "2013-03-16 07:42:53      GET /images/stories/pdf/0104_044.pdf HTTP/1.0  \n",
       "2013-03-16 07:42:53      GET /images/stories/pdf/0104_044.pdf HTTP/1.0  "
      ]
     },
     "execution_count": 40,
     "metadata": {},
     "output_type": "execute_result"
    }
   ],
   "source": [
    "grouped_status.head(2)"
   ]
  },
  {
   "cell_type": "markdown",
   "metadata": {},
   "source": [
    "### 统计每组的大小"
   ]
  },
  {
   "cell_type": "code",
   "execution_count": 41,
   "metadata": {},
   "outputs": [
    {
     "data": {
      "text/plain": [
       "<matplotlib.axes._subplots.AxesSubplot at 0x1148d1ef0>"
      ]
     },
     "execution_count": 41,
     "metadata": {},
     "output_type": "execute_result"
    },
    {
     "data": {
      "image/png": "[encoded data removed]",
      "text/plain": [
       "<matplotlib.figure.Figure at 0x11472d128>"
      ]
     },
     "metadata": {},
     "output_type": "display_data"
    }
   ],
   "source": [
    "grouped_status.size().plot(kind='bar')"
   ]
  },
  {
   "cell_type": "code",
   "execution_count": 42,
   "metadata": {},
   "outputs": [
    {
     "data": {
      "text/plain": [
       "<matplotlib.axes._subplots.AxesSubplot at 0x114a56fd0>"
      ]
     },
     "execution_count": 42,
     "metadata": {},
     "output_type": "execute_result"
    },
    {
     "data": {
      "image/png": "[encoded data removed]",
      "text/plain": [
       "<matplotlib.figure.Figure at 0x11496fc50>"
      ]
     },
     "metadata": {},
     "output_type": "display_data"
    }
   ],
   "source": [
    "t_span = '30t'\n",
    "grouped_status.get_group(301)['status'].resample(t_span).count().plot(color='g', label='301')\n",
    "grouped_status.get_group(200)['status'].resample(t_span).count().plot(color='b', secondary_y=True, label='200')"
   ]
  },
  {
   "cell_type": "markdown",
   "metadata": {},
   "source": [
    "## IPs\n",
    "\n",
    "根据IP地址来源统计"
   ]
  },
  {
   "cell_type": "code",
   "execution_count": 43,
   "metadata": {},
   "outputs": [
    {
     "data": {
      "text/html": [
       "<div>\n",
       "<style scoped>\n",
       "    .dataframe tbody tr th:only-of-type {\n",
       "        vertical-align: middle;\n",
       "    }\n",
       "\n",
       "    .dataframe tbody tr th {\n",
       "        vertical-align: top;\n",
       "    }\n",
       "\n",
       "    .dataframe thead th {\n",
       "        text-align: right;\n",
       "    }\n",
       "</style>\n",
       "<table border=\"1\" class=\"dataframe\">\n",
       "  <thead>\n",
       "    <tr style=\"text-align: right;\">\n",
       "      <th></th>\n",
       "      <th>status</th>\n",
       "      <th>response_bytes_clf</th>\n",
       "      <th>remote_host</th>\n",
       "      <th>request_first_line</th>\n",
       "    </tr>\n",
       "    <tr>\n",
       "      <th>time_received</th>\n",
       "      <th></th>\n",
       "      <th></th>\n",
       "      <th></th>\n",
       "      <th></th>\n",
       "    </tr>\n",
       "  </thead>\n",
       "  <tbody>\n",
       "    <tr>\n",
       "      <th>2013-03-16 04:00:25</th>\n",
       "      <td>200</td>\n",
       "      <td>0.024916</td>\n",
       "      <td>109.165.31.156</td>\n",
       "      <td>GET /index.php?option=com_content&amp;task=section...</td>\n",
       "    </tr>\n",
       "    <tr>\n",
       "      <th>2013-03-16 04:00:25</th>\n",
       "      <td>200</td>\n",
       "      <td>0.010044</td>\n",
       "      <td>109.165.31.156</td>\n",
       "      <td>GET /templates/ja_procyon/css/template_css.css...</td>\n",
       "    </tr>\n",
       "    <tr>\n",
       "      <th>2013-03-16 04:00:25</th>\n",
       "      <td>200</td>\n",
       "      <td>0.001767</td>\n",
       "      <td>109.165.31.156</td>\n",
       "      <td>GET /templates/ja_procyon/switcher.js HTTP/1.0</td>\n",
       "    </tr>\n",
       "    <tr>\n",
       "      <th>2013-03-16 04:00:25</th>\n",
       "      <td>200</td>\n",
       "      <td>0.035432</td>\n",
       "      <td>109.165.31.156</td>\n",
       "      <td>GET /includes/js/overlib_mini.js HTTP/1.0</td>\n",
       "    </tr>\n",
       "    <tr>\n",
       "      <th>2013-03-16 04:00:25</th>\n",
       "      <td>200</td>\n",
       "      <td>0.003794</td>\n",
       "      <td>109.165.31.156</td>\n",
       "      <td>GET /modules/ja_transmenu/transmenuh.css HTTP/1.0</td>\n",
       "    </tr>\n",
       "  </tbody>\n",
       "</table>\n",
       "</div>"
      ],
      "text/plain": [
       "                     status  response_bytes_clf     remote_host  \\\n",
       "time_received                                                     \n",
       "2013-03-16 04:00:25     200            0.024916  109.165.31.156   \n",
       "2013-03-16 04:00:25     200            0.010044  109.165.31.156   \n",
       "2013-03-16 04:00:25     200            0.001767  109.165.31.156   \n",
       "2013-03-16 04:00:25     200            0.035432  109.165.31.156   \n",
       "2013-03-16 04:00:25     200            0.003794  109.165.31.156   \n",
       "\n",
       "                                                    request_first_line  \n",
       "time_received                                                           \n",
       "2013-03-16 04:00:25  GET /index.php?option=com_content&task=section...  \n",
       "2013-03-16 04:00:25  GET /templates/ja_procyon/css/template_css.css...  \n",
       "2013-03-16 04:00:25     GET /templates/ja_procyon/switcher.js HTTP/1.0  \n",
       "2013-03-16 04:00:25          GET /includes/js/overlib_mini.js HTTP/1.0  \n",
       "2013-03-16 04:00:25  GET /modules/ja_transmenu/transmenuh.css HTTP/1.0  "
      ]
     },
     "execution_count": 43,
     "metadata": {},
     "output_type": "execute_result"
    }
   ],
   "source": [
    "df.head()"
   ]
  },
  {
   "cell_type": "code",
   "execution_count": 44,
   "metadata": {},
   "outputs": [],
   "source": [
    "ips = df.groupby('remote_host').size()"
   ]
  },
  {
   "cell_type": "code",
   "execution_count": 45,
   "metadata": {},
   "outputs": [
    {
     "data": {
      "text/plain": [
       "remote_host\n",
       "100.44.124.8       26\n",
       "108.171.252.242    24\n",
       "109.165.31.156     12\n",
       "109.171.109.164     4\n",
       "109.191.82.110     14\n",
       "109.200.149.88     56\n",
       "109.205.252.77     32\n",
       "109.225.55.49      13\n",
       "109.226.101.186    45\n",
       "109.230.128.168     9\n",
       "109.230.128.169    13\n",
       "109.230.132.244     2\n",
       "109.87.146.37       4\n",
       "109.87.148.141     13\n",
       "111.73.45.49       10\n",
       "112.101.64.150     35\n",
       "112.101.64.28      12\n",
       "112.78.139.130      1\n",
       "116.25.249.140      1\n",
       "117.199.193.19      1\n",
       "117.26.200.81       3\n",
       "117.27.175.158      1\n",
       "119.147.6.60        1\n",
       "120.85.235.128     10\n",
       "121.205.213.80     16\n",
       "122.201.18.26       1\n",
       "123.30.175.30       6\n",
       "128.69.187.215      2\n",
       "128.70.195.174      4\n",
       "128.70.235.42      12\n",
       "                   ..\n",
       "95.105.80.236       2\n",
       "95.106.202.8        1\n",
       "95.118.89.119      93\n",
       "95.128.242.177     12\n",
       "95.137.65.198      35\n",
       "95.153.169.54      13\n",
       "95.161.28.2         1\n",
       "95.190.32.91        2\n",
       "95.220.98.14        2\n",
       "95.221.223.190     12\n",
       "95.25.121.154       1\n",
       "95.27.28.213        7\n",
       "95.31.19.80         3\n",
       "95.32.16.122       13\n",
       "95.46.100.5         1\n",
       "95.46.122.18        2\n",
       "95.46.123.25        2\n",
       "95.46.123.35        2\n",
       "95.46.124.115       2\n",
       "95.46.125.207       2\n",
       "95.46.125.220       2\n",
       "95.46.125.75        2\n",
       "95.46.126.205       2\n",
       "95.46.126.84        2\n",
       "95.55.245.145       2\n",
       "95.55.245.170      33\n",
       "95.73.181.181       1\n",
       "95.83.140.252       2\n",
       "95.83.169.246       1\n",
       "95.84.137.56       10\n",
       "Length: 431, dtype: int64"
      ]
     },
     "execution_count": 45,
     "metadata": {},
     "output_type": "execute_result"
    }
   ],
   "source": [
    "ips"
   ]
  },
  {
   "cell_type": "code",
   "execution_count": 46,
   "metadata": {},
   "outputs": [
    {
     "data": {
      "text/plain": [
       "<matplotlib.axes._subplots.AxesSubplot at 0x114a5f3c8>"
      ]
     },
     "execution_count": 46,
     "metadata": {},
     "output_type": "execute_result"
    },
    {
     "data": {
      "image/png": "[encoded data removed]",
      "text/plain": [
       "<matplotlib.figure.Figure at 0x114a70128>"
      ]
     },
     "metadata": {},
     "output_type": "display_data"
    }
   ],
   "source": [
    "ips_sorted = ips.sort_values()\n",
    "ips_sorted[-10:].plot(kind='barh')"
   ]
  },
  {
   "cell_type": "code",
   "execution_count": 47,
   "metadata": {},
   "outputs": [
    {
     "data": {
      "text/html": [
       "<div>\n",
       "<style scoped>\n",
       "    .dataframe tbody tr th:only-of-type {\n",
       "        vertical-align: middle;\n",
       "    }\n",
       "\n",
       "    .dataframe tbody tr th {\n",
       "        vertical-align: top;\n",
       "    }\n",
       "\n",
       "    .dataframe thead th {\n",
       "        text-align: right;\n",
       "    }\n",
       "</style>\n",
       "<table border=\"1\" class=\"dataframe\">\n",
       "  <thead>\n",
       "    <tr style=\"text-align: right;\">\n",
       "      <th></th>\n",
       "      <th>Number of requests</th>\n",
       "    </tr>\n",
       "    <tr>\n",
       "      <th>remote_host</th>\n",
       "      <th></th>\n",
       "    </tr>\n",
       "  </thead>\n",
       "  <tbody>\n",
       "    <tr>\n",
       "      <th>66.249.73.137</th>\n",
       "      <td>814</td>\n",
       "    </tr>\n",
       "    <tr>\n",
       "      <th>178.154.206.250</th>\n",
       "      <td>168</td>\n",
       "    </tr>\n",
       "    <tr>\n",
       "      <th>85.114.191.235</th>\n",
       "      <td>165</td>\n",
       "    </tr>\n",
       "    <tr>\n",
       "      <th>173.199.115.187</th>\n",
       "      <td>127</td>\n",
       "    </tr>\n",
       "    <tr>\n",
       "      <th>85.142.104.227</th>\n",
       "      <td>126</td>\n",
       "    </tr>\n",
       "    <tr>\n",
       "      <th>178.70.210.234</th>\n",
       "      <td>120</td>\n",
       "    </tr>\n",
       "    <tr>\n",
       "      <th>85.142.104.228</th>\n",
       "      <td>111</td>\n",
       "    </tr>\n",
       "    <tr>\n",
       "      <th>95.118.89.119</th>\n",
       "      <td>93</td>\n",
       "    </tr>\n",
       "    <tr>\n",
       "      <th>217.69.133.68</th>\n",
       "      <td>74</td>\n",
       "    </tr>\n",
       "    <tr>\n",
       "      <th>212.3.137.202</th>\n",
       "      <td>72</td>\n",
       "    </tr>\n",
       "  </tbody>\n",
       "</table>\n",
       "</div>"
      ],
      "text/plain": [
       "                 Number of requests\n",
       "remote_host                        \n",
       "66.249.73.137                   814\n",
       "178.154.206.250                 168\n",
       "85.114.191.235                  165\n",
       "173.199.115.187                 127\n",
       "85.142.104.227                  126\n",
       "178.70.210.234                  120\n",
       "85.142.104.228                  111\n",
       "95.118.89.119                    93\n",
       "217.69.133.68                    74\n",
       "212.3.137.202                    72"
      ]
     },
     "execution_count": 47,
     "metadata": {},
     "output_type": "execute_result"
    }
   ],
   "source": [
    "ips_fd = pd.DataFrame({'Number of requests': ips_sorted[-10:]})\n",
    "ips_fd = ips_fd.sort_values(by='Number of requests', ascending=False)\n",
    "ips_fd"
   ]
  },
  {
   "cell_type": "markdown",
   "metadata": {},
   "source": [
    "### 按照IP以及Status分组"
   ]
  },
  {
   "cell_type": "code",
   "execution_count": 48,
   "metadata": {},
   "outputs": [],
   "source": [
    "ips_status = df.groupby(['remote_host', 'status']).size()"
   ]
  },
  {
   "cell_type": "code",
   "execution_count": 49,
   "metadata": {},
   "outputs": [
    {
     "data": {
      "text/plain": [
       "remote_host      status\n",
       "100.44.124.8     200        9\n",
       "                 403        6\n",
       "                 404       11\n",
       "108.171.252.242  200       24\n",
       "109.165.31.156   200       12\n",
       "109.171.109.164  200        2\n",
       "                 206        2\n",
       "109.191.82.110   200       12\n",
       "                 404        2\n",
       "109.200.149.88   200       36\n",
       "                 301       20\n",
       "109.205.252.77   200       24\n",
       "                 301        8\n",
       "109.225.55.49    200       13\n",
       "109.226.101.186  200       41\n",
       "                 403        4\n",
       "109.230.128.168  200        1\n",
       "                 301        8\n",
       "109.230.128.169  200       13\n",
       "109.230.132.244  200        1\n",
       "                 301        1\n",
       "109.87.146.37    403        4\n",
       "109.87.148.141   200       13\n",
       "111.73.45.49     200       10\n",
       "112.101.64.150   200       35\n",
       "112.101.64.28    200       12\n",
       "112.78.139.130   200        1\n",
       "116.25.249.140   200        1\n",
       "117.199.193.19   200        1\n",
       "117.26.200.81    200        2\n",
       "                           ..\n",
       "95.31.19.80      200        3\n",
       "95.32.16.122     200       13\n",
       "95.46.100.5      200        1\n",
       "95.46.122.18     200        1\n",
       "                 301        1\n",
       "95.46.123.25     200        1\n",
       "                 301        1\n",
       "95.46.123.35     200        1\n",
       "                 301        1\n",
       "95.46.124.115    200        1\n",
       "                 301        1\n",
       "95.46.125.207    200        1\n",
       "                 301        1\n",
       "95.46.125.220    200        1\n",
       "                 301        1\n",
       "95.46.125.75     200        1\n",
       "                 301        1\n",
       "95.46.126.205    200        1\n",
       "                 301        1\n",
       "95.46.126.84     200        1\n",
       "                 301        1\n",
       "95.55.245.145    200        1\n",
       "                 304        1\n",
       "95.55.245.170    200       23\n",
       "                 301        8\n",
       "                 304        2\n",
       "95.73.181.181    200        1\n",
       "95.83.140.252    404        2\n",
       "95.83.169.246    200        1\n",
       "95.84.137.56     200       10\n",
       "Length: 613, dtype: int64"
      ]
     },
     "execution_count": 49,
     "metadata": {},
     "output_type": "execute_result"
    }
   ],
   "source": [
    "ips_status"
   ]
  },
  {
   "cell_type": "code",
   "execution_count": 50,
   "metadata": {},
   "outputs": [
    {
     "data": {
      "text/plain": [
       "<matplotlib.axes._subplots.AxesSubplot at 0x114ae39b0>"
      ]
     },
     "execution_count": 50,
     "metadata": {},
     "output_type": "execute_result"
    },
    {
     "data": {
      "image/png": "[encoded data removed]",
      "text/plain": [
       "<matplotlib.figure.Figure at 0x114b5de48>"
      ]
     },
     "metadata": {},
     "output_type": "display_data"
    }
   ],
   "source": [
    "ips_status.sort_values()[-20:].plot(kind='barh')"
   ]
  },
  {
   "cell_type": "markdown",
   "metadata": {},
   "source": [
    "## 地理信息\n",
    "\n",
    "利用 **`pygeoip`** 可以根据IP获取对应地理信息，这里我们需要下载对应的文件。"
   ]
  },
  {
   "cell_type": "code",
   "execution_count": 51,
   "metadata": {},
   "outputs": [],
   "source": [
    "#! pip install pygeoip\n",
    "import pygeoip\n",
    "gi = pygeoip.GeoIP('./data/GeoLiteCity.dat', pygeoip.MEMORY_CACHE)"
   ]
  },
  {
   "cell_type": "markdown",
   "metadata": {},
   "source": [
    "this is how output of the pygeoip looks(we test our top IP from the previous section)："
   ]
  },
  {
   "cell_type": "code",
   "execution_count": 54,
   "metadata": {},
   "outputs": [
    {
     "data": {
      "text/plain": [
       "{'area_code': 650,\n",
       " 'city': 'Mountain View',\n",
       " 'continent': 'NA',\n",
       " 'country_code': 'US',\n",
       " 'country_code3': 'USA',\n",
       " 'country_name': 'United States',\n",
       " 'dma_code': 807,\n",
       " 'latitude': 37.41919999999999,\n",
       " 'longitude': -122.0574,\n",
       " 'metro_code': 'San Francisco, CA',\n",
       " 'postal_code': '94043',\n",
       " 'region_code': 'CA',\n",
       " 'time_zone': 'America/Los_Angeles'}"
      ]
     },
     "execution_count": 54,
     "metadata": {},
     "output_type": "execute_result"
    }
   ],
   "source": [
    "ipcon = gi.record_by_addr('64.233.161.99')\n",
    "ipcon"
   ]
  },
  {
   "cell_type": "code",
   "execution_count": 59,
   "metadata": {},
   "outputs": [],
   "source": [
    "ipcon = []\n",
    "i = 0\n",
    "for iip in ips.index:\n",
    "    rres = gi.record_by_addr(iip)\n",
    "    if rres ==None:\n",
    "        print(iip)\n",
    "        continue\n",
    "    rres['Number'] = ips[iip]\n",
    "    # delete some fields we don`t need\n",
    "    del rres['area_code']\n",
    "    del rres['dma_code']\n",
    "    del rres['metro_code']\n",
    "    del rres['postal_code']\n",
    "    del rres['region_code']\n",
    "    del rres['time_zone']\n",
    "    del rres['country_code']\n",
    "    \n",
    "    ipcon.append(rres)\n",
    "    "
   ]
  },
  {
   "cell_type": "markdown",
   "metadata": {},
   "source": [
    "> 上面在查找的时候，实际上有一个ip没有查到，所以我们需要把那个删除"
   ]
  },
  {
   "cell_type": "code",
   "execution_count": 57,
   "metadata": {},
   "outputs": [],
   "source": [
    "# ips['91.224.246.183']\n",
    "ips.drop('91.224.246.183', inplace=True)"
   ]
  },
  {
   "cell_type": "code",
   "execution_count": 58,
   "metadata": {},
   "outputs": [
    {
     "data": {
      "text/html": [
       "<div>\n",
       "<style scoped>\n",
       "    .dataframe tbody tr th:only-of-type {\n",
       "        vertical-align: middle;\n",
       "    }\n",
       "\n",
       "    .dataframe tbody tr th {\n",
       "        vertical-align: top;\n",
       "    }\n",
       "\n",
       "    .dataframe thead th {\n",
       "        text-align: right;\n",
       "    }\n",
       "</style>\n",
       "<table border=\"1\" class=\"dataframe\">\n",
       "  <thead>\n",
       "    <tr style=\"text-align: right;\">\n",
       "      <th></th>\n",
       "      <th>Number</th>\n",
       "      <th>city</th>\n",
       "      <th>continent</th>\n",
       "      <th>country_code3</th>\n",
       "      <th>country_name</th>\n",
       "      <th>latitude</th>\n",
       "      <th>longitude</th>\n",
       "    </tr>\n",
       "    <tr>\n",
       "      <th>remote_host</th>\n",
       "      <th></th>\n",
       "      <th></th>\n",
       "      <th></th>\n",
       "      <th></th>\n",
       "      <th></th>\n",
       "      <th></th>\n",
       "      <th></th>\n",
       "    </tr>\n",
       "  </thead>\n",
       "  <tbody>\n",
       "    <tr>\n",
       "      <th>100.44.124.8</th>\n",
       "      <td>26</td>\n",
       "      <td>None</td>\n",
       "      <td>NA</td>\n",
       "      <td>USA</td>\n",
       "      <td>United States</td>\n",
       "      <td>37.7510</td>\n",
       "      <td>-97.8220</td>\n",
       "    </tr>\n",
       "    <tr>\n",
       "      <th>108.171.252.242</th>\n",
       "      <td>24</td>\n",
       "      <td>Walnut</td>\n",
       "      <td>NA</td>\n",
       "      <td>USA</td>\n",
       "      <td>United States</td>\n",
       "      <td>34.0115</td>\n",
       "      <td>-117.8535</td>\n",
       "    </tr>\n",
       "    <tr>\n",
       "      <th>109.165.31.156</th>\n",
       "      <td>12</td>\n",
       "      <td>Rostov</td>\n",
       "      <td>EU</td>\n",
       "      <td>RUS</td>\n",
       "      <td>Russian Federation</td>\n",
       "      <td>47.2364</td>\n",
       "      <td>39.7139</td>\n",
       "    </tr>\n",
       "    <tr>\n",
       "      <th>109.171.109.164</th>\n",
       "      <td>4</td>\n",
       "      <td>Novosibirsk</td>\n",
       "      <td>EU</td>\n",
       "      <td>RUS</td>\n",
       "      <td>Russian Federation</td>\n",
       "      <td>55.0415</td>\n",
       "      <td>82.9346</td>\n",
       "    </tr>\n",
       "    <tr>\n",
       "      <th>109.191.82.110</th>\n",
       "      <td>14</td>\n",
       "      <td>Chelyabinsk</td>\n",
       "      <td>EU</td>\n",
       "      <td>RUS</td>\n",
       "      <td>Russian Federation</td>\n",
       "      <td>55.1544</td>\n",
       "      <td>61.4297</td>\n",
       "    </tr>\n",
       "  </tbody>\n",
       "</table>\n",
       "</div>"
      ],
      "text/plain": [
       "                 Number         city continent country_code3  \\\n",
       "remote_host                                                    \n",
       "100.44.124.8         26         None        NA           USA   \n",
       "108.171.252.242      24       Walnut        NA           USA   \n",
       "109.165.31.156       12       Rostov        EU           RUS   \n",
       "109.171.109.164       4  Novosibirsk        EU           RUS   \n",
       "109.191.82.110       14  Chelyabinsk        EU           RUS   \n",
       "\n",
       "                       country_name  latitude  longitude  \n",
       "remote_host                                               \n",
       "100.44.124.8          United States   37.7510   -97.8220  \n",
       "108.171.252.242       United States   34.0115  -117.8535  \n",
       "109.165.31.156   Russian Federation   47.2364    39.7139  \n",
       "109.171.109.164  Russian Federation   55.0415    82.9346  \n",
       "109.191.82.110   Russian Federation   55.1544    61.4297  "
      ]
     },
     "execution_count": 58,
     "metadata": {},
     "output_type": "execute_result"
    }
   ],
   "source": [
    "reg = pd.DataFrame(ipcon, index=ips.index)\n",
    "reg.head()"
   ]
  },
  {
   "cell_type": "markdown",
   "metadata": {},
   "source": [
    "### 根据国家进行分组"
   ]
  },
  {
   "cell_type": "code",
   "execution_count": 60,
   "metadata": {},
   "outputs": [],
   "source": [
    "country = reg.groupby('country_code3')"
   ]
  },
  {
   "cell_type": "markdown",
   "metadata": {},
   "source": [
    "> 注意，下面在使用 **`agg`** 的时候，给的参数内容是字符串，实际上这个地方我们也可以使用 **`np.sum`** 。"
   ]
  },
  {
   "cell_type": "code",
   "execution_count": 62,
   "metadata": {},
   "outputs": [
    {
     "data": {
      "text/plain": [
       "<matplotlib.axes._subplots.AxesSubplot at 0x11972d940>"
      ]
     },
     "execution_count": 62,
     "metadata": {},
     "output_type": "execute_result"
    },
    {
     "data": {
      "image/png": "[encoded data removed]",
      "text/plain": [
       "<matplotlib.figure.Figure at 0x11997c4e0>"
      ]
     },
     "metadata": {},
     "output_type": "display_data"
    }
   ],
   "source": [
    "ff = country.Number.agg('sum').copy()\n",
    "ff.sort_values(inplace=True)\n",
    "ff[-10:].plot(kind='barh')"
   ]
  },
  {
   "cell_type": "markdown",
   "metadata": {},
   "source": [
    "通过上面的数据分析，我们可以猜测这个网站是个俄罗斯的网站。"
   ]
  },
  {
   "cell_type": "markdown",
   "metadata": {},
   "source": [
    "####  按城市进行分组"
   ]
  },
  {
   "cell_type": "code",
   "execution_count": 63,
   "metadata": {},
   "outputs": [],
   "source": [
    "city = reg.groupby('city')"
   ]
  },
  {
   "cell_type": "code",
   "execution_count": 65,
   "metadata": {},
   "outputs": [
    {
     "data": {
      "text/plain": [
       "<matplotlib.axes._subplots.AxesSubplot at 0x1151dccf8>"
      ]
     },
     "execution_count": 65,
     "metadata": {},
     "output_type": "execute_result"
    },
    {
     "data": {
      "image/png": "[encoded data removed]",
      "text/plain": [
       "<matplotlib.figure.Figure at 0x119919358>"
      ]
     },
     "metadata": {},
     "output_type": "display_data"
    }
   ],
   "source": [
    "ff = city.Number.agg('sum').copy()\n",
    "ff.sort_values(inplace=True)\n",
    "ff[-20:].plot(kind='barh', figsize=(5, 8))"
   ]
  },
  {
   "cell_type": "code",
   "execution_count": 66,
   "metadata": {},
   "outputs": [],
   "source": [
    "## 还缺少一些根据地图进行绘制的代码"
   ]
  },
  {
   "cell_type": "code",
   "execution_count": null,
   "metadata": {},
   "outputs": [],
   "source": []
  }
 ],
 "metadata": {
  "kernelspec": {
   "display_name": "Python 3",
   "language": "python",
   "name": "python3"
  },
  "language_info": {
   "codemirror_mode": {
    "name": "ipython",
    "version": 3
   },
   "file_extension": ".py",
   "mimetype": "text/x-python",
   "name": "python",
   "nbconvert_exporter": "python",
   "pygments_lexer": "ipython3",
   "version": "3.6.4"
  }
 },
 "nbformat": 4,
 "nbformat_minor": 2
}
