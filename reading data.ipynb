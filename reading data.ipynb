{
 "cells": [
  {
   "cell_type": "markdown",
   "metadata": {},
   "source": [
    "## 读\n",
    "* read_csv\n",
    "* read_excel\n",
    "* read_hdf\n",
    "* read_sql\n",
    "* read_json\n",
    "* read_msgpack (experimental)\n",
    "* read_html\n",
    "* read_gbq (experimental)\n",
    "* read_stata\n",
    "* read_sas\n",
    "* read_clipboard\n",
    "* read_pickle\n",
    "## 写\n",
    "* to_csv\n",
    "* to_excel\n",
    "* to_hdf\n",
    "* to_sql\n",
    "* to_json\n",
    "* to_msgpack (experimental)\n",
    "* to_html\n",
    "* to_gbq (experimental)\n",
    "* to_stata\n",
    "* to_clipboard\n",
    "* to_pickle\n",
    "## 其他数据源\n",
    "* 数据库\n",
    "* 读取网页数据,网络文件\n",
    "* 读取股票数据\n",
    "* yahoo，世界银行等等"
   ]
  },
  {
   "cell_type": "code",
   "execution_count": 1,
   "metadata": {},
   "outputs": [],
   "source": [
    "import numpy as np\n",
    "import pandas as pd"
   ]
  },
  {
   "cell_type": "markdown",
   "metadata": {},
   "source": [
    "### csv,txt"
   ]
  },
  {
   "cell_type": "code",
   "execution_count": null,
   "metadata": {},
   "outputs": [],
   "source": [
    "eu12= pd.read_csv('./data/Eueo2012.csv')\n",
    "eu12.head()"
   ]
  },
  {
   "cell_type": "code",
   "execution_count": null,
   "metadata": {},
   "outputs": [],
   "source": [
    "columns = eu12.columns"
   ]
  },
  {
   "cell_type": "code",
   "execution_count": null,
   "metadata": {},
   "outputs": [],
   "source": [
    "columns"
   ]
  },
  {
   "cell_type": "code",
   "execution_count": null,
   "metadata": {},
   "outputs": [],
   "source": [
    "# 把第一列作为索引\n",
    "eu12 = pd.read_csv('./data/Eueo2012.csv', index_col=0)\n",
    "eu12.head()"
   ]
  },
  {
   "cell_type": "code",
   "execution_count": null,
   "metadata": {},
   "outputs": [],
   "source": [
    "# 如果列没有名字，第一行会自动变成列\n",
    "eu12_header = pd.read_csv('./data/Eueo2012_no_header.csv')\n",
    "eu12_header.head()"
   ]
  },
  {
   "cell_type": "code",
   "execution_count": null,
   "metadata": {},
   "outputs": [],
   "source": [
    "# 通过给header设置为None，可以告诉pandas没有列\n",
    "eu12_header = pd.read_csv('./data/Eueo2012_no_header.csv', header=None)\n",
    "eu12_header.head()"
   ]
  },
  {
   "cell_type": "code",
   "execution_count": null,
   "metadata": {},
   "outputs": [],
   "source": [
    "# 如果知道了列的名字的话，可以直接进行赋值\n",
    "eu12_header = pd.read_csv('./data/Eueo2012_no_header.csv', names=columns)\n",
    "eu12_header.head()"
   ]
  },
  {
   "cell_type": "code",
   "execution_count": null,
   "metadata": {},
   "outputs": [],
   "source": [
    "# 在读入数据的时候，可以告诉每一列的数据 是什么类型的数据(！！！通过字典的方式进行设定！！！)\n",
    "eu12_header = pd.read_csv('./data/Eueo2012_no_header.csv', names=columns, dtype={'Goals':np.float64})\n",
    "eu12_header.head()"
   ]
  },
  {
   "cell_type": "code",
   "execution_count": null,
   "metadata": {},
   "outputs": [],
   "source": [
    "# 获取各个列的数据的类型\n",
    "eu12_header.dtypes"
   ]
  },
  {
   "cell_type": "code",
   "execution_count": null,
   "metadata": {},
   "outputs": [],
   "source": [
    "# 如果只想读某几行的话，要用到!!!usecols!!!字段，值为一个列表\n",
    "eu12 = pd.read_csv('./data/Eueo2012.csv', index_col=0, usecols=['Team', 'Goals', 'Shots on target'])\n",
    "eu12.head()"
   ]
  },
  {
   "cell_type": "code",
   "execution_count": null,
   "metadata": {},
   "outputs": [],
   "source": [
    "# 如果index_label的值赋值为False，那么生成的cvs中，Team就没有了！！！！\n",
    "eu12.to_csv('./data/Eueo2012_save.csv', index_label='Team')"
   ]
  },
  {
   "cell_type": "code",
   "execution_count": null,
   "metadata": {},
   "outputs": [],
   "source": [
    "!cat ./data/Eueo2012_save.csv      # 看来cat是查看的命令"
   ]
  },
  {
   "cell_type": "code",
   "execution_count": null,
   "metadata": {},
   "outputs": [],
   "source": [
    "!type ./data/Eueo2012_save.csv    # type也是查看的命令【这个是Windows中的命令】"
   ]
  },
  {
   "cell_type": "code",
   "execution_count": null,
   "metadata": {},
   "outputs": [],
   "source": [
    "eu12.to_csv?"
   ]
  },
  {
   "cell_type": "markdown",
   "metadata": {},
   "source": [
    "### 进阶"
   ]
  },
  {
   "cell_type": "code",
   "execution_count": null,
   "metadata": {},
   "outputs": [],
   "source": [
    "!cat ./data/Eueo2012_del.txt"
   ]
  },
  {
   "cell_type": "code",
   "execution_count": null,
   "metadata": {},
   "outputs": [],
   "source": [
    "# 因为分割是用的“？”，所以会分不出来\n",
    "eu12=pd.read_table('./data/Eueo2012_del.txt', index_col=0)\n",
    "eu12.head()"
   ]
  },
  {
   "cell_type": "code",
   "execution_count": null,
   "metadata": {},
   "outputs": [],
   "source": [
    "# 我们可以根据需要设置sep的值，来灵活处理，这个参数csv中也适用。\n",
    "eu12=pd.read_table('./data/Eueo2012_del.txt', sep='?', index_col=0)\n",
    "eu12.head()"
   ]
  },
  {
   "cell_type": "code",
   "execution_count": null,
   "metadata": {},
   "outputs": [],
   "source": [
    "!cat ./data/Eueo2012_skip.txt"
   ]
  },
  {
   "cell_type": "code",
   "execution_count": null,
   "metadata": {},
   "outputs": [],
   "source": [
    "# 而且我们可以设置哪些行是要跳过的,直接传值是要跳过多少行\n",
    "# ！！！！有个地方是没想到的：读txt文件也可以用读csv的方法来读！！！\n",
    "eu12=pd.read_csv('./data/Eueo2012_skip.txt', sep='?', index_col=0, skiprows=[0,1])\n",
    "eu12"
   ]
  },
  {
   "cell_type": "code",
   "execution_count": null,
   "metadata": {},
   "outputs": [],
   "source": [
    "# 直接在skiprows传-1是不起作用的，这个时候就需要用到skipfooter这个参数了。。！！！！参数的值是对应要跳过的行数！！！！\n",
    "# 而且最好通过engine来指定引擎是Python，要不会有警告的！！！\n",
    "eu12=pd.read_csv('./data/Eueo2012_skip.txt', sep='?', index_col=0, skiprows=[0,1], skipfooter=1, engine='python')\n",
    "eu12"
   ]
  },
  {
   "cell_type": "code",
   "execution_count": null,
   "metadata": {},
   "outputs": [],
   "source": [
    "#--！！也可以通过nrow来指定读入多少行数据！！--#\n",
    "eu12 = pd.read_table('./data/Eueo2012_del.txt', sep='?', index_col=0, nrows=5)\n",
    "eu12"
   ]
  },
  {
   "cell_type": "code",
   "execution_count": null,
   "metadata": {},
   "outputs": [],
   "source": [
    "eu12 = pd.read_csv('./data/Eueo2012_del.txt', header=0, skiprows=5, nrows=5, sep='?', index_col=0, names=['Goals', 'Shot on target'])\n",
    "eu12"
   ]
  },
  {
   "cell_type": "markdown",
   "metadata": {},
   "source": [
    "### excel"
   ]
  },
  {
   "cell_type": "code",
   "execution_count": null,
   "metadata": {},
   "outputs": [],
   "source": [
    "# 读取excel的时候，需要特别指定sheet_name，来告诉读取那个sheet。\n",
    "eu12 = pd.read_excel('./data/Eueo2012_excel.xlsx', sheet_name=\"Eueo2011\")\n",
    "eu12.head()"
   ]
  },
  {
   "cell_type": "code",
   "execution_count": null,
   "metadata": {},
   "outputs": [],
   "source": [
    "# 通过设置index为False的话，就不会把DataFrame中的索引页添加上去了！\n",
    "eu12.to_excel('./data/test.xlsx', index=False)"
   ]
  },
  {
   "cell_type": "code",
   "execution_count": null,
   "metadata": {},
   "outputs": [],
   "source": [
    "# 新建了表之后，还可以指定表的name\n",
    "eu12.to_excel('./data/test1.xlsx', sheet_name='eu12',index=False)"
   ]
  },
  {
   "cell_type": "code",
   "execution_count": null,
   "metadata": {},
   "outputs": [],
   "source": [
    "eu12.to_excel?"
   ]
  },
  {
   "cell_type": "markdown",
   "metadata": {},
   "source": [
    "一个jupyter notebook的技巧:`esc` + `a`在格子的上方插入格子；`esc` + `b`在格子的下方插入格子；`esc` + `d`(两次)可以删除当前的格子"
   ]
  },
  {
   "cell_type": "code",
   "execution_count": null,
   "metadata": {},
   "outputs": [],
   "source": [
    "# 把多个数据写入同一个excel文件\n",
    "from pandas import ExcelWriter"
   ]
  },
  {
   "cell_type": "code",
   "execution_count": null,
   "metadata": {},
   "outputs": [],
   "source": [
    "with ExcelWriter('./data/test3.xlsx') as writer:\n",
    "    eu12.to_excel(writer, sheet_name='eu12', index=False)\n",
    "    eu12.to_excel(writer, sheet_name='eu11', index=False)"
   ]
  },
  {
   "cell_type": "markdown",
   "metadata": {},
   "source": [
    "### json"
   ]
  },
  {
   "cell_type": "code",
   "execution_count": null,
   "metadata": {},
   "outputs": [],
   "source": [
    "!cat ./data/eueo2012.json"
   ]
  },
  {
   "cell_type": "code",
   "execution_count": null,
   "metadata": {},
   "outputs": [],
   "source": [
    "eu12_json = pd.read_json('./data/eueo2012.json')    # 读进来的顺序变了\n",
    "eu12_json.head()"
   ]
  },
  {
   "cell_type": "markdown",
   "metadata": {},
   "source": [
    "## 数据库"
   ]
  },
  {
   "cell_type": "code",
   "execution_count": null,
   "metadata": {},
   "outputs": [],
   "source": [
    "import sqlite3\n",
    "# 写入\n",
    "connection = sqlite3.connect('./data/eueo2012.sqlite')\n",
    "eu12.to_sql('EU12_DATA', connection, if_exists='replace')\n",
    "# 提交，最后关闭\n",
    "connection.commit()\n",
    "connection.close()"
   ]
  },
  {
   "cell_type": "code",
   "execution_count": null,
   "metadata": {},
   "outputs": [],
   "source": [
    "# 读取\n",
    "connection = sqlite3.connect('./data/eueo2012.sqlite')\n",
    "eu12_sql = pd.io.sql.read_sql('SELECT * FROM EU12_DATA;', connection, index_col='index')\n",
    "# 关闭连接\n",
    "connection.close()\n",
    "eu12_sql.head()"
   ]
  },
  {
   "cell_type": "code",
   "execution_count": null,
   "metadata": {},
   "outputs": [],
   "source": [
    "# 进行条件查询\n",
    "connection = sqlite3.connect('./data/eueo2012.sqlite')\n",
    "query = 'SELECT * from EU12_DATA where Goals>5'\n",
    "items = pd.io.sql.read_sql(query, connection, index_col='index')\n",
    "connection.close()\n",
    "items"
   ]
  },
  {
   "cell_type": "markdown",
   "metadata": {},
   "source": [
    "### hdf5"
   ]
  },
  {
   "cell_type": "code",
   "execution_count": null,
   "metadata": {},
   "outputs": [],
   "source": [
    "df = pd.DataFrame(np.random.randn(10, 3), index=pd.date_range('11/11/2016',periods=10), columns=['A', 'B', 'C'])\n",
    "df"
   ]
  },
  {
   "cell_type": "code",
   "execution_count": null,
   "metadata": {},
   "outputs": [],
   "source": [
    "# 存储是数据到hdf5\n",
    "hdf = pd.HDFStore('./data/hdf.h5')"
   ]
  },
  {
   "cell_type": "code",
   "execution_count": null,
   "metadata": {},
   "outputs": [],
   "source": [
    "hdf['df'] = df"
   ]
  },
  {
   "cell_type": "code",
   "execution_count": null,
   "metadata": {},
   "outputs": [],
   "source": [
    "hdf"
   ]
  },
  {
   "cell_type": "code",
   "execution_count": null,
   "metadata": {},
   "outputs": [],
   "source": [
    "# 从文件中读取\n",
    "read_hdf = pd.HDFStore('./data/hdf.h5')\n",
    "df = read_hdf['df']\n",
    "df"
   ]
  },
  {
   "cell_type": "code",
   "execution_count": null,
   "metadata": {},
   "outputs": [],
   "source": [
    "df.ix[0].A = 1\n",
    "df"
   ]
  },
  {
   "cell_type": "code",
   "execution_count": null,
   "metadata": {},
   "outputs": [],
   "source": [
    "hdf['df'] = df"
   ]
  },
  {
   "cell_type": "code",
   "execution_count": null,
   "metadata": {},
   "outputs": [],
   "source": [
    "pd.HDFStore('./data/hdf.h5')['df'].head()"
   ]
  },
  {
   "cell_type": "markdown",
   "metadata": {},
   "source": [
    "## 读取web数据"
   ]
  },
  {
   "cell_type": "code",
   "execution_count": 2,
   "metadata": {},
   "outputs": [],
   "source": [
    "url = \"http://worldcup.2014.163.com/playerrank/index.html\""
   ]
  },
  {
   "cell_type": "code",
   "execution_count": 3,
   "metadata": {},
   "outputs": [],
   "source": [
    "eu2012=pd.read_html(url)"
   ]
  },
  {
   "cell_type": "code",
   "execution_count": 4,
   "metadata": {},
   "outputs": [
    {
     "data": {
      "text/plain": [
       "[   Unnamed: 0  排名     球员  数据    球队  Unnamed: 5\n",
       " 0         NaN   1  罗德里格斯   6  哥伦比亚         NaN\n",
       " 1         NaN   2     穆勒   5    德国         NaN\n",
       " 2         NaN   3    内马尔   4    巴西         NaN\n",
       " 3         NaN   4     梅西   4   阿根廷         NaN\n",
       " 4         NaN   5    范佩西   4    荷兰         NaN,\n",
       "    Unnamed: 0  排名     球员  数据    球队  Unnamed: 5\n",
       " 0         NaN   1    内马尔   1    巴西         NaN\n",
       " 1         NaN   2   萨马拉斯   1    希腊         NaN\n",
       " 2         NaN   3    范佩西   1    荷兰         NaN\n",
       " 3         NaN   4   耶迪纳克   1  澳大利亚         NaN\n",
       " 4         NaN   5  罗德里格斯   1  哥伦比亚         NaN,\n",
       "    Unnamed: 0  排名     球员  数据    球队  Unnamed: 5\n",
       " 0         NaN   1     穆勒   4    德国         NaN\n",
       " 1         NaN   2    克罗斯   4    德国         NaN\n",
       " 2         NaN   3   夸德拉多   4  哥伦比亚         NaN\n",
       " 3         NaN   4    布林德   3    荷兰         NaN\n",
       " 4         NaN   5  罗德里格斯   2  哥伦比亚         NaN,\n",
       "    Unnamed: 0  排名     球员  数据    球队  Unnamed: 5\n",
       " 0         NaN   1    本泽马  26    法国         NaN\n",
       " 1         NaN   2   迪马利亚  21   阿根廷         NaN\n",
       " 2         NaN   3     罗本  19    荷兰         NaN\n",
       " 3         NaN   4  罗德里格斯  16  哥伦比亚         NaN\n",
       " 4         NaN   5    沙奇里  15    瑞士         NaN,\n",
       "    Unnamed: 0  排名    球员  数据   球队  Unnamed: 5\n",
       " 0         NaN   1   本泽马  33   法国         NaN\n",
       " 1         NaN   2  迪马利亚  25  阿根廷         NaN\n",
       " 2         NaN   3    C罗  24  葡萄牙         NaN\n",
       " 3         NaN   4    梅西  22  阿根廷         NaN\n",
       " 4         NaN   5   沙奇里  21   瑞士         NaN,\n",
       "    Unnamed: 0  排名      球员   数据   球队  Unnamed: 5\n",
       " 0         NaN   1      拉姆  503   德国         NaN\n",
       " 1         NaN   2     克罗斯  493   德国         NaN\n",
       " 2         NaN   3   马斯切拉诺  480  阿根廷         NaN\n",
       " 3         NaN   4  施魏因施泰格  356   德国         NaN\n",
       " 4         NaN   5     博阿滕  329   德国         NaN,\n",
       "    Unnamed: 0  排名     球员  数据   球队  Unnamed: 5\n",
       " 0         NaN   1   迪马利亚  33  阿根廷         NaN\n",
       " 1         NaN   2     罗霍  26  阿根廷         NaN\n",
       " 2         NaN   3  巴尔布埃纳  26   法国         NaN\n",
       " 3         NaN   4   霍莱巴斯  26   希腊         NaN\n",
       " 4         NaN   5     罗本  24   荷兰         NaN,\n",
       "    Unnamed: 0  排名     球员  数据   球队  Unnamed: 5\n",
       " 0         NaN   1    克罗斯  30   德国         NaN\n",
       " 1         NaN   2  巴尔布埃纳  26   法国         NaN\n",
       " 2         NaN   3    内马尔  23   巴西         NaN\n",
       " 3         NaN   4     罗本  21   荷兰         NaN\n",
       " 4         NaN   5   德布劳内  17  比利时         NaN,\n",
       "    Unnamed: 0  排名      球员  数据     球队  Unnamed: 5\n",
       " 0         NaN   1     范佩西  12     荷兰         NaN\n",
       " 1         NaN   2      穆勒   8     德国         NaN\n",
       " 2         NaN   3     费莱尼   7    比利时         NaN\n",
       " 3         NaN   4    巴洛特利   6    意大利         NaN\n",
       " 4         NaN   5  乔尔-坎贝尔   6  哥斯达黎加         NaN,\n",
       "    Unnamed: 0  排名     球员   数据   球队  Unnamed: 5\n",
       " 0         NaN   1     拉姆  708   德国         NaN\n",
       " 1         NaN   2  马斯切拉诺  690  阿根廷         NaN\n",
       " 2         NaN   3    克罗斯  671   德国         NaN\n",
       " 3         NaN   4    德弗里  538   荷兰         NaN\n",
       " 4         NaN   5    博阿滕  526   德国         NaN,\n",
       "    Unnamed: 0  排名     球员  数据     球队  Unnamed: 5\n",
       " 0         NaN   1    范佩西  18     荷兰         NaN\n",
       " 1         NaN   2    费莱尼  18    比利时         NaN\n",
       " 2         NaN   3  古尚内贾德  16     伊朗         NaN\n",
       " 3         NaN   4   古斯塔沃  15     巴西         NaN\n",
       " 4         NaN   5   博拉诺斯  14  哥斯达黎加         NaN,\n",
       "    Unnamed: 0  排名    球员  数据     球队  Unnamed: 5\n",
       " 0         NaN   1   弗拉尔  15     荷兰         NaN\n",
       " 1         NaN   2  费尔通亨  12    比利时         NaN\n",
       " 2         NaN   3   迪亚斯  12  哥斯达黎加         NaN\n",
       " 3         NaN   4   博阿滕  11     德国         NaN\n",
       " 4         NaN   5  赫韦德斯  11     德国         NaN,\n",
       "    Unnamed: 0  排名        球员  数据   球队  Unnamed: 5\n",
       " 0         NaN   1  蒂亚戈-席...   3   巴西         NaN\n",
       " 1         NaN   2    施魏因施泰格   2   德国         NaN\n",
       " 2         NaN   3      古斯塔沃   2   巴西         NaN\n",
       " 3         NaN   4       席尔瓦   2   智利         NaN\n",
       " 4         NaN   5      阿吉拉尔   2  墨西哥         NaN,\n",
       "    Unnamed: 0  排名        球员  数据     球队  Unnamed: 5\n",
       " 0         NaN   1  威尔逊-帕...   1   洪都拉斯         NaN\n",
       " 1         NaN   2       杜阿特   1  哥斯达黎加         NaN\n",
       " 2         NaN   3    卡特索拉尼斯   1     希腊         NaN\n",
       " 3         NaN   4      巴伦西亚   1   厄瓜多尔         NaN\n",
       " 4         NaN   5  马克西-佩...   1    乌拉圭         NaN,\n",
       "    Unnamed: 0  排名     球员  数据    球队  Unnamed: 5\n",
       " 0         NaN   1    塞萨尔  14    巴西         NaN\n",
       " 1         NaN   2     瑞恩   9  澳大利亚         NaN\n",
       " 2         NaN   3    伊坦杰   9   喀麦隆         NaN\n",
       " 3         NaN   4  巴拉达雷斯   8  洪都拉斯         NaN\n",
       " 4         NaN   5   贝纳利奥   7    瑞士         NaN,\n",
       "    Unnamed: 0  排名      球员  数据   球队  Unnamed: 5\n",
       " 0         NaN   1     德弗里  97   荷兰         NaN\n",
       " 1         NaN   2     弗拉尔  71   荷兰         NaN\n",
       " 2         NaN   3     范比滕  67  比利时         NaN\n",
       " 3         NaN   4  大卫-路易斯  64   巴西         NaN\n",
       " 4         NaN   5      加雷  63  阿根廷         NaN,\n",
       "    Unnamed: 0  排名      球员  数据     球队  Unnamed: 5\n",
       " 0         NaN   1   马斯切拉诺  15    阿根廷         NaN\n",
       " 1         NaN   2    古斯塔沃  14     巴西         NaN\n",
       " 2         NaN   3  费尔南迪尼奥  14     巴西         NaN\n",
       " 3         NaN   4     布林德  13     荷兰         NaN\n",
       " 4         NaN   5     特赫达  13  哥斯达黎加         NaN,\n",
       "    Unnamed: 0  排名    球员  数据     球队  Unnamed: 5\n",
       " 0         NaN   1   霍华德  28     美国         NaN\n",
       " 1         NaN   2   诺伊尔  24     德国         NaN\n",
       " 2         NaN   3  穆博尔希  23  阿尔及利亚         NaN\n",
       " 3         NaN   4   恩亚马  21   尼日利亚         NaN\n",
       " 4         NaN   5   罗梅罗  21    阿根廷         NaN]"
      ]
     },
     "execution_count": 4,
     "metadata": {},
     "output_type": "execute_result"
    }
   ],
   "source": [
    "eu2012"
   ]
  },
  {
   "cell_type": "code",
   "execution_count": 5,
   "metadata": {},
   "outputs": [
    {
     "data": {
      "text/html": [
       "<div>\n",
       "<style scoped>\n",
       "    .dataframe tbody tr th:only-of-type {\n",
       "        vertical-align: middle;\n",
       "    }\n",
       "\n",
       "    .dataframe tbody tr th {\n",
       "        vertical-align: top;\n",
       "    }\n",
       "\n",
       "    .dataframe thead th {\n",
       "        text-align: right;\n",
       "    }\n",
       "</style>\n",
       "<table border=\"1\" class=\"dataframe\">\n",
       "  <thead>\n",
       "    <tr style=\"text-align: right;\">\n",
       "      <th></th>\n",
       "      <th>Unnamed: 0</th>\n",
       "      <th>排名</th>\n",
       "      <th>球员</th>\n",
       "      <th>数据</th>\n",
       "      <th>球队</th>\n",
       "      <th>Unnamed: 5</th>\n",
       "    </tr>\n",
       "  </thead>\n",
       "  <tbody>\n",
       "    <tr>\n",
       "      <th>0</th>\n",
       "      <td>NaN</td>\n",
       "      <td>1</td>\n",
       "      <td>罗德里格斯</td>\n",
       "      <td>6</td>\n",
       "      <td>哥伦比亚</td>\n",
       "      <td>NaN</td>\n",
       "    </tr>\n",
       "    <tr>\n",
       "      <th>1</th>\n",
       "      <td>NaN</td>\n",
       "      <td>2</td>\n",
       "      <td>穆勒</td>\n",
       "      <td>5</td>\n",
       "      <td>德国</td>\n",
       "      <td>NaN</td>\n",
       "    </tr>\n",
       "    <tr>\n",
       "      <th>2</th>\n",
       "      <td>NaN</td>\n",
       "      <td>3</td>\n",
       "      <td>内马尔</td>\n",
       "      <td>4</td>\n",
       "      <td>巴西</td>\n",
       "      <td>NaN</td>\n",
       "    </tr>\n",
       "    <tr>\n",
       "      <th>3</th>\n",
       "      <td>NaN</td>\n",
       "      <td>4</td>\n",
       "      <td>梅西</td>\n",
       "      <td>4</td>\n",
       "      <td>阿根廷</td>\n",
       "      <td>NaN</td>\n",
       "    </tr>\n",
       "    <tr>\n",
       "      <th>4</th>\n",
       "      <td>NaN</td>\n",
       "      <td>5</td>\n",
       "      <td>范佩西</td>\n",
       "      <td>4</td>\n",
       "      <td>荷兰</td>\n",
       "      <td>NaN</td>\n",
       "    </tr>\n",
       "  </tbody>\n",
       "</table>\n",
       "</div>"
      ],
      "text/plain": [
       "   Unnamed: 0  排名     球员  数据    球队  Unnamed: 5\n",
       "0         NaN   1  罗德里格斯   6  哥伦比亚         NaN\n",
       "1         NaN   2     穆勒   5    德国         NaN\n",
       "2         NaN   3    内马尔   4    巴西         NaN\n",
       "3         NaN   4     梅西   4   阿根廷         NaN\n",
       "4         NaN   5    范佩西   4    荷兰         NaN"
      ]
     },
     "execution_count": 5,
     "metadata": {},
     "output_type": "execute_result"
    }
   ],
   "source": [
    "eu2012[0]"
   ]
  },
  {
   "cell_type": "markdown",
   "metadata": {},
   "source": [
    "### remote data"
   ]
  },
  {
   "cell_type": "code",
   "execution_count": 6,
   "metadata": {},
   "outputs": [
    {
     "data": {
      "text/html": [
       "<div>\n",
       "<style scoped>\n",
       "    .dataframe tbody tr th:only-of-type {\n",
       "        vertical-align: middle;\n",
       "    }\n",
       "\n",
       "    .dataframe tbody tr th {\n",
       "        vertical-align: top;\n",
       "    }\n",
       "\n",
       "    .dataframe thead th {\n",
       "        text-align: right;\n",
       "    }\n",
       "</style>\n",
       "<table border=\"1\" class=\"dataframe\">\n",
       "  <thead>\n",
       "    <tr style=\"text-align: right;\">\n",
       "      <th></th>\n",
       "      <th>Open</th>\n",
       "      <th>High</th>\n",
       "      <th>Low</th>\n",
       "      <th>Close</th>\n",
       "      <th>Adj Close</th>\n",
       "      <th>Volume</th>\n",
       "    </tr>\n",
       "    <tr>\n",
       "      <th>Date</th>\n",
       "      <th></th>\n",
       "      <th></th>\n",
       "      <th></th>\n",
       "      <th></th>\n",
       "      <th></th>\n",
       "      <th></th>\n",
       "    </tr>\n",
       "  </thead>\n",
       "  <tbody>\n",
       "    <tr>\n",
       "      <th>2016-10-31</th>\n",
       "      <td>113.650002</td>\n",
       "      <td>114.230003</td>\n",
       "      <td>113.199997</td>\n",
       "      <td>113.540001</td>\n",
       "      <td>111.172279</td>\n",
       "      <td>26419400</td>\n",
       "    </tr>\n",
       "    <tr>\n",
       "      <th>2016-11-01</th>\n",
       "      <td>113.459999</td>\n",
       "      <td>113.769997</td>\n",
       "      <td>110.529999</td>\n",
       "      <td>111.489998</td>\n",
       "      <td>109.165031</td>\n",
       "      <td>43825800</td>\n",
       "    </tr>\n",
       "    <tr>\n",
       "      <th>2016-11-02</th>\n",
       "      <td>111.400002</td>\n",
       "      <td>112.349998</td>\n",
       "      <td>111.230003</td>\n",
       "      <td>111.589996</td>\n",
       "      <td>109.262947</td>\n",
       "      <td>28331700</td>\n",
       "    </tr>\n",
       "    <tr>\n",
       "      <th>2016-11-03</th>\n",
       "      <td>110.980003</td>\n",
       "      <td>111.459999</td>\n",
       "      <td>109.550003</td>\n",
       "      <td>109.830002</td>\n",
       "      <td>108.091774</td>\n",
       "      <td>26932600</td>\n",
       "    </tr>\n",
       "    <tr>\n",
       "      <th>2016-11-04</th>\n",
       "      <td>108.529999</td>\n",
       "      <td>110.250000</td>\n",
       "      <td>108.110001</td>\n",
       "      <td>108.839996</td>\n",
       "      <td>107.117447</td>\n",
       "      <td>30837000</td>\n",
       "    </tr>\n",
       "  </tbody>\n",
       "</table>\n",
       "</div>"
      ],
      "text/plain": [
       "                  Open        High         Low       Close   Adj Close  \\\n",
       "Date                                                                     \n",
       "2016-10-31  113.650002  114.230003  113.199997  113.540001  111.172279   \n",
       "2016-11-01  113.459999  113.769997  110.529999  111.489998  109.165031   \n",
       "2016-11-02  111.400002  112.349998  111.230003  111.589996  109.262947   \n",
       "2016-11-03  110.980003  111.459999  109.550003  109.830002  108.091774   \n",
       "2016-11-04  108.529999  110.250000  108.110001  108.839996  107.117447   \n",
       "\n",
       "              Volume  \n",
       "Date                  \n",
       "2016-10-31  26419400  \n",
       "2016-11-01  43825800  \n",
       "2016-11-02  28331700  \n",
       "2016-11-03  26932600  \n",
       "2016-11-04  30837000  "
      ]
     },
     "execution_count": 6,
     "metadata": {},
     "output_type": "execute_result"
    }
   ],
   "source": [
    "# import pandas.io.data as web\n",
    "# 非常好用，不需要知道连接！！！\n",
    "import pandas_datareader.data as web\n",
    "import datetime\n",
    "start= datetime.datetime(2016, 11, 1)\n",
    "end = datetime.datetime(2016, 11, 11)\n",
    "apple = web.DataReader('AAPL', 'yahoo', start, end)\n",
    "apple.head()"
   ]
  },
  {
   "cell_type": "code",
   "execution_count": null,
   "metadata": {},
   "outputs": [],
   "source": [
    "# tushare是个很不错的财经数据的读取包"
   ]
  }
 ],
 "metadata": {
  "kernelspec": {
   "display_name": "Python 3",
   "language": "python",
   "name": "python3"
  },
  "language_info": {
   "codemirror_mode": {
    "name": "ipython",
    "version": 3
   },
   "file_extension": ".py",
   "mimetype": "text/x-python",
   "name": "python",
   "nbconvert_exporter": "python",
   "pygments_lexer": "ipython3",
   "version": "3.6.4"
  }
 },
 "nbformat": 4,
 "nbformat_minor": 2
}
