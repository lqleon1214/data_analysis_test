{
 "cells": [
  {
   "cell_type": "markdown",
   "metadata": {},
   "source": [
    "## 问题\n",
    "不同版本的网站页面\n",
    "\n",
    "| | not click| clicked|\n",
    "|---|---|---|\n",
    "| a| 4514| 486|\n",
    "| b| 4473| 527|"
   ]
  },
  {
   "cell_type": "code",
   "execution_count": 1,
   "metadata": {},
   "outputs": [
    {
     "data": {
      "text/plain": [
       "0.0972"
      ]
     },
     "execution_count": 1,
     "metadata": {},
     "output_type": "execute_result"
    }
   ],
   "source": [
    "# a的转化率\n",
    "486 / (4514 + 486)"
   ]
  },
  {
   "cell_type": "code",
   "execution_count": 2,
   "metadata": {},
   "outputs": [
    {
     "data": {
      "text/plain": [
       "0.1054"
      ]
     },
     "execution_count": 2,
     "metadata": {},
     "output_type": "execute_result"
    }
   ],
   "source": [
    "# b的转化率\n",
    "527 / (4473 + 527)"
   ]
  },
  {
   "cell_type": "markdown",
   "metadata": {},
   "source": [
    "可以说b转化率好一些吗？"
   ]
  },
  {
   "cell_type": "markdown",
   "metadata": {},
   "source": [
    "## 卡方独立性检验\n",
    "\n",
    "|not click(f)|clicked(t)\n",
    "---|---|---\n",
    "a|P(V=a,C=f)=0.4514|P(V=a,C=t)=0.0486\n",
    "b|P(V=b,C=f)=0.4473|P(V=b,C=t)=0.0527\n",
    "\n",
    "问题转换为转化C是否依赖页面的版本V.根据概率论如果C和V独立那么\n",
    "$$P(V,C)=P(V)P(C)$$$$P(V=a)=\\frac{4514+486}{1000}$$$$P(V=b)=\\frac{4473+527}{1000}$$$$P(C=f)=\\frac{4514+4473}{1000}$$$$P(C=t)=\\frac{486+527}{1000}$$\n",
    "\n",
    "因此如果我们的假设成立,那么\n",
    "\n",
    "|not click(f)|clicked(t)\n",
    "---|---|---\n",
    "a|P(V=a,C=f)=P(V=a)P(C=f)|P(V=a,C=t)=P(V=a)P(C=t)\n",
    "b|P(V=b,C=f)=P(V=b)P(C=f)|P(V=b,C=t)=P(V=b)P(C=f)"
   ]
  },
  {
   "cell_type": "code",
   "execution_count": 1,
   "metadata": {},
   "outputs": [
    {
     "name": "stderr",
     "output_type": "stream",
     "text": [
      "/Library/Frameworks/Python.framework/Versions/3.6/lib/python3.6/importlib/_bootstrap.py:219: RuntimeWarning: numpy.dtype size changed, may indicate binary incompatibility. Expected 96, got 88\n",
      "  return f(*args, **kwds)\n"
     ]
    }
   ],
   "source": [
    "import numpy as np\n",
    "import pandas as pd\n",
    "from scipy.stats import chi2_contingency"
   ]
  },
  {
   "cell_type": "code",
   "execution_count": 4,
   "metadata": {},
   "outputs": [
    {
     "data": {
      "text/plain": [
       "array([[4514,  486],\n",
       "       [4473,  527]])"
      ]
     },
     "execution_count": 4,
     "metadata": {},
     "output_type": "execute_result"
    }
   ],
   "source": [
    "data = pd.read_csv('./data/n10000.csv')\n",
    "data = data.set_index('version')\n",
    "observed = data.values\n",
    "observed"
   ]
  },
  {
   "cell_type": "code",
   "execution_count": 6,
   "metadata": {},
   "outputs": [
    {
     "name": "stdout",
     "output_type": "stream",
     "text": [
      "chisq=1.7575018692680038, p=0.18493641552090323\n"
     ]
    }
   ],
   "source": [
    "result = chi2_contingency(observed)\n",
    "chisq, p = result[:2]\n",
    "print('chisq={}, p={}'.format(chisq, p))"
   ]
  },
  {
   "cell_type": "code",
   "execution_count": 7,
   "metadata": {},
   "outputs": [
    {
     "data": {
      "text/plain": [
       "array([[17998,  2002],\n",
       "       [17742,  2258]])"
      ]
     },
     "execution_count": 7,
     "metadata": {},
     "output_type": "execute_result"
    }
   ],
   "source": [
    "data = pd.read_csv('./data/n40000.csv')\n",
    "data = data.set_index('version')\n",
    "observed = data.values\n",
    "observed"
   ]
  },
  {
   "cell_type": "code",
   "execution_count": 8,
   "metadata": {},
   "outputs": [
    {
     "name": "stdout",
     "output_type": "stream",
     "text": [
      "chisq=17.08347454621405, p=3.5772223882066344e-05\n"
     ]
    }
   ],
   "source": [
    "result = chi2_contingency(observed)\n",
    "chisq, p = result[:2]\n",
    "print('chisq={}, p={}'.format(chisq, p))"
   ]
  },
  {
   "cell_type": "code",
   "execution_count": 10,
   "metadata": {},
   "outputs": [
    {
     "data": {
      "text/plain": [
       "0.1001"
      ]
     },
     "execution_count": 10,
     "metadata": {},
     "output_type": "execute_result"
    }
   ],
   "source": [
    "2002/ (2002 + 17998)"
   ]
  },
  {
   "cell_type": "code",
   "execution_count": 11,
   "metadata": {},
   "outputs": [
    {
     "data": {
      "text/plain": [
       "0.1129"
      ]
     },
     "execution_count": 11,
     "metadata": {},
     "output_type": "execute_result"
    }
   ],
   "source": [
    "2258/(17742 + 2258)"
   ]
  },
  {
   "cell_type": "code",
   "execution_count": 9,
   "metadata": {},
   "outputs": [],
   "source": [
    "chi2_contingency?"
   ]
  },
  {
   "cell_type": "markdown",
   "metadata": {},
   "source": [
    "$$X^2_{Yate's} =\\sum_{ij}\\frac{(|O_{ij}-E_{ij}|-0.5)^2}{E_{ij}}$$"
   ]
  },
  {
   "cell_type": "markdown",
   "metadata": {},
   "source": [
    "## not covered\n",
    "在线广告,当前点击率3%, 营销团队设计了26种新的广告,如何确定新的广告哪一个比当前的点击率更高?\n",
    "\n",
    "贝叶斯, pymc"
   ]
  },
  {
   "cell_type": "code",
   "execution_count": null,
   "metadata": {},
   "outputs": [],
   "source": []
  }
 ],
 "metadata": {
  "kernelspec": {
   "display_name": "Python 3",
   "language": "python",
   "name": "python3"
  },
  "language_info": {
   "codemirror_mode": {
    "name": "ipython",
    "version": 3
   },
   "file_extension": ".py",
   "mimetype": "text/x-python",
   "name": "python",
   "nbconvert_exporter": "python",
   "pygments_lexer": "ipython3",
   "version": "3.6.4"
  }
 },
 "nbformat": 4,
 "nbformat_minor": 2
}
