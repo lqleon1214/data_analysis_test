{
 "cells": [
  {
   "cell_type": "code",
   "execution_count": 1,
   "metadata": {},
   "outputs": [],
   "source": [
    "import numpy as np\n",
    "import pandas as pd\n",
    "import scipy.stats as stats\n",
    "import matplotlib.pyplot as plt\n",
    "%matplotlib inline"
   ]
  },
  {
   "cell_type": "markdown",
   "metadata": {},
   "source": [
    "t检验检查两组均值是否不同，但是如果我们想比较的是多个组的均值呢？如果我们分布对任意两组进行t检验，那么出现false positives可能性就会增加， 因此我们用ANOVA进行多组比较。\n",
    "\n",
    "[单因素方差分析](https://baike.baidu.com/item/单因素方差分析/10700964?fr=aladdin)\n",
    "## 单因素方差分析(one-way ANOVA)\n",
    "单因素方差分析 （one-way ANOVA），用于完全随机设计的多个样本均值间的比较，其统计推断是推断各样本所代表的各总体均值是否相等。"
   ]
  },
  {
   "cell_type": "code",
   "execution_count": 2,
   "metadata": {},
   "outputs": [
    {
     "data": {
      "text/plain": [
       "F_onewayResult(statistic=1.5632226988817401, pvalue=0.18195623367052671)"
      ]
     },
     "execution_count": 2,
     "metadata": {},
     "output_type": "execute_result"
    }
   ],
   "source": [
    "np.random.seed(12)\n",
    "occupation = ['teacher', 'doctor', 'police', 'engineer', 'farmer']\n",
    "\n",
    "occupation_surveyed = np.random.choice(a=occupation, p=[0.05, 0.15, 0.25, 0.05, 0.5], size=1000)\n",
    "occupation_salary = stats.poisson.rvs(loc=1000, mu=5000, size=1000)\n",
    "\n",
    "occupation_frame = pd.DataFrame({'occupation':occupation_surveyed, 'salary': occupation_salary})\n",
    "groups = occupation_frame.groupby('occupation').groups\n",
    "\n",
    "teacher = occupation_salary[groups['teacher']]\n",
    "doctor = occupation_salary[groups['doctor']]\n",
    "police = occupation_salary[groups['police']]\n",
    "engineer = occupation_salary[groups['engineer']]\n",
    "farmer = occupation_salary[groups['farmer']]\n",
    "\n",
    "# ANOVA 使用f statistic\n",
    "stats.f_oneway(teacher, doctor, police, engineer, farmer)"
   ]
  },
  {
   "cell_type": "code",
   "execution_count": 4,
   "metadata": {},
   "outputs": [
    {
     "data": {
      "text/plain": [
       "array([6104, 6051, 5853, 6027, 6007, 6047, 6150, 5953, 5852, 6021, 5974,\n",
       "       5958, 6084, 6075, 5940, 6051, 6000, 6065, 5968, 5964, 5954, 6013,\n",
       "       6066, 6028, 6045, 5983, 6053, 6015, 6095, 5889, 5903, 6035, 5910,\n",
       "       6068, 6024, 6029, 5942, 5960, 6123, 6049, 6143, 5947, 5886, 6010])"
      ]
     },
     "execution_count": 4,
     "metadata": {},
     "output_type": "execute_result"
    }
   ],
   "source": [
    "teacher"
   ]
  },
  {
   "cell_type": "code",
   "execution_count": 3,
   "metadata": {},
   "outputs": [
    {
     "data": {
      "text/plain": [
       "{'doctor': Int64Index([  0,   9,  19,  22,  23,  42,  50,  56,  62,  76,\n",
       "             ...\n",
       "             948, 956, 961, 965, 968, 972, 982, 984, 989, 990],\n",
       "            dtype='int64', length=147),\n",
       " 'engineer': Int64Index([ 17,  26,  39,  46,  48,  65,  67,  72, 146, 237, 246, 255, 284,\n",
       "             302, 317, 322, 358, 370, 386, 413, 425, 446, 530, 542, 569, 571,\n",
       "             573, 575, 583, 626, 629, 637, 662, 696, 700, 701, 728, 739, 756,\n",
       "             757, 773, 813, 819, 880, 923, 936, 939, 971, 980, 992],\n",
       "            dtype='int64'),\n",
       " 'farmer': Int64Index([  1,   3,   5,   6,   8,  11,  12,  13,  15,  16,\n",
       "             ...\n",
       "             981, 983, 985, 987, 988, 991, 993, 995, 997, 998],\n",
       "            dtype='int64', length=515),\n",
       " 'police': Int64Index([  2,  10,  24,  28,  31,  32,  38,  40,  44,  45,\n",
       "             ...\n",
       "             954, 955, 958, 959, 962, 964, 966, 974, 994, 999],\n",
       "            dtype='int64', length=244),\n",
       " 'teacher': Int64Index([  4,   7,  14,  21,  49,  53,  59,  78,  95,  98, 135, 136, 162,\n",
       "             203, 227, 264, 278, 289, 326, 335, 345, 373, 430, 480, 484, 491,\n",
       "             516, 587, 602, 684, 692, 708, 715, 761, 776, 826, 828, 832, 853,\n",
       "             897, 942, 951, 986, 996],\n",
       "            dtype='int64')}"
      ]
     },
     "execution_count": 3,
     "metadata": {},
     "output_type": "execute_result"
    }
   ],
   "source": [
    "groups"
   ]
  },
  {
   "cell_type": "code",
   "execution_count": 6,
   "metadata": {},
   "outputs": [
    {
     "data": {
      "text/html": [
       "<div>\n",
       "<style scoped>\n",
       "    .dataframe tbody tr th:only-of-type {\n",
       "        vertical-align: middle;\n",
       "    }\n",
       "\n",
       "    .dataframe tbody tr th {\n",
       "        vertical-align: top;\n",
       "    }\n",
       "\n",
       "    .dataframe thead th {\n",
       "        text-align: right;\n",
       "    }\n",
       "</style>\n",
       "<table border=\"1\" class=\"dataframe\">\n",
       "  <thead>\n",
       "    <tr style=\"text-align: right;\">\n",
       "      <th></th>\n",
       "      <th>occupation</th>\n",
       "      <th>salary</th>\n",
       "    </tr>\n",
       "  </thead>\n",
       "  <tbody>\n",
       "    <tr>\n",
       "      <th>0</th>\n",
       "      <td>doctor</td>\n",
       "      <td>6040</td>\n",
       "    </tr>\n",
       "    <tr>\n",
       "      <th>1</th>\n",
       "      <td>farmer</td>\n",
       "      <td>6016</td>\n",
       "    </tr>\n",
       "    <tr>\n",
       "      <th>2</th>\n",
       "      <td>police</td>\n",
       "      <td>6033</td>\n",
       "    </tr>\n",
       "    <tr>\n",
       "      <th>3</th>\n",
       "      <td>farmer</td>\n",
       "      <td>6007</td>\n",
       "    </tr>\n",
       "    <tr>\n",
       "      <th>4</th>\n",
       "      <td>teacher</td>\n",
       "      <td>6104</td>\n",
       "    </tr>\n",
       "  </tbody>\n",
       "</table>\n",
       "</div>"
      ],
      "text/plain": [
       "  occupation  salary\n",
       "0     doctor    6040\n",
       "1     farmer    6016\n",
       "2     police    6033\n",
       "3     farmer    6007\n",
       "4    teacher    6104"
      ]
     },
     "execution_count": 6,
     "metadata": {},
     "output_type": "execute_result"
    }
   ],
   "source": [
    "occupation_frame.head()"
   ]
  },
  {
   "cell_type": "code",
   "execution_count": 10,
   "metadata": {},
   "outputs": [
    {
     "data": {
      "text/plain": [
       "array([6016, 6007, 5904, 6033, 5889, 6022, 6017, 6051, 5841, 5981, 5860,\n",
       "       6026, 5794, 6011, 5969, 6048, 5997, 6075, 6017, 5967, 6107, 6084,\n",
       "       6070, 5938, 5934, 6093, 6100, 6000, 5977, 6135, 5998, 6099, 6029,\n",
       "       5945, 6124, 6019, 5938, 6002, 5977, 6078, 6095, 5988, 5955, 5995,\n",
       "       5999, 5964, 5995, 6041, 5973, 6106, 5985, 5966, 6053, 5924, 5907,\n",
       "       5949, 6008, 6058, 6029, 6013, 6138, 6121, 6034, 5971, 5952, 5966,\n",
       "       6082, 5976, 6047, 6038, 6034, 5962, 5999, 6053, 5931, 6024, 6020,\n",
       "       6070, 6064, 5933, 5974, 5931, 6005, 5944, 6027, 5933, 6020, 6115,\n",
       "       6019, 5978, 6153, 6065, 6070, 5833, 5971, 6014, 5899, 5920, 6002,\n",
       "       6010, 6043, 5983, 6000, 6056, 5998, 6010, 6059, 5886, 5999, 5911,\n",
       "       5969, 5946, 5951, 6012, 5961, 6012, 5951, 6161, 6128, 5901, 6045,\n",
       "       6079, 6046, 5991, 5998, 5940, 5922, 5963, 5898, 5874, 5968, 6012,\n",
       "       6000, 5877, 6051, 6026, 6052, 5955, 6048, 6023, 6075, 6098, 5993,\n",
       "       6064, 6022, 6008, 5911, 5896, 6011, 5946, 6017, 5963, 5973, 6133,\n",
       "       6016, 6037, 6004, 5896, 6002, 5938, 6056, 6011, 5964, 5930, 5955,\n",
       "       5826, 6004, 5975, 6118, 5940, 6028, 5998, 5912, 5930, 6061, 6044,\n",
       "       5977, 5876, 6010, 6102, 6002, 5875, 5996, 5949, 5965, 5949, 6145,\n",
       "       6079, 6083, 5908, 5987, 5938, 6031, 6022, 5906, 5932, 6137, 5920,\n",
       "       6025, 6090, 5964, 5966, 6037, 5904, 6065, 6030, 5992, 5947, 5934,\n",
       "       6020, 5893, 6028, 5942, 5879, 6038, 6075, 6097, 5984, 5993, 5932,\n",
       "       6061, 5965, 6151, 5964, 6009, 6048, 5940, 6014, 5981, 5950, 6015,\n",
       "       5897, 5980, 6081, 5913, 5917, 5939, 5960, 6009, 6025, 6069, 5982,\n",
       "       5841, 5941, 6075, 5880, 5981, 6008, 5988, 6037, 5976, 6018, 6129,\n",
       "       6036, 5850, 5963, 6020, 6033, 5990, 6035, 5999, 5961, 6066, 5941,\n",
       "       6080, 6012, 5909, 6007, 6019, 5921, 5992, 5851, 5981, 5847, 5933,\n",
       "       5873, 5975, 6040, 6033, 6006, 6035, 5989, 5905, 5945, 5996, 6059,\n",
       "       5966, 6005, 5953, 6124, 6011, 5943, 5953, 5984, 5984, 5923, 5890,\n",
       "       5895, 6001, 5993, 5966, 5900, 6037, 5995, 5966, 5904, 6076, 5954,\n",
       "       6038, 6027, 5820, 6109, 6039, 5951, 6052, 5955, 6064, 5944, 6035,\n",
       "       5923, 6094, 6032, 6026, 6089, 5961, 5895, 6039, 6028, 6029, 5971,\n",
       "       6076, 5972, 5897, 6054, 5908, 5948, 5939, 5981, 5935, 6104, 6008,\n",
       "       5942, 5990, 6025, 6039, 5972, 6032, 6019, 5926, 5965, 5894, 5990,\n",
       "       6016, 6029, 5900, 6101, 5975, 5822, 5932, 5952, 6058, 5863, 6004,\n",
       "       5939, 6092, 5976, 5985, 5925, 5969, 5895, 6069, 5964, 6044, 6027,\n",
       "       5963, 6180, 5977, 6079, 5997, 5992, 6014, 6033, 6068, 5941, 5997,\n",
       "       5947, 6024, 5973, 5987, 6020, 5994, 6027, 6069, 6037, 6047, 6038,\n",
       "       5919, 5960, 6056, 6004, 6002, 5888, 5965, 6084, 6091, 6069, 5928,\n",
       "       5968, 5938, 5831, 6094, 6108, 5916, 6177, 5958, 5912, 6072, 5971,\n",
       "       6106, 5973, 6090, 5994, 6036, 6039, 6008, 5984, 5888, 5943, 6060,\n",
       "       5977, 5982, 5993, 6006, 6060, 5919, 6014, 5995, 5924, 6247, 6011,\n",
       "       5971, 6128, 5940, 6037, 6173, 6098, 6028, 5971, 6029, 5973, 6016,\n",
       "       5969, 5998, 5966, 5977, 5918, 6015, 6128, 6035, 5980, 6068, 6079,\n",
       "       5923, 5974, 5990, 6018, 5905, 5848, 6004, 6173, 6157, 6055, 6030,\n",
       "       5972, 6057, 5903, 6100, 5963, 6081, 5970, 5962, 5885, 5962, 5982,\n",
       "       6063, 6028, 6013, 6054, 6057, 5935, 5927, 5991, 5992, 5946, 5939,\n",
       "       6027, 6052, 5922, 6006, 5947, 6092, 5996, 6042, 5931, 6008, 6078,\n",
       "       5887, 5880, 5941, 5966, 5940, 6056, 6066, 5999, 6015])"
      ]
     },
     "execution_count": 10,
     "metadata": {},
     "output_type": "execute_result"
    }
   ],
   "source": [
    "farmer"
   ]
  },
  {
   "cell_type": "markdown",
   "metadata": {},
   "source": [
    "> 在使用 **`np.where`** 的时候，第一个参数是判断条件，第二个参数是我们要替换成的值，第三个参数是原本的。"
   ]
  },
  {
   "cell_type": "code",
   "execution_count": 3,
   "metadata": {},
   "outputs": [
    {
     "data": {
      "text/plain": [
       "F_onewayResult(statistic=549.09170650043848, pvalue=5.300894444455738e-250)"
      ]
     },
     "execution_count": 3,
     "metadata": {},
     "output_type": "execute_result"
    }
   ],
   "source": [
    "np.random.seed(12)\n",
    "occupation = ['teacher', 'doctor', 'police', 'engineer', 'farmer']\n",
    "\n",
    "occupation_surveyed = np.random.choice(a=occupation, p=[0.05, 0.15, 0.25, 0.05,0.5], size=1000)\n",
    "doctor_salary = stats.poisson.rvs(loc=1000, mu=5300, size=1000)\n",
    "occupation_salary = stats.poisson.rvs(loc=1000, mu=5000, size=1000)\n",
    "occupation_salary = np.where(occupation_surveyed=='doctor', doctor_salary, occupation_salary)\n",
    "\n",
    "occupation_frame = pd.DataFrame({'occupation':occupation_surveyed, 'salary':occupation_salary})\n",
    "groups = occupation_frame.groupby('occupation').groups\n",
    "\n",
    "teacher = occupation_salary[groups['teacher']]\n",
    "doctor = occupation_salary[groups['doctor']]\n",
    "police = occupation_salary[groups['police']]\n",
    "engineer = occupation_salary[groups['engineer']]\n",
    "farmer = occupation_salary[groups['farmer']]\n",
    "\n",
    "stats.f_oneway(teacher, doctor, police, engineer, farmer)"
   ]
  },
  {
   "cell_type": "code",
   "execution_count": 7,
   "metadata": {},
   "outputs": [
    {
     "name": "stdout",
     "output_type": "stream",
     "text": [
      "teacher doctor\n",
      "Ttest_indResult(statistic=-25.255879708706377, pvalue=1.7666958019685308e-62)\n",
      "teacher police\n",
      "Ttest_indResult(statistic=0.10138228657965127, pvalue=0.91931803569152359)\n",
      "teacher engineer\n",
      "Ttest_indResult(statistic=-0.19170818593634736, pvalue=0.84839328034210038)\n",
      "teacher farmer\n",
      "Ttest_indResult(statistic=-0.155725848608219, pvalue=0.87630554063137844)\n",
      "doctor police\n",
      "Ttest_indResult(statistic=39.38920537009394, pvalue=7.9536844129633176e-138)\n",
      "doctor engineer\n",
      "Ttest_indResult(statistic=25.091398401148108, pvalue=5.7549615242100805e-63)\n",
      "doctor farmer\n",
      "Ttest_indResult(statistic=46.63650979729028, pvalue=4.5515353748840878e-211)\n",
      "police engineer\n",
      "Ttest_indResult(statistic=-0.36519996716083153, pvalue=0.71522652440185186)\n",
      "police farmer\n",
      "Ttest_indResult(statistic=-0.53295372032500377, pvalue=0.59422203324218559)\n",
      "engineer farmer\n",
      "Ttest_indResult(statistic=0.14053306712992175, pvalue=0.88828909194451944)\n"
     ]
    }
   ],
   "source": [
    "# 两两比较\n",
    "salary_pairs = []\n",
    "for i in range(4):\n",
    "    for j in range(i + 1, 5):\n",
    "        salary_pairs.append((occupation[i], occupation[j]))\n",
    "        \n",
    "for occupation1, occupation2 in salary_pairs:\n",
    "    print(occupation1, occupation2)\n",
    "    print(stats.ttest_ind(occupation_salary[groups[occupation1]], occupation_salary[groups[occupation2]]))"
   ]
  },
  {
   "cell_type": "markdown",
   "metadata": {},
   "source": [
    "比较次数越多那么越可能出现false positive，这时一种方法是调整置信度，比如10次比较，那我的p就用0.05/10，通常可以采用Bonferroni correction还有一种就是使用Tukey test( **`pairwise_tukeyhsd()`** )"
   ]
  },
  {
   "cell_type": "code",
   "execution_count": 4,
   "metadata": {},
   "outputs": [
    {
     "ename": "ModuleNotFoundError",
     "evalue": "No module named 'statsmodels.stats.multiconp'",
     "output_type": "error",
     "traceback": [
      "\u001b[0;31m-------------------------------------------------------------------------\u001b[0m",
      "\u001b[0;31mModuleNotFoundError\u001b[0m                     Traceback (most recent call last)",
      "\u001b[0;32m<ipython-input-4-6ac5689c607b>\u001b[0m in \u001b[0;36m<module>\u001b[0;34m()\u001b[0m\n\u001b[0;32m----> 1\u001b[0;31m \u001b[0;32mfrom\u001b[0m \u001b[0mstatsmodels\u001b[0m\u001b[0;34m.\u001b[0m\u001b[0mstats\u001b[0m\u001b[0;34m.\u001b[0m\u001b[0mmulticonp\u001b[0m \u001b[0;32mimport\u001b[0m \u001b[0mpairwise_tukeyhsd\u001b[0m\u001b[0;34m\u001b[0m\u001b[0m\n\u001b[0m\u001b[1;32m      2\u001b[0m tukey = pairwise_tukeyhsd(endog=occupation_salary,    # Data\n\u001b[1;32m      3\u001b[0m                          \u001b[0mgroups\u001b[0m\u001b[0;34m=\u001b[0m\u001b[0moccupation_surveyed\u001b[0m\u001b[0;34m,\u001b[0m   \u001b[0;31m# groups\u001b[0m\u001b[0;34m\u001b[0m\u001b[0m\n\u001b[1;32m      4\u001b[0m                          alpha=0.05)      # Significance Level\n\u001b[1;32m      5\u001b[0m \u001b[0mtukey\u001b[0m\u001b[0;34m.\u001b[0m\u001b[0mplot_simultaneous\u001b[0m\u001b[0;34m(\u001b[0m\u001b[0;34m)\u001b[0m     \u001b[0;31m# Plot group confidence intervals\u001b[0m\u001b[0;34m\u001b[0m\u001b[0m\n",
      "\u001b[0;31mModuleNotFoundError\u001b[0m: No module named 'statsmodels.stats.multiconp'"
     ]
    }
   ],
   "source": [
    "from statsmodels.stats.multiconp import pairwise_tukeyhsd\n",
    "tukey = pairwise_tukeyhsd(endog=occupation_salary,    # Data\n",
    "                         groups=occupation_surveyed,   # groups\n",
    "                         alpha=0.05)      # Significance Level\n",
    "tukey.plot_simultaneous()     # Plot group confidence intervals\n",
    "# plt.vlines(x=49.57, ymin=0.5, ymax=4.5, color='red')\n",
    "tukey.summary()"
   ]
  },
  {
   "cell_type": "code",
   "execution_count": null,
   "metadata": {},
   "outputs": [],
   "source": []
  }
 ],
 "metadata": {
  "kernelspec": {
   "display_name": "Python 3",
   "language": "python",
   "name": "python3"
  },
  "language_info": {
   "codemirror_mode": {
    "name": "ipython",
    "version": 3
   },
   "file_extension": ".py",
   "mimetype": "text/x-python",
   "name": "python",
   "nbconvert_exporter": "python",
   "pygments_lexer": "ipython3",
   "version": "3.6.4"
  }
 },
 "nbformat": 4,
 "nbformat_minor": 2
}
