{
 "cells": [
  {
   "cell_type": "code",
   "execution_count": 1,
   "metadata": {},
   "outputs": [],
   "source": [
    "import numpy as np\n",
    "import pandas as pd\n",
    "import scipy.stats as stats\n",
    "import matplotlib.pyplot as plt\n",
    "import math\n",
    "%matplotlib inline"
   ]
  },
  {
   "cell_type": "markdown",
   "metadata": {},
   "source": [
    "## chi-squared goodness of fit\n",
    "t检验判断样本均值是否有总体均值不同，卡方goodness-of-fit 是相当与categorical变量的t检验，它检验categorical数据样本分布与期望分布是否一致\n",
    "$$sum(\\frac{(observed-expected)^2}{expected})$$\n",
    "卡方检验通常有两种：\n",
    "* 适配性或适度性(goodness or fit)\n",
    "* 独立性(independence)"
   ]
  },
  {
   "cell_type": "code",
   "execution_count": 3,
   "metadata": {},
   "outputs": [
    {
     "name": "stdout",
     "output_type": "stream",
     "text": [
      "National\n",
      "col_0      count\n",
      "0               \n",
      "asian      15000\n",
      "black      50000\n",
      "hispanic   60000\n",
      "other      35000\n",
      "white     100000\n",
      "**************************************************\n",
      "Minnesota\n",
      "col_0      count\n",
      "0               \n",
      "asian         75\n",
      "black        250\n",
      "hispantic    300\n",
      "other        150\n",
      "white        600\n"
     ]
    }
   ],
   "source": [
    "national = pd.DataFrame(['white'] * 100000 + ['hispanic'] * 60000 + ['black'] * 50000 + ['asian'] * 15000 + ['other'] * 35000)\n",
    "minnesota = pd.DataFrame(['white'] * 600 + ['hispantic'] * 300 + ['black'] * 250 + ['asian'] * 75 + ['other'] * 150)\n",
    "national_table = pd.crosstab(index=national[0], columns='count')\n",
    "minnesota_table = pd.crosstab(index=minnesota[0], columns='count')\n",
    "print('National')\n",
    "print(national_table)\n",
    "print('*'*50)\n",
    "print('Minnesota')\n",
    "print(minnesota_table)"
   ]
  },
  {
   "cell_type": "code",
   "execution_count": 5,
   "metadata": {
    "scrolled": true
   },
   "outputs": [
    {
     "data": {
      "text/plain": [
       "0         white\n",
       "1         white\n",
       "2         white\n",
       "3         white\n",
       "4         white\n",
       "5         white\n",
       "6         white\n",
       "7         white\n",
       "8         white\n",
       "9         white\n",
       "10        white\n",
       "11        white\n",
       "12        white\n",
       "13        white\n",
       "14        white\n",
       "15        white\n",
       "16        white\n",
       "17        white\n",
       "18        white\n",
       "19        white\n",
       "20        white\n",
       "21        white\n",
       "22        white\n",
       "23        white\n",
       "24        white\n",
       "25        white\n",
       "26        white\n",
       "27        white\n",
       "28        white\n",
       "29        white\n",
       "          ...  \n",
       "259970    other\n",
       "259971    other\n",
       "259972    other\n",
       "259973    other\n",
       "259974    other\n",
       "259975    other\n",
       "259976    other\n",
       "259977    other\n",
       "259978    other\n",
       "259979    other\n",
       "259980    other\n",
       "259981    other\n",
       "259982    other\n",
       "259983    other\n",
       "259984    other\n",
       "259985    other\n",
       "259986    other\n",
       "259987    other\n",
       "259988    other\n",
       "259989    other\n",
       "259990    other\n",
       "259991    other\n",
       "259992    other\n",
       "259993    other\n",
       "259994    other\n",
       "259995    other\n",
       "259996    other\n",
       "259997    other\n",
       "259998    other\n",
       "259999    other\n",
       "Name: 0, Length: 260000, dtype: object"
      ]
     },
     "execution_count": 5,
     "metadata": {},
     "output_type": "execute_result"
    }
   ],
   "source": [
    "national[0]"
   ]
  },
  {
   "cell_type": "code",
   "execution_count": 6,
   "metadata": {},
   "outputs": [
    {
     "name": "stdout",
     "output_type": "stream",
     "text": [
      "col_0\n",
      "count    17.250749\n",
      "dtype: float64\n"
     ]
    }
   ],
   "source": [
    "observed = minnesota_table\n",
    "national_ratio = national_table / len(national)   # 全部的比率\n",
    "expected = national_ratio * len(minnesota)      # 期待的值\n",
    "chi_squared_stat = (((observed - expected)**2)/expected).sum()\n",
    "print(chi_squared_stat)"
   ]
  },
  {
   "cell_type": "code",
   "execution_count": 7,
   "metadata": {},
   "outputs": [
    {
     "data": {
      "text/html": [
       "<div>\n",
       "<style scoped>\n",
       "    .dataframe tbody tr th:only-of-type {\n",
       "        vertical-align: middle;\n",
       "    }\n",
       "\n",
       "    .dataframe tbody tr th {\n",
       "        vertical-align: top;\n",
       "    }\n",
       "\n",
       "    .dataframe thead th {\n",
       "        text-align: right;\n",
       "    }\n",
       "</style>\n",
       "<table border=\"1\" class=\"dataframe\">\n",
       "  <thead>\n",
       "    <tr style=\"text-align: right;\">\n",
       "      <th>col_0</th>\n",
       "      <th>count</th>\n",
       "    </tr>\n",
       "    <tr>\n",
       "      <th>0</th>\n",
       "      <th></th>\n",
       "    </tr>\n",
       "  </thead>\n",
       "  <tbody>\n",
       "    <tr>\n",
       "      <th>asian</th>\n",
       "      <td>79.326923</td>\n",
       "    </tr>\n",
       "    <tr>\n",
       "      <th>black</th>\n",
       "      <td>264.423077</td>\n",
       "    </tr>\n",
       "    <tr>\n",
       "      <th>hispanic</th>\n",
       "      <td>317.307692</td>\n",
       "    </tr>\n",
       "    <tr>\n",
       "      <th>other</th>\n",
       "      <td>185.096154</td>\n",
       "    </tr>\n",
       "    <tr>\n",
       "      <th>white</th>\n",
       "      <td>528.846154</td>\n",
       "    </tr>\n",
       "  </tbody>\n",
       "</table>\n",
       "</div>"
      ],
      "text/plain": [
       "col_0          count\n",
       "0                   \n",
       "asian      79.326923\n",
       "black     264.423077\n",
       "hispanic  317.307692\n",
       "other     185.096154\n",
       "white     528.846154"
      ]
     },
     "execution_count": 7,
     "metadata": {},
     "output_type": "execute_result"
    }
   ],
   "source": [
    "expected"
   ]
  },
  {
   "cell_type": "markdown",
   "metadata": {},
   "source": [
    "> 在以前我学习的时候，求出这个值之后，需要我们进行查表来获取相应的值，但是在scipy中为我们提供了相应的方法。"
   ]
  },
  {
   "cell_type": "code",
   "execution_count": 8,
   "metadata": {},
   "outputs": [
    {
     "name": "stdout",
     "output_type": "stream",
     "text": [
      "Critical value\n",
      "9.48772903678\n",
      "P value\n",
      "[ 0.00172769]\n"
     ]
    }
   ],
   "source": [
    "crit = stats.chi2.ppf(q=0.95,      # 95% confidence\n",
    "                      df=4)         # DF = number of variable categories - 1\n",
    "print('Critical value')\n",
    "print(crit)\n",
    "p_value = 1 - stats.chi2.cdf(x=chi_squared_stat,    # p-value\n",
    "                            df=4)\n",
    "print(\"P value\")\n",
    "print(p_value)"
   ]
  },
  {
   "cell_type": "markdown",
   "metadata": {},
   "source": [
    "> * 在使用scipy进行卡方检测的时候，我们可以使用 **`stats.chisquare`** 直接进行操作。\n",
    "> * 返回的结果中的 **`statistic`** 参数表示的是卡方得出的值\n",
    "> * 返回的结果中参数 **`pvalue`** 是我们需要使用的p的值。"
   ]
  },
  {
   "cell_type": "code",
   "execution_count": 9,
   "metadata": {},
   "outputs": [
    {
     "data": {
      "text/plain": [
       "Power_divergenceResult(statistic=array([ 18.19480519]), pvalue=array([ 0.00113047]))"
      ]
     },
     "execution_count": 9,
     "metadata": {},
     "output_type": "execute_result"
    }
   ],
   "source": [
    "stats.chisquare(f_obs=observed,     # Array of observed counts\n",
    "               f_exp=expected)      # Array of expected counts"
   ]
  },
  {
   "cell_type": "markdown",
   "metadata": {},
   "source": [
    "## chi-square independence test"
   ]
  },
  {
   "cell_type": "markdown",
   "metadata": {},
   "source": [
    "独立性是指知道一个变量不会告诉你任何关于另一个变量的信息。比如你是几月出生的不会决定你的工资水平。卡方独立性检验就是用于判断两个分类变量s会否独立。"
   ]
  },
  {
   "cell_type": "markdown",
   "metadata": {},
   "source": [
    "> * 在使用 **`random.choice`** 的时候，参数 **`a`** 是我们要取的集合，而参数 **`p`** 是我们提供的每个集合的元素的对应的概率。\n",
    "> * 在使用 **`crosstab`** 的时候，我们如果设置了参数 **`margins`** 为True的话，crosstab会为我们求和。"
   ]
  },
  {
   "cell_type": "code",
   "execution_count": 19,
   "metadata": {},
   "outputs": [
    {
     "name": "stderr",
     "output_type": "stream",
     "text": [
      "/Library/Frameworks/Python.framework/Versions/3.6/lib/python3.6/site-packages/ipykernel_launcher.py:12: DeprecationWarning: \n",
      ".ix is deprecated. Please use\n",
      ".loc for label based indexing or\n",
      ".iloc for positional indexing\n",
      "\n",
      "See the documentation here:\n",
      "http://pandas.pydata.org/pandas-docs/stable/indexing.html#ix-indexer-is-deprecated\n",
      "  if sys.path[0] == '':\n"
     ]
    },
    {
     "data": {
      "text/html": [
       "<div>\n",
       "<style scoped>\n",
       "    .dataframe tbody tr th:only-of-type {\n",
       "        vertical-align: middle;\n",
       "    }\n",
       "\n",
       "    .dataframe tbody tr th {\n",
       "        vertical-align: top;\n",
       "    }\n",
       "\n",
       "    .dataframe thead th {\n",
       "        text-align: right;\n",
       "    }\n",
       "</style>\n",
       "<table border=\"1\" class=\"dataframe\">\n",
       "  <thead>\n",
       "    <tr style=\"text-align: right;\">\n",
       "      <th></th>\n",
       "      <th>democrat</th>\n",
       "      <th>independent</th>\n",
       "      <th>republican</th>\n",
       "      <th>row_totals</th>\n",
       "    </tr>\n",
       "  </thead>\n",
       "  <tbody>\n",
       "    <tr>\n",
       "      <th>asian</th>\n",
       "      <td>18</td>\n",
       "      <td>4</td>\n",
       "      <td>16</td>\n",
       "      <td>38</td>\n",
       "    </tr>\n",
       "    <tr>\n",
       "      <th>black</th>\n",
       "      <td>56</td>\n",
       "      <td>36</td>\n",
       "      <td>58</td>\n",
       "      <td>150</td>\n",
       "    </tr>\n",
       "    <tr>\n",
       "      <th>hispanic</th>\n",
       "      <td>100</td>\n",
       "      <td>61</td>\n",
       "      <td>96</td>\n",
       "      <td>257</td>\n",
       "    </tr>\n",
       "    <tr>\n",
       "      <th>other</th>\n",
       "      <td>29</td>\n",
       "      <td>11</td>\n",
       "      <td>32</td>\n",
       "      <td>72</td>\n",
       "    </tr>\n",
       "    <tr>\n",
       "      <th>white</th>\n",
       "      <td>197</td>\n",
       "      <td>94</td>\n",
       "      <td>192</td>\n",
       "      <td>483</td>\n",
       "    </tr>\n",
       "    <tr>\n",
       "      <th>col_totals</th>\n",
       "      <td>400</td>\n",
       "      <td>206</td>\n",
       "      <td>394</td>\n",
       "      <td>1000</td>\n",
       "    </tr>\n",
       "  </tbody>\n",
       "</table>\n",
       "</div>"
      ],
      "text/plain": [
       "            democrat  independent  republican  row_totals\n",
       "asian             18            4          16          38\n",
       "black             56           36          58         150\n",
       "hispanic         100           61          96         257\n",
       "other             29           11          32          72\n",
       "white            197           94         192         483\n",
       "col_totals       400          206         394        1000"
      ]
     },
     "execution_count": 19,
     "metadata": {},
     "output_type": "execute_result"
    }
   ],
   "source": [
    "np.random.seed(2016)\n",
    "# race\n",
    "voter_race = np.random.choice(a=['asian', 'black', 'hispanic', 'other', 'white'], \n",
    "                              p=[0.05, 0.15, 0.25, 0.05, 0.5], size=1000)\n",
    "# party\n",
    "voter_party = np.random.choice(a=['democrat', 'independent', 'republican'], \n",
    "                              p=[0.4, 0.2, 0.4], size=1000)\n",
    "voters = pd.DataFrame({'race': voter_race, 'party': voter_party})\n",
    "voter_tab = pd.crosstab(voter_race, voter_party, margins=True)\n",
    "voter_tab.columns = ['democrat', 'independent', 'republican', 'row_totals']    # 设置列名\n",
    "voter_tab.index = ['asian', 'black', 'hispanic', 'other', 'white', 'col_totals']   # 设置row的名称\n",
    "observed = voter_tab.ix[0:5, 0:3]      # 不包含行和列的汇总值\n",
    "voter_tab"
   ]
  },
  {
   "cell_type": "code",
   "execution_count": 21,
   "metadata": {},
   "outputs": [
    {
     "data": {
      "text/plain": [
       "democrat       400\n",
       "independent    206\n",
       "republican     394\n",
       "Name: col_totals, dtype: int64"
      ]
     },
     "execution_count": 21,
     "metadata": {},
     "output_type": "execute_result"
    }
   ],
   "source": [
    "voter_tab.loc['col_totals'][0:3]"
   ]
  },
  {
   "cell_type": "code",
   "execution_count": 23,
   "metadata": {},
   "outputs": [
    {
     "data": {
      "text/plain": [
       "asian        38\n",
       "black       150\n",
       "hispanic    257\n",
       "other        72\n",
       "white       483\n",
       "Name: row_totals, dtype: int64"
      ]
     },
     "execution_count": 23,
     "metadata": {},
     "output_type": "execute_result"
    }
   ],
   "source": [
    "voter_tab['row_totals'][0:5]"
   ]
  },
  {
   "cell_type": "code",
   "execution_count": 22,
   "metadata": {},
   "outputs": [],
   "source": [
    "# np.outer 是表示求外积\n",
    "np.outer?"
   ]
  },
  {
   "cell_type": "code",
   "execution_count": 24,
   "metadata": {},
   "outputs": [
    {
     "data": {
      "text/plain": [
       "array([[ 15200,   7828,  14972],\n",
       "       [ 60000,  30900,  59100],\n",
       "       [102800,  52942, 101258],\n",
       "       [ 28800,  14832,  28368],\n",
       "       [193200,  99498, 190302]])"
      ]
     },
     "execution_count": 24,
     "metadata": {},
     "output_type": "execute_result"
    }
   ],
   "source": [
    "np.outer(voter_tab['row_totals'][0:5], voter_tab.ix['col_totals'][0:3])"
   ]
  },
  {
   "cell_type": "code",
   "execution_count": 25,
   "metadata": {},
   "outputs": [
    {
     "data": {
      "text/html": [
       "<div>\n",
       "<style scoped>\n",
       "    .dataframe tbody tr th:only-of-type {\n",
       "        vertical-align: middle;\n",
       "    }\n",
       "\n",
       "    .dataframe tbody tr th {\n",
       "        vertical-align: top;\n",
       "    }\n",
       "\n",
       "    .dataframe thead th {\n",
       "        text-align: right;\n",
       "    }\n",
       "</style>\n",
       "<table border=\"1\" class=\"dataframe\">\n",
       "  <thead>\n",
       "    <tr style=\"text-align: right;\">\n",
       "      <th></th>\n",
       "      <th>democrat</th>\n",
       "      <th>independent</th>\n",
       "      <th>republican</th>\n",
       "    </tr>\n",
       "  </thead>\n",
       "  <tbody>\n",
       "    <tr>\n",
       "      <th>asian</th>\n",
       "      <td>15.2</td>\n",
       "      <td>7.828</td>\n",
       "      <td>14.972</td>\n",
       "    </tr>\n",
       "    <tr>\n",
       "      <th>black</th>\n",
       "      <td>60.0</td>\n",
       "      <td>30.900</td>\n",
       "      <td>59.100</td>\n",
       "    </tr>\n",
       "    <tr>\n",
       "      <th>hispanic</th>\n",
       "      <td>102.8</td>\n",
       "      <td>52.942</td>\n",
       "      <td>101.258</td>\n",
       "    </tr>\n",
       "    <tr>\n",
       "      <th>other</th>\n",
       "      <td>28.8</td>\n",
       "      <td>14.832</td>\n",
       "      <td>28.368</td>\n",
       "    </tr>\n",
       "    <tr>\n",
       "      <th>white</th>\n",
       "      <td>193.2</td>\n",
       "      <td>99.498</td>\n",
       "      <td>190.302</td>\n",
       "    </tr>\n",
       "  </tbody>\n",
       "</table>\n",
       "</div>"
      ],
      "text/plain": [
       "          democrat  independent  republican\n",
       "asian         15.2        7.828      14.972\n",
       "black         60.0       30.900      59.100\n",
       "hispanic     102.8       52.942     101.258\n",
       "other         28.8       14.832      28.368\n",
       "white        193.2       99.498     190.302"
      ]
     },
     "execution_count": 25,
     "metadata": {},
     "output_type": "execute_result"
    }
   ],
   "source": [
    "expected = np.outer(voter_tab['row_totals'][0:5], \n",
    "                    voter_tab.ix['col_totals'][0:3]) / 1000\n",
    "expected = pd.DataFrame(expected)\n",
    "expected.columns = ['democrat', 'independent', 'republican']\n",
    "expected.index = ['asian', 'black', 'hispanic', 'other', 'white']\n",
    "expected"
   ]
  },
  {
   "cell_type": "code",
   "execution_count": 27,
   "metadata": {},
   "outputs": [
    {
     "name": "stdout",
     "output_type": "stream",
     "text": [
      "7.01309736929\n"
     ]
    }
   ],
   "source": [
    "chi_squared_stat = (((observed - expected)**2)/expected).sum().sum()\n",
    "print(chi_squared_stat)"
   ]
  },
  {
   "cell_type": "code",
   "execution_count": 29,
   "metadata": {},
   "outputs": [
    {
     "name": "stdout",
     "output_type": "stream",
     "text": [
      "Critical value\n",
      "15.5073130559\n",
      "**************************************************\n",
      "P value\n",
      "0.535220220178\n"
     ]
    }
   ],
   "source": [
    "crit = stats.chi2.ppf(q=0.95,      # critical value for 95% confidence\n",
    "                    df=8)         # (5-1)*(3-1)\n",
    "print('Critical value')\n",
    "print(crit)\n",
    "print('*'*50)\n",
    "p_value = 1 - stats.chi2.cdf(x=chi_squared_stat,\n",
    "                            df=8)\n",
    "print('P value')\n",
    "print(p_value)"
   ]
  },
  {
   "cell_type": "markdown",
   "metadata": {},
   "source": [
    "> * 在scipy中进行卡方的独立性检验是通过 **`stats.chi2_contingency`** 进行的。\n",
    "> * 这个方法的结果分别是：chi-square statistic, p-value ,degrees of freedom,expected counts."
   ]
  },
  {
   "cell_type": "code",
   "execution_count": 30,
   "metadata": {},
   "outputs": [
    {
     "data": {
      "text/plain": [
       "(7.0130973692853118,\n",
       " 0.53522022017829307,\n",
       " 8,\n",
       " array([[  15.2  ,    7.828,   14.972],\n",
       "        [  60.   ,   30.9  ,   59.1  ],\n",
       "        [ 102.8  ,   52.942,  101.258],\n",
       "        [  28.8  ,   14.832,   28.368],\n",
       "        [ 193.2  ,   99.498,  190.302]]))"
      ]
     },
     "execution_count": 30,
     "metadata": {},
     "output_type": "execute_result"
    }
   ],
   "source": [
    "stats.chi2_contingency(observed=observed)"
   ]
  },
  {
   "cell_type": "code",
   "execution_count": null,
   "metadata": {},
   "outputs": [],
   "source": []
  }
 ],
 "metadata": {
  "kernelspec": {
   "display_name": "Python 3",
   "language": "python",
   "name": "python3"
  },
  "language_info": {
   "codemirror_mode": {
    "name": "ipython",
    "version": 3
   },
   "file_extension": ".py",
   "mimetype": "text/x-python",
   "name": "python",
   "nbconvert_exporter": "python",
   "pygments_lexer": "ipython3",
   "version": "3.6.4"
  }
 },
 "nbformat": 4,
 "nbformat_minor": 2
}
