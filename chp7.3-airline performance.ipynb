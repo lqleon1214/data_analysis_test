{
 "cells": [
  {
   "cell_type": "code",
   "execution_count": 1,
   "metadata": {},
   "outputs": [],
   "source": [
    "import numpy as np\n",
    "import pandas as pd\n",
    "import matplotlib.pyplot as plt\n",
    "import seaborn as sns\n",
    "%matplotlib inline"
   ]
  },
  {
   "cell_type": "code",
   "execution_count": 2,
   "metadata": {},
   "outputs": [],
   "source": [
    "colors = sns.color_palette('deep')\n",
    "sns.set_context(rc={'figure.figsize':(18, 5)})\n",
    "pd.set_option('display.max_columns', 10)\n",
    "pd.set_option('display.max_rows', 10)"
   ]
  },
  {
   "cell_type": "markdown",
   "metadata": {},
   "source": [
    "* 我思故我在\n",
    "* 数据是新时代的石油\n",
    "* 数据总是混乱的\n",
    "* 数据探索\n",
    "* Data Story- Turn Data into insight"
   ]
  },
  {
   "cell_type": "markdown",
   "metadata": {},
   "source": [
    "## 提出问题\n",
    "* 航班延迟情况如何？起飞延迟，到达延迟？\n",
    "* 每个州延迟情况？延迟比例？\n",
    "* 机场间延迟是否存在某种趋势？\n",
    "* 每天延迟情况怎么样？"
   ]
  },
  {
   "cell_type": "markdown",
   "metadata": {},
   "source": [
    "## load data"
   ]
  },
  {
   "cell_type": "code",
   "execution_count": 3,
   "metadata": {},
   "outputs": [
    {
     "data": {
      "text/html": [
       "<div>\n",
       "<style scoped>\n",
       "    .dataframe tbody tr th:only-of-type {\n",
       "        vertical-align: middle;\n",
       "    }\n",
       "\n",
       "    .dataframe tbody tr th {\n",
       "        vertical-align: top;\n",
       "    }\n",
       "\n",
       "    .dataframe thead th {\n",
       "        text-align: right;\n",
       "    }\n",
       "</style>\n",
       "<table border=\"1\" class=\"dataframe\">\n",
       "  <thead>\n",
       "    <tr style=\"text-align: right;\">\n",
       "      <th></th>\n",
       "      <th>FL_DATE</th>\n",
       "      <th>UNIQUE_CARRIER</th>\n",
       "      <th>ORIGIN_AIRPORT_ID</th>\n",
       "      <th>ORIGIN_AIRPORT_SEQ_ID</th>\n",
       "      <th>ORIGIN_CITY_MARKET_ID</th>\n",
       "      <th>...</th>\n",
       "      <th>ARR_DELAY_NEW</th>\n",
       "      <th>ARR_DEL15</th>\n",
       "      <th>DISTANCE</th>\n",
       "      <th>DISTANCE_GROUP</th>\n",
       "      <th>Unnamed: 16</th>\n",
       "    </tr>\n",
       "  </thead>\n",
       "  <tbody>\n",
       "    <tr>\n",
       "      <th>0</th>\n",
       "      <td>2014-06-01</td>\n",
       "      <td>AA</td>\n",
       "      <td>12478</td>\n",
       "      <td>1247802</td>\n",
       "      <td>31703</td>\n",
       "      <td>...</td>\n",
       "      <td>0.0</td>\n",
       "      <td>0.0</td>\n",
       "      <td>2475.0</td>\n",
       "      <td>10</td>\n",
       "      <td>NaN</td>\n",
       "    </tr>\n",
       "    <tr>\n",
       "      <th>1</th>\n",
       "      <td>2014-06-01</td>\n",
       "      <td>AA</td>\n",
       "      <td>12892</td>\n",
       "      <td>1289203</td>\n",
       "      <td>32575</td>\n",
       "      <td>...</td>\n",
       "      <td>0.0</td>\n",
       "      <td>0.0</td>\n",
       "      <td>2475.0</td>\n",
       "      <td>10</td>\n",
       "      <td>NaN</td>\n",
       "    </tr>\n",
       "    <tr>\n",
       "      <th>2</th>\n",
       "      <td>2014-06-01</td>\n",
       "      <td>AA</td>\n",
       "      <td>12478</td>\n",
       "      <td>1247802</td>\n",
       "      <td>31703</td>\n",
       "      <td>...</td>\n",
       "      <td>0.0</td>\n",
       "      <td>0.0</td>\n",
       "      <td>2475.0</td>\n",
       "      <td>10</td>\n",
       "      <td>NaN</td>\n",
       "    </tr>\n",
       "    <tr>\n",
       "      <th>3</th>\n",
       "      <td>2014-06-01</td>\n",
       "      <td>AA</td>\n",
       "      <td>12892</td>\n",
       "      <td>1289203</td>\n",
       "      <td>32575</td>\n",
       "      <td>...</td>\n",
       "      <td>160.0</td>\n",
       "      <td>1.0</td>\n",
       "      <td>2475.0</td>\n",
       "      <td>10</td>\n",
       "      <td>NaN</td>\n",
       "    </tr>\n",
       "    <tr>\n",
       "      <th>4</th>\n",
       "      <td>2014-06-01</td>\n",
       "      <td>AA</td>\n",
       "      <td>11298</td>\n",
       "      <td>1129803</td>\n",
       "      <td>30194</td>\n",
       "      <td>...</td>\n",
       "      <td>0.0</td>\n",
       "      <td>0.0</td>\n",
       "      <td>3784.0</td>\n",
       "      <td>11</td>\n",
       "      <td>NaN</td>\n",
       "    </tr>\n",
       "  </tbody>\n",
       "</table>\n",
       "<p>5 rows × 17 columns</p>\n",
       "</div>"
      ],
      "text/plain": [
       "      FL_DATE UNIQUE_CARRIER  ORIGIN_AIRPORT_ID  ORIGIN_AIRPORT_SEQ_ID  \\\n",
       "0  2014-06-01             AA              12478                1247802   \n",
       "1  2014-06-01             AA              12892                1289203   \n",
       "2  2014-06-01             AA              12478                1247802   \n",
       "3  2014-06-01             AA              12892                1289203   \n",
       "4  2014-06-01             AA              11298                1129803   \n",
       "\n",
       "   ORIGIN_CITY_MARKET_ID     ...     ARR_DELAY_NEW  ARR_DEL15  DISTANCE  \\\n",
       "0                  31703     ...               0.0        0.0    2475.0   \n",
       "1                  32575     ...               0.0        0.0    2475.0   \n",
       "2                  31703     ...               0.0        0.0    2475.0   \n",
       "3                  32575     ...             160.0        1.0    2475.0   \n",
       "4                  30194     ...               0.0        0.0    3784.0   \n",
       "\n",
       "   DISTANCE_GROUP Unnamed: 16  \n",
       "0              10         NaN  \n",
       "1              10         NaN  \n",
       "2              10         NaN  \n",
       "3              10         NaN  \n",
       "4              11         NaN  \n",
       "\n",
       "[5 rows x 17 columns]"
      ]
     },
     "execution_count": 3,
     "metadata": {},
     "output_type": "execute_result"
    }
   ],
   "source": [
    "data = pd.read_csv('./data/airport-ontime.csv')\n",
    "data.head()"
   ]
  },
  {
   "cell_type": "code",
   "execution_count": 5,
   "metadata": {},
   "outputs": [
    {
     "data": {
      "text/plain": [
       "(502617, 17)"
      ]
     },
     "execution_count": 5,
     "metadata": {},
     "output_type": "execute_result"
    }
   ],
   "source": [
    "data.shape"
   ]
  },
  {
   "cell_type": "code",
   "execution_count": 6,
   "metadata": {},
   "outputs": [
    {
     "data": {
      "text/plain": [
       "Index(['FL_DATE', 'UNIQUE_CARRIER', 'ORIGIN_AIRPORT_ID',\n",
       "       'ORIGIN_AIRPORT_SEQ_ID', 'ORIGIN_CITY_MARKET_ID', 'ORIGIN_STATE_ABR',\n",
       "       'DEST_AIRPORT_ID', 'DEST_AIRPORT_SEQ_ID', 'DEST_CITY_MARKET_ID',\n",
       "       'DEST_STATE_ABR', 'DEP_DELAY_NEW', 'DEP_DEL15', 'ARR_DELAY_NEW',\n",
       "       'ARR_DEL15', 'DISTANCE', 'DISTANCE_GROUP', 'Unnamed: 16'],\n",
       "      dtype='object')"
      ]
     },
     "execution_count": 6,
     "metadata": {},
     "output_type": "execute_result"
    }
   ],
   "source": [
    "data.columns"
   ]
  },
  {
   "cell_type": "code",
   "execution_count": 7,
   "metadata": {
    "scrolled": true
   },
   "outputs": [
    {
     "name": "stdout",
     "output_type": "stream",
     "text": [
      "<class 'pandas.core.frame.DataFrame'>\n",
      "RangeIndex: 502617 entries, 0 to 502616\n",
      "Data columns (total 17 columns):\n",
      "FL_DATE                  502617 non-null object\n",
      "UNIQUE_CARRIER           502617 non-null object\n",
      "ORIGIN_AIRPORT_ID        502617 non-null int64\n",
      "ORIGIN_AIRPORT_SEQ_ID    502617 non-null int64\n",
      "ORIGIN_CITY_MARKET_ID    502617 non-null int64\n",
      "ORIGIN_STATE_ABR         502617 non-null object\n",
      "DEST_AIRPORT_ID          502617 non-null int64\n",
      "DEST_AIRPORT_SEQ_ID      502617 non-null int64\n",
      "DEST_CITY_MARKET_ID      502617 non-null int64\n",
      "DEST_STATE_ABR           502617 non-null object\n",
      "DEP_DELAY_NEW            492974 non-null float64\n",
      "DEP_DEL15                492974 non-null float64\n",
      "ARR_DELAY_NEW            490716 non-null float64\n",
      "ARR_DEL15                490716 non-null float64\n",
      "DISTANCE                 502617 non-null float64\n",
      "DISTANCE_GROUP           502617 non-null int64\n",
      "Unnamed: 16              0 non-null float64\n",
      "dtypes: float64(6), int64(7), object(4)\n",
      "memory usage: 65.2+ MB\n"
     ]
    }
   ],
   "source": [
    "data.info()"
   ]
  },
  {
   "cell_type": "code",
   "execution_count": 8,
   "metadata": {},
   "outputs": [],
   "source": [
    "data.dropna(how='all', inplace=True, axis=1)"
   ]
  },
  {
   "cell_type": "code",
   "execution_count": 9,
   "metadata": {},
   "outputs": [
    {
     "name": "stdout",
     "output_type": "stream",
     "text": [
      "<class 'pandas.core.frame.DataFrame'>\n",
      "RangeIndex: 502617 entries, 0 to 502616\n",
      "Data columns (total 16 columns):\n",
      "FL_DATE                  502617 non-null object\n",
      "UNIQUE_CARRIER           502617 non-null object\n",
      "ORIGIN_AIRPORT_ID        502617 non-null int64\n",
      "ORIGIN_AIRPORT_SEQ_ID    502617 non-null int64\n",
      "ORIGIN_CITY_MARKET_ID    502617 non-null int64\n",
      "ORIGIN_STATE_ABR         502617 non-null object\n",
      "DEST_AIRPORT_ID          502617 non-null int64\n",
      "DEST_AIRPORT_SEQ_ID      502617 non-null int64\n",
      "DEST_CITY_MARKET_ID      502617 non-null int64\n",
      "DEST_STATE_ABR           502617 non-null object\n",
      "DEP_DELAY_NEW            492974 non-null float64\n",
      "DEP_DEL15                492974 non-null float64\n",
      "ARR_DELAY_NEW            490716 non-null float64\n",
      "ARR_DEL15                490716 non-null float64\n",
      "DISTANCE                 502617 non-null float64\n",
      "DISTANCE_GROUP           502617 non-null int64\n",
      "dtypes: float64(5), int64(7), object(4)\n",
      "memory usage: 61.4+ MB\n"
     ]
    }
   ],
   "source": [
    "data.info()"
   ]
  },
  {
   "cell_type": "code",
   "execution_count": 10,
   "metadata": {},
   "outputs": [
    {
     "data": {
      "text/plain": [
       "FL_DATE                      0\n",
       "UNIQUE_CARRIER               0\n",
       "ORIGIN_AIRPORT_ID            0\n",
       "ORIGIN_AIRPORT_SEQ_ID        0\n",
       "ORIGIN_CITY_MARKET_ID        0\n",
       "                         ...  \n",
       "DEP_DEL15                 9643\n",
       "ARR_DELAY_NEW            11901\n",
       "ARR_DEL15                11901\n",
       "DISTANCE                     0\n",
       "DISTANCE_GROUP               0\n",
       "Length: 16, dtype: int64"
      ]
     },
     "execution_count": 10,
     "metadata": {},
     "output_type": "execute_result"
    }
   ],
   "source": [
    "# 检查是否还有空值\n",
    "data.isnull().sum()"
   ]
  },
  {
   "cell_type": "markdown",
   "metadata": {},
   "source": [
    "## 起飞以及到达的延迟情况"
   ]
  },
  {
   "cell_type": "code",
   "execution_count": null,
   "metadata": {},
   "outputs": [],
   "source": []
  }
 ],
 "metadata": {
  "kernelspec": {
   "display_name": "Python 3",
   "language": "python",
   "name": "python3"
  },
  "language_info": {
   "codemirror_mode": {
    "name": "ipython",
    "version": 3
   },
   "file_extension": ".py",
   "mimetype": "text/x-python",
   "name": "python",
   "nbconvert_exporter": "python",
   "pygments_lexer": "ipython3",
   "version": "3.6.4"
  }
 },
 "nbformat": 4,
 "nbformat_minor": 2
}
