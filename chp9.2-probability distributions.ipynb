{
 "cells": [
  {
   "cell_type": "code",
   "execution_count": 1,
   "metadata": {},
   "outputs": [],
   "source": [
    "import numpy as np\n",
    "import pandas as pd\n",
    "import matplotlib.pyplot as plt\n",
    "import scipy.stats as stats\n",
    "%matplotlib inline"
   ]
  },
  {
   "cell_type": "markdown",
   "metadata": {},
   "source": [
    "## 均匀分布（均匀分布就是在所在的分为内的 概率实际上是一样的）\n",
    "[均匀分布](https://baike.baidu.com/item/均匀分布/954451?fr=aladdin)\n",
    "\n",
    "大部分有关概率和统计的处理，在scipy的stats中都有了很好的支持。"
   ]
  },
  {
   "cell_type": "markdown",
   "metadata": {},
   "source": [
    "> * **`uniform`** 是表示均匀分布的；\n",
    "> * **`rvs`** 是表示生成随机变量，其中的 **`size`** 表示要获取的数量； **`loc`** 是表示开始的位置, **`scale`** 表示的是到什么位置结束。"
   ]
  },
  {
   "cell_type": "code",
   "execution_count": 4,
   "metadata": {},
   "outputs": [
    {
     "data": {
      "text/plain": [
       "<matplotlib.axes._subplots.AxesSubplot at 0x115bdc278>"
      ]
     },
     "execution_count": 4,
     "metadata": {},
     "output_type": "execute_result"
    },
    {
     "data": {
      "image/png": "[encoded data removed]",
      "text/plain": [
       "<matplotlib.figure.Figure at 0x1144e2b38>"
      ]
     },
     "metadata": {},
     "output_type": "display_data"
    }
   ],
   "source": [
    "uniform_data = stats.uniform.rvs(size=10000, loc=0, scale=10)\n",
    "pd.DataFrame(uniform_data).plot(kind='density', figsize=(8,5), xlim=(-1,11))"
   ]
  },
  {
   "cell_type": "markdown",
   "metadata": {},
   "source": [
    "> **`cdf`** 叫做累计概率分布。其中 **`x`** 是我们要查看的位置。"
   ]
  },
  {
   "cell_type": "code",
   "execution_count": 6,
   "metadata": {},
   "outputs": [],
   "source": [
    "stats.uniform.cdf?"
   ]
  },
  {
   "cell_type": "code",
   "execution_count": 5,
   "metadata": {},
   "outputs": [
    {
     "data": {
      "text/plain": [
       "0.25"
      ]
     },
     "execution_count": 5,
     "metadata": {},
     "output_type": "execute_result"
    }
   ],
   "source": [
    "stats.uniform.cdf(x=2.5, loc=0, scale=10)"
   ]
  },
  {
   "cell_type": "markdown",
   "metadata": {},
   "source": [
    "> **`ppf`** 实际上是 **`cdf`** 的逆函数。实际上是考察的是在指定的累计概率值的对应的位置。其中 **`q`** 参数是quantial的意思。"
   ]
  },
  {
   "cell_type": "code",
   "execution_count": 8,
   "metadata": {},
   "outputs": [
    {
     "data": {
      "text/plain": [
       "6.0"
      ]
     },
     "execution_count": 8,
     "metadata": {},
     "output_type": "execute_result"
    }
   ],
   "source": [
    "stats.uniform.ppf(q=0.6, loc=0, scale=10)"
   ]
  },
  {
   "cell_type": "markdown",
   "metadata": {},
   "source": [
    "> **`pdf`** 函数表示的是对应的点的值的概率的密度。 **(probability density)** 的意思。"
   ]
  },
  {
   "cell_type": "code",
   "execution_count": 9,
   "metadata": {},
   "outputs": [
    {
     "data": {
      "text/plain": [
       "0.10000000000000001"
      ]
     },
     "execution_count": 9,
     "metadata": {},
     "output_type": "execute_result"
    }
   ],
   "source": [
    "stats.uniform.pdf(3, loc=0, scale=10)"
   ]
  },
  {
   "cell_type": "markdown",
   "metadata": {},
   "source": [
    "## 正态分布\n",
    "[正态分布](https://baike.baidu.com/item/正态分布)<br/>\n",
    "$$f(x)=\\frac{1}{\\sqrt{2\\pi}\\sigma}exp(-\\frac{(x-\\mu)^2}{2\\sigma^2})$$"
   ]
  },
  {
   "cell_type": "code",
   "execution_count": 10,
   "metadata": {},
   "outputs": [],
   "source": [
    "import random"
   ]
  },
  {
   "cell_type": "code",
   "execution_count": 11,
   "metadata": {},
   "outputs": [
    {
     "data": {
      "text/plain": [
       "49"
      ]
     },
     "execution_count": 11,
     "metadata": {},
     "output_type": "execute_result"
    }
   ],
   "source": [
    "random.randint(0, 100)     # 生成的是整数"
   ]
  },
  {
   "cell_type": "code",
   "execution_count": 13,
   "metadata": {},
   "outputs": [
    {
     "data": {
      "text/plain": [
       "5"
      ]
     },
     "execution_count": 13,
     "metadata": {},
     "output_type": "execute_result"
    }
   ],
   "source": [
    "random.choice([1, 2, 3, 4, 5, 6])     # 在指定的数里面随机选择一个。"
   ]
  },
  {
   "cell_type": "code",
   "execution_count": 14,
   "metadata": {},
   "outputs": [
    {
     "data": {
      "text/plain": [
       "0.8432791226768669"
      ]
     },
     "execution_count": 14,
     "metadata": {},
     "output_type": "execute_result"
    }
   ],
   "source": [
    "random.random()           # 普通的生成0到1之间的随机数。"
   ]
  },
  {
   "cell_type": "code",
   "execution_count": 15,
   "metadata": {},
   "outputs": [
    {
     "name": "stdout",
     "output_type": "stream",
     "text": [
      "[7.379250292770178, 4.487027599093537, 8.923718225399222, 8.753408330129322]\n"
     ]
    }
   ],
   "source": [
    "# 通过使用seed来保证每次生成的随机数相同\n",
    "random.seed(2016)\n",
    "print([random.uniform(0, 10) for x in range(4)])"
   ]
  },
  {
   "cell_type": "code",
   "execution_count": 16,
   "metadata": {},
   "outputs": [
    {
     "name": "stdout",
     "output_type": "stream",
     "text": [
      "[7.379250292770178, 4.487027599093537, 8.923718225399222, 8.753408330129322]\n"
     ]
    }
   ],
   "source": [
    "random.seed(2016)\n",
    "print([random.uniform(0, 10) for x in range(4)])"
   ]
  },
  {
   "cell_type": "markdown",
   "metadata": {},
   "source": [
    "> 在使用 **`norm.cdf`** 方法里面的 **`loc`** 表示的均值，**`scale`** 表示的是方差。"
   ]
  },
  {
   "cell_type": "code",
   "execution_count": 17,
   "metadata": {},
   "outputs": [
    {
     "name": "stdout",
     "output_type": "stream",
     "text": [
      "0.158655253931 0.682689492137 0.158655253931\n"
     ]
    }
   ],
   "source": [
    "prob_under_minusl = stats.norm.cdf(x=-1, loc=0, scale=1)\n",
    "prob_over_1 = 1- stats.norm.cdf(x=1, loc=0, scale=1)\n",
    "between_prob = 1 - (prob_under_minusl + prob_over_1)\n",
    "print(prob_under_minusl, between_prob, prob_over_1)"
   ]
  },
  {
   "cell_type": "markdown",
   "metadata": {},
   "source": [
    "> 可以看到下面的画图是通过 **`fill_between`** 来进行部分的填充的，通过很密的点来进行的。"
   ]
  },
  {
   "cell_type": "code",
   "execution_count": 22,
   "metadata": {},
   "outputs": [
    {
     "data": {
      "text/plain": [
       "Text(1.4,0.03,'0.159')"
      ]
     },
     "execution_count": 22,
     "metadata": {},
     "output_type": "execute_result"
    },
    {
     "data": {
      "image/png": "[encoded data removed]",
      "text/plain": [
       "<matplotlib.figure.Figure at 0x115060240>"
      ]
     },
     "metadata": {},
     "output_type": "display_data"
    }
   ],
   "source": [
    "plt.rcParams['figure.figsize'] = (9, 9)\n",
    "plt.fill_between(x=np.arange(-4, -1, 0.01), y1=stats.norm.pdf(np.arange(-4, -1, 0.01)), facecolor='red', alpha=0.35)\n",
    "plt.fill_between(x=np.arange(1, 4, 0.01), y1=stats.norm.pdf(np.arange(1, 4, 0.01)), facecolor='red', alpha=0.35)\n",
    "plt.fill_between(x=np.arange(-1, 1, 0.01), y1=stats.norm.pdf(np.arange(-1, 1, 0.01)), facecolor='blue', alpha=0.35)\n",
    "plt.text(x=-1.8, y=0.03, s=round(prob_under_minusl, 3))\n",
    "plt.text(x=-0.2, y=0.1, s=round(between_prob, 3))\n",
    "plt.text(x=1.4, y=0.03, s=round(prob_over_1, 3))"
   ]
  },
  {
   "cell_type": "code",
   "execution_count": 24,
   "metadata": {},
   "outputs": [
    {
     "name": "stdout",
     "output_type": "stream",
     "text": [
      "-1.95996398454\n",
      "1.95996398454\n"
     ]
    }
   ],
   "source": [
    "print(stats.norm.ppf(q=0.025))\n",
    "print(stats.norm.ppf(q=0.975))"
   ]
  },
  {
   "cell_type": "code",
   "execution_count": null,
   "metadata": {},
   "outputs": [],
   "source": []
  }
 ],
 "metadata": {
  "kernelspec": {
   "display_name": "Python 3",
   "language": "python",
   "name": "python3"
  },
  "language_info": {
   "codemirror_mode": {
    "name": "ipython",
    "version": 3
   },
   "file_extension": ".py",
   "mimetype": "text/x-python",
   "name": "python",
   "nbconvert_exporter": "python",
   "pygments_lexer": "ipython3",
   "version": "3.6.4"
  }
 },
 "nbformat": 4,
 "nbformat_minor": 2
}
