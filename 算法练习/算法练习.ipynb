{
 "cells": [
  {
   "cell_type": "markdown",
   "metadata": {},
   "source": [
    "## 有关算法的练习"
   ]
  },
  {
   "cell_type": "code",
   "execution_count": 2,
   "metadata": {},
   "outputs": [
    {
     "name": "stdout",
     "output_type": "stream",
     "text": [
      "1\n",
      "None\n"
     ]
    }
   ],
   "source": [
    "# 下面这个是有关二分查找的练习\n",
    "def binary_search(list, item):\n",
    "    low = 0\n",
    "    high = len(list) -1 #low 和 high用于跟踪要在其中查找的列表部分\n",
    "    \n",
    "    while low <= high:   #只要范围没有缩小到只包含一个元素，就检查中间元素\n",
    "        mid = int((low + high) / 2)\n",
    "        guess = list[mid]\n",
    "        if guess == item:    # 找到了元素\n",
    "            return mid\n",
    "        elif guess > item:    # 猜的数字大了\n",
    "            high = mid - 1\n",
    "        else:                # 猜的数字小了\n",
    "            low = mid + 1\n",
    "    return None              # 没有指定的元素\n",
    "\n",
    "my_list = [1, 3, 5, 7, 9]\n",
    "print(binary_search(my_list, 3))   # => 1    别忘了索引是从0开始，第二个位置的索引为1\n",
    "print(binary_search(my_list, -1))  # => None 在Python中，None表示空，它意味着没有找到指定的元素。"
   ]
  },
  {
   "cell_type": "code",
   "execution_count": null,
   "metadata": {},
   "outputs": [],
   "source": []
  }
 ],
 "metadata": {
  "kernelspec": {
   "display_name": "Python 3",
   "language": "python",
   "name": "python3"
  },
  "language_info": {
   "codemirror_mode": {
    "name": "ipython",
    "version": 3
   },
   "file_extension": ".py",
   "mimetype": "text/x-python",
   "name": "python",
   "nbconvert_exporter": "python",
   "pygments_lexer": "ipython3",
   "version": "3.6.4"
  }
 },
 "nbformat": 4,
 "nbformat_minor": 2
}
