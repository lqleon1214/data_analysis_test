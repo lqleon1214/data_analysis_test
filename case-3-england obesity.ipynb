{
 "cells": [
  {
   "cell_type": "code",
   "execution_count": 1,
   "metadata": {},
   "outputs": [],
   "source": [
    "import numpy as np\n",
    "import pandas as pd\n",
    "import matplotlib.pyplot as plt\n",
    "%matplotlib inline"
   ]
  },
  {
   "cell_type": "markdown",
   "metadata": {},
   "source": [
    "# load/clean\n",
    "\n",
    "[http://localhost:8888/?token=e6ddc825d95cd638939de9e9d91b863e59b628a1b23acce3](http://localhost:8888/?token=e6ddc825d95cd638939de9e9d91b863e59b628a1b23acce3)"
   ]
  },
  {
   "cell_type": "code",
   "execution_count": 3,
   "metadata": {},
   "outputs": [],
   "source": [
    "data = pd.read_excel('./data/obes-phys-acti-diet-eng-2016-tab.xlsx')"
   ]
  },
  {
   "cell_type": "code",
   "execution_count": 4,
   "metadata": {},
   "outputs": [
    {
     "data": {
      "text/html": [
       "<div>\n",
       "<style scoped>\n",
       "    .dataframe tbody tr th:only-of-type {\n",
       "        vertical-align: middle;\n",
       "    }\n",
       "\n",
       "    .dataframe tbody tr th {\n",
       "        vertical-align: top;\n",
       "    }\n",
       "\n",
       "    .dataframe thead th {\n",
       "        text-align: right;\n",
       "    }\n",
       "</style>\n",
       "<table border=\"1\" class=\"dataframe\">\n",
       "  <thead>\n",
       "    <tr style=\"text-align: right;\">\n",
       "      <th></th>\n",
       "      <th>Unnamed: 0</th>\n",
       "      <th>Unnamed: 1</th>\n",
       "      <th>Unnamed: 2</th>\n",
       "    </tr>\n",
       "  </thead>\n",
       "  <tbody>\n",
       "    <tr>\n",
       "      <th>0</th>\n",
       "      <td>NaN</td>\n",
       "      <td>NaN</td>\n",
       "      <td>NaN</td>\n",
       "    </tr>\n",
       "    <tr>\n",
       "      <th>1</th>\n",
       "      <td>NaN</td>\n",
       "      <td>NaN</td>\n",
       "      <td>NaN</td>\n",
       "    </tr>\n",
       "    <tr>\n",
       "      <th>2</th>\n",
       "      <td>NaN</td>\n",
       "      <td>NaN</td>\n",
       "      <td>NaN</td>\n",
       "    </tr>\n",
       "    <tr>\n",
       "      <th>3</th>\n",
       "      <td>NaN</td>\n",
       "      <td>NaN</td>\n",
       "      <td>NaN</td>\n",
       "    </tr>\n",
       "    <tr>\n",
       "      <th>4</th>\n",
       "      <td>NaN</td>\n",
       "      <td>NaN</td>\n",
       "      <td>NaN</td>\n",
       "    </tr>\n",
       "  </tbody>\n",
       "</table>\n",
       "</div>"
      ],
      "text/plain": [
       "   Unnamed: 0 Unnamed: 1 Unnamed: 2\n",
       "0         NaN        NaN        NaN\n",
       "1         NaN        NaN        NaN\n",
       "2         NaN        NaN        NaN\n",
       "3         NaN        NaN        NaN\n",
       "4         NaN        NaN        NaN"
      ]
     },
     "execution_count": 4,
     "metadata": {},
     "output_type": "execute_result"
    }
   ],
   "source": [
    "data.head()"
   ]
  },
  {
   "cell_type": "code",
   "execution_count": 5,
   "metadata": {},
   "outputs": [
    {
     "data": {
      "text/html": [
       "<div>\n",
       "<style scoped>\n",
       "    .dataframe tbody tr th:only-of-type {\n",
       "        vertical-align: middle;\n",
       "    }\n",
       "\n",
       "    .dataframe tbody tr th {\n",
       "        vertical-align: top;\n",
       "    }\n",
       "\n",
       "    .dataframe thead th {\n",
       "        text-align: right;\n",
       "    }\n",
       "</style>\n",
       "<table border=\"1\" class=\"dataframe\">\n",
       "  <thead>\n",
       "    <tr style=\"text-align: right;\">\n",
       "      <th></th>\n",
       "      <th>Unnamed: 0</th>\n",
       "      <th>Unnamed: 1</th>\n",
       "      <th>Unnamed: 2</th>\n",
       "    </tr>\n",
       "  </thead>\n",
       "  <tbody>\n",
       "    <tr>\n",
       "      <th>0</th>\n",
       "      <td>NaN</td>\n",
       "      <td>NaN</td>\n",
       "      <td>NaN</td>\n",
       "    </tr>\n",
       "    <tr>\n",
       "      <th>1</th>\n",
       "      <td>NaN</td>\n",
       "      <td>NaN</td>\n",
       "      <td>NaN</td>\n",
       "    </tr>\n",
       "    <tr>\n",
       "      <th>2</th>\n",
       "      <td>NaN</td>\n",
       "      <td>NaN</td>\n",
       "      <td>NaN</td>\n",
       "    </tr>\n",
       "    <tr>\n",
       "      <th>3</th>\n",
       "      <td>NaN</td>\n",
       "      <td>NaN</td>\n",
       "      <td>NaN</td>\n",
       "    </tr>\n",
       "    <tr>\n",
       "      <th>4</th>\n",
       "      <td>NaN</td>\n",
       "      <td>NaN</td>\n",
       "      <td>NaN</td>\n",
       "    </tr>\n",
       "  </tbody>\n",
       "</table>\n",
       "</div>"
      ],
      "text/plain": [
       "   Unnamed: 0 Unnamed: 1 Unnamed: 2\n",
       "0         NaN        NaN        NaN\n",
       "1         NaN        NaN        NaN\n",
       "2         NaN        NaN        NaN\n",
       "3         NaN        NaN        NaN\n",
       "4         NaN        NaN        NaN"
      ]
     },
     "execution_count": 5,
     "metadata": {},
     "output_type": "execute_result"
    }
   ],
   "source": [
    "data = pd.read_excel('./data/obes-phys-acti-diet-eng-2016-tab.xlsx', sheet='Table 6')\n",
    "data.head()"
   ]
  },
  {
   "cell_type": "code",
   "execution_count": 6,
   "metadata": {},
   "outputs": [
    {
     "name": "stderr",
     "output_type": "stream",
     "text": [
      "/data/data/com.termux/files/usr/lib/python3.6/site-packages/pandas/util/_decorators.py:118: FutureWarning: The `sheetname` keyword is deprecated, use `sheet_name` instead\n",
      "  return func(*args, **kwargs)\n"
     ]
    },
    {
     "data": {
      "text/html": [
       "<div>\n",
       "<style scoped>\n",
       "    .dataframe tbody tr th:only-of-type {\n",
       "        vertical-align: middle;\n",
       "    }\n",
       "\n",
       "    .dataframe tbody tr th {\n",
       "        vertical-align: top;\n",
       "    }\n",
       "\n",
       "    .dataframe thead th {\n",
       "        text-align: right;\n",
       "    }\n",
       "</style>\n",
       "<table border=\"1\" class=\"dataframe\">\n",
       "  <thead>\n",
       "    <tr style=\"text-align: right;\">\n",
       "      <th></th>\n",
       "      <th>Table 6 - Finished Admission Episodes1 with a primary or secondary diagnosis2 of obesity3, by age group</th>\n",
       "      <th>Unnamed: 1</th>\n",
       "      <th>Unnamed: 2</th>\n",
       "      <th>Unnamed: 3</th>\n",
       "      <th>Unnamed: 4</th>\n",
       "      <th>Unnamed: 5</th>\n",
       "      <th>Unnamed: 6</th>\n",
       "      <th>Unnamed: 7</th>\n",
       "      <th>Unnamed: 8</th>\n",
       "      <th>Unnamed: 9</th>\n",
       "      <th>Unnamed: 10</th>\n",
       "      <th>Unnamed: 11</th>\n",
       "    </tr>\n",
       "  </thead>\n",
       "  <tbody>\n",
       "    <tr>\n",
       "      <th>0</th>\n",
       "      <td>England, 2004/05 to 2014/154,5,6</td>\n",
       "      <td>NaN</td>\n",
       "      <td>NaN</td>\n",
       "      <td>NaN</td>\n",
       "      <td>NaN</td>\n",
       "      <td>NaN</td>\n",
       "      <td>NaN</td>\n",
       "      <td>NaN</td>\n",
       "      <td>NaN</td>\n",
       "      <td>NaN</td>\n",
       "      <td>NaN</td>\n",
       "      <td>NaN</td>\n",
       "    </tr>\n",
       "    <tr>\n",
       "      <th>1</th>\n",
       "      <td>NaN</td>\n",
       "      <td>NaN</td>\n",
       "      <td>NaN</td>\n",
       "      <td>NaN</td>\n",
       "      <td>NaN</td>\n",
       "      <td>NaN</td>\n",
       "      <td>NaN</td>\n",
       "      <td>NaN</td>\n",
       "      <td>NaN</td>\n",
       "      <td>NaN</td>\n",
       "      <td>NaN</td>\n",
       "      <td>Numbers</td>\n",
       "    </tr>\n",
       "    <tr>\n",
       "      <th>2</th>\n",
       "      <td>Year</td>\n",
       "      <td>NaN</td>\n",
       "      <td>All ages</td>\n",
       "      <td>Under 16</td>\n",
       "      <td>16 to 24</td>\n",
       "      <td>25 to 34</td>\n",
       "      <td>35 to 44</td>\n",
       "      <td>45 to 54</td>\n",
       "      <td>55 to 64</td>\n",
       "      <td>65 to 74</td>\n",
       "      <td>75 and over</td>\n",
       "      <td>Unknown</td>\n",
       "    </tr>\n",
       "    <tr>\n",
       "      <th>3</th>\n",
       "      <td>NaN</td>\n",
       "      <td>NaN</td>\n",
       "      <td>NaN</td>\n",
       "      <td>NaN</td>\n",
       "      <td>NaN</td>\n",
       "      <td>NaN</td>\n",
       "      <td>NaN</td>\n",
       "      <td>NaN</td>\n",
       "      <td>NaN</td>\n",
       "      <td>NaN</td>\n",
       "      <td>NaN</td>\n",
       "      <td>NaN</td>\n",
       "    </tr>\n",
       "    <tr>\n",
       "      <th>4</th>\n",
       "      <td>2014/15</td>\n",
       "      <td>NaN</td>\n",
       "      <td>440288</td>\n",
       "      <td>3357</td>\n",
       "      <td>28321</td>\n",
       "      <td>71483</td>\n",
       "      <td>56598</td>\n",
       "      <td>73281</td>\n",
       "      <td>80400</td>\n",
       "      <td>79101</td>\n",
       "      <td>47732</td>\n",
       "      <td>15</td>\n",
       "    </tr>\n",
       "  </tbody>\n",
       "</table>\n",
       "</div>"
      ],
      "text/plain": [
       "  Table 6 - Finished Admission Episodes1 with a primary or secondary diagnosis2 of obesity3, by age group  \\\n",
       "0                   England, 2004/05 to 2014/154,5,6                                                        \n",
       "1                                                NaN                                                        \n",
       "2                                               Year                                                        \n",
       "3                                                NaN                                                        \n",
       "4                                            2014/15                                                        \n",
       "\n",
       "  Unnamed: 1 Unnamed: 2 Unnamed: 3 Unnamed: 4 Unnamed: 5 Unnamed: 6  \\\n",
       "0        NaN        NaN        NaN        NaN        NaN        NaN   \n",
       "1        NaN        NaN        NaN        NaN        NaN        NaN   \n",
       "2        NaN   All ages   Under 16   16 to 24   25 to 34   35 to 44   \n",
       "3        NaN        NaN        NaN        NaN        NaN        NaN   \n",
       "4        NaN     440288       3357      28321      71483      56598   \n",
       "\n",
       "  Unnamed: 7 Unnamed: 8 Unnamed: 9  Unnamed: 10 Unnamed: 11  \n",
       "0        NaN        NaN        NaN          NaN         NaN  \n",
       "1        NaN        NaN        NaN          NaN     Numbers  \n",
       "2   45 to 54   55 to 64   65 to 74  75 and over     Unknown  \n",
       "3        NaN        NaN        NaN          NaN         NaN  \n",
       "4      73281      80400      79101        47732          15  "
      ]
     },
     "execution_count": 6,
     "metadata": {},
     "output_type": "execute_result"
    }
   ],
   "source": [
    "data = pd.read_excel('./data/obes-phys-acti-diet-eng-2016-tab.xlsx', sheetname='Table 6')\n",
    "data.head()"
   ]
  },
  {
   "cell_type": "code",
   "execution_count": 7,
   "metadata": {},
   "outputs": [
    {
     "name": "stderr",
     "output_type": "stream",
     "text": [
      "/data/data/com.termux/files/usr/lib/python3.6/site-packages/pandas/util/_decorators.py:118: FutureWarning: The `sheetname` keyword is deprecated, use `sheet_name` instead\n",
      "  return func(*args, **kwargs)\n"
     ]
    },
    {
     "data": {
      "text/html": [
       "<div>\n",
       "<style scoped>\n",
       "    .dataframe tbody tr th:only-of-type {\n",
       "        vertical-align: middle;\n",
       "    }\n",
       "\n",
       "    .dataframe tbody tr th {\n",
       "        vertical-align: top;\n",
       "    }\n",
       "\n",
       "    .dataframe thead th {\n",
       "        text-align: right;\n",
       "    }\n",
       "</style>\n",
       "<table border=\"1\" class=\"dataframe\">\n",
       "  <thead>\n",
       "    <tr style=\"text-align: right;\">\n",
       "      <th></th>\n",
       "      <th>Year</th>\n",
       "      <th>Unnamed: 1</th>\n",
       "      <th>All ages</th>\n",
       "      <th>Under 16</th>\n",
       "      <th>16 to 24</th>\n",
       "      <th>25 to 34</th>\n",
       "      <th>35 to 44</th>\n",
       "      <th>45 to 54</th>\n",
       "      <th>55 to 64</th>\n",
       "      <th>65 to 74</th>\n",
       "      <th>75 and over</th>\n",
       "      <th>Unknown</th>\n",
       "    </tr>\n",
       "  </thead>\n",
       "  <tbody>\n",
       "    <tr>\n",
       "      <th>0</th>\n",
       "      <td>NaN</td>\n",
       "      <td>NaN</td>\n",
       "      <td>NaN</td>\n",
       "      <td>NaN</td>\n",
       "      <td>NaN</td>\n",
       "      <td>NaN</td>\n",
       "      <td>NaN</td>\n",
       "      <td>NaN</td>\n",
       "      <td>NaN</td>\n",
       "      <td>NaN</td>\n",
       "      <td>NaN</td>\n",
       "      <td>NaN</td>\n",
       "    </tr>\n",
       "    <tr>\n",
       "      <th>1</th>\n",
       "      <td>2014/15</td>\n",
       "      <td>NaN</td>\n",
       "      <td>440288.0</td>\n",
       "      <td>3357.0</td>\n",
       "      <td>28321.0</td>\n",
       "      <td>71483.0</td>\n",
       "      <td>56598.0</td>\n",
       "      <td>73281.0</td>\n",
       "      <td>80400.0</td>\n",
       "      <td>79101.0</td>\n",
       "      <td>47732.0</td>\n",
       "      <td>15.0</td>\n",
       "    </tr>\n",
       "    <tr>\n",
       "      <th>2</th>\n",
       "      <td>2013/14</td>\n",
       "      <td>NaN</td>\n",
       "      <td>365577.0</td>\n",
       "      <td>3011.0</td>\n",
       "      <td>23743.0</td>\n",
       "      <td>59059.0</td>\n",
       "      <td>47629.0</td>\n",
       "      <td>61823.0</td>\n",
       "      <td>68175.0</td>\n",
       "      <td>63735.0</td>\n",
       "      <td>38393.0</td>\n",
       "      <td>9.0</td>\n",
       "    </tr>\n",
       "    <tr>\n",
       "      <th>3</th>\n",
       "      <td>2012/13</td>\n",
       "      <td>NaN</td>\n",
       "      <td>292404.0</td>\n",
       "      <td>3115.0</td>\n",
       "      <td>18849.0</td>\n",
       "      <td>43681.0</td>\n",
       "      <td>39627.0</td>\n",
       "      <td>51364.0</td>\n",
       "      <td>55676.0</td>\n",
       "      <td>50262.0</td>\n",
       "      <td>29822.0</td>\n",
       "      <td>8.0</td>\n",
       "    </tr>\n",
       "    <tr>\n",
       "      <th>4</th>\n",
       "      <td>2011/12</td>\n",
       "      <td>NaN</td>\n",
       "      <td>266666.0</td>\n",
       "      <td>2824.0</td>\n",
       "      <td>16016.0</td>\n",
       "      <td>37060.0</td>\n",
       "      <td>37098.0</td>\n",
       "      <td>47514.0</td>\n",
       "      <td>53209.0</td>\n",
       "      <td>45949.0</td>\n",
       "      <td>26989.0</td>\n",
       "      <td>7.0</td>\n",
       "    </tr>\n",
       "  </tbody>\n",
       "</table>\n",
       "</div>"
      ],
      "text/plain": [
       "      Year  Unnamed: 1  All ages  Under 16  16 to 24  25 to 34  35 to 44  \\\n",
       "0      NaN         NaN       NaN       NaN       NaN       NaN       NaN   \n",
       "1  2014/15         NaN  440288.0    3357.0   28321.0   71483.0   56598.0   \n",
       "2  2013/14         NaN  365577.0    3011.0   23743.0   59059.0   47629.0   \n",
       "3  2012/13         NaN  292404.0    3115.0   18849.0   43681.0   39627.0   \n",
       "4  2011/12         NaN  266666.0    2824.0   16016.0   37060.0   37098.0   \n",
       "\n",
       "   45 to 54  55 to 64  65 to 74  75 and over  Unknown  \n",
       "0       NaN       NaN       NaN          NaN      NaN  \n",
       "1   73281.0   80400.0   79101.0      47732.0     15.0  \n",
       "2   61823.0   68175.0   63735.0      38393.0      9.0  \n",
       "3   51364.0   55676.0   50262.0      29822.0      8.0  \n",
       "4   47514.0   53209.0   45949.0      26989.0      7.0  "
      ]
     },
     "execution_count": 7,
     "metadata": {},
     "output_type": "execute_result"
    }
   ],
   "source": [
    "data = pd.read_excel('./data/obes-phys-acti-diet-eng-2016-tab.xlsx', sheetname='Table 6', skiprows=3, skip_footer=14)\n",
    "# pd.read_excel?\n",
    "data.head()"
   ]
  },
  {
   "cell_type": "code",
   "execution_count": 9,
   "metadata": {},
   "outputs": [],
   "source": [
    "del data['Unnamed: 1']"
   ]
  },
  {
   "cell_type": "code",
   "execution_count": 10,
   "metadata": {},
   "outputs": [],
   "source": [
    "data.dropna(inplace=True)"
   ]
  },
  {
   "cell_type": "code",
   "execution_count": 11,
   "metadata": {},
   "outputs": [
    {
     "data": {
      "text/html": [
       "<div>\n",
       "<style scoped>\n",
       "    .dataframe tbody tr th:only-of-type {\n",
       "        vertical-align: middle;\n",
       "    }\n",
       "\n",
       "    .dataframe tbody tr th {\n",
       "        vertical-align: top;\n",
       "    }\n",
       "\n",
       "    .dataframe thead th {\n",
       "        text-align: right;\n",
       "    }\n",
       "</style>\n",
       "<table border=\"1\" class=\"dataframe\">\n",
       "  <thead>\n",
       "    <tr style=\"text-align: right;\">\n",
       "      <th></th>\n",
       "      <th>Year</th>\n",
       "      <th>All ages</th>\n",
       "      <th>Under 16</th>\n",
       "      <th>16 to 24</th>\n",
       "      <th>25 to 34</th>\n",
       "      <th>35 to 44</th>\n",
       "      <th>45 to 54</th>\n",
       "      <th>55 to 64</th>\n",
       "      <th>65 to 74</th>\n",
       "      <th>75 and over</th>\n",
       "      <th>Unknown</th>\n",
       "    </tr>\n",
       "  </thead>\n",
       "  <tbody>\n",
       "    <tr>\n",
       "      <th>1</th>\n",
       "      <td>2014/15</td>\n",
       "      <td>440288.0</td>\n",
       "      <td>3357.0</td>\n",
       "      <td>28321.0</td>\n",
       "      <td>71483.0</td>\n",
       "      <td>56598.0</td>\n",
       "      <td>73281.0</td>\n",
       "      <td>80400.0</td>\n",
       "      <td>79101.0</td>\n",
       "      <td>47732.0</td>\n",
       "      <td>15.0</td>\n",
       "    </tr>\n",
       "    <tr>\n",
       "      <th>2</th>\n",
       "      <td>2013/14</td>\n",
       "      <td>365577.0</td>\n",
       "      <td>3011.0</td>\n",
       "      <td>23743.0</td>\n",
       "      <td>59059.0</td>\n",
       "      <td>47629.0</td>\n",
       "      <td>61823.0</td>\n",
       "      <td>68175.0</td>\n",
       "      <td>63735.0</td>\n",
       "      <td>38393.0</td>\n",
       "      <td>9.0</td>\n",
       "    </tr>\n",
       "    <tr>\n",
       "      <th>3</th>\n",
       "      <td>2012/13</td>\n",
       "      <td>292404.0</td>\n",
       "      <td>3115.0</td>\n",
       "      <td>18849.0</td>\n",
       "      <td>43681.0</td>\n",
       "      <td>39627.0</td>\n",
       "      <td>51364.0</td>\n",
       "      <td>55676.0</td>\n",
       "      <td>50262.0</td>\n",
       "      <td>29822.0</td>\n",
       "      <td>8.0</td>\n",
       "    </tr>\n",
       "    <tr>\n",
       "      <th>4</th>\n",
       "      <td>2011/12</td>\n",
       "      <td>266666.0</td>\n",
       "      <td>2824.0</td>\n",
       "      <td>16016.0</td>\n",
       "      <td>37060.0</td>\n",
       "      <td>37098.0</td>\n",
       "      <td>47514.0</td>\n",
       "      <td>53209.0</td>\n",
       "      <td>45949.0</td>\n",
       "      <td>26989.0</td>\n",
       "      <td>7.0</td>\n",
       "    </tr>\n",
       "    <tr>\n",
       "      <th>5</th>\n",
       "      <td>2010/11</td>\n",
       "      <td>211783.0</td>\n",
       "      <td>2762.0</td>\n",
       "      <td>12042.0</td>\n",
       "      <td>26965.0</td>\n",
       "      <td>30606.0</td>\n",
       "      <td>39258.0</td>\n",
       "      <td>43754.0</td>\n",
       "      <td>36056.0</td>\n",
       "      <td>20056.0</td>\n",
       "      <td>284.0</td>\n",
       "    </tr>\n",
       "  </tbody>\n",
       "</table>\n",
       "</div>"
      ],
      "text/plain": [
       "      Year  All ages  Under 16  16 to 24  25 to 34  35 to 44  45 to 54  \\\n",
       "1  2014/15  440288.0    3357.0   28321.0   71483.0   56598.0   73281.0   \n",
       "2  2013/14  365577.0    3011.0   23743.0   59059.0   47629.0   61823.0   \n",
       "3  2012/13  292404.0    3115.0   18849.0   43681.0   39627.0   51364.0   \n",
       "4  2011/12  266666.0    2824.0   16016.0   37060.0   37098.0   47514.0   \n",
       "5  2010/11  211783.0    2762.0   12042.0   26965.0   30606.0   39258.0   \n",
       "\n",
       "   55 to 64  65 to 74  75 and over  Unknown  \n",
       "1   80400.0   79101.0      47732.0     15.0  \n",
       "2   68175.0   63735.0      38393.0      9.0  \n",
       "3   55676.0   50262.0      29822.0      8.0  \n",
       "4   53209.0   45949.0      26989.0      7.0  \n",
       "5   43754.0   36056.0      20056.0    284.0  "
      ]
     },
     "execution_count": 11,
     "metadata": {},
     "output_type": "execute_result"
    }
   ],
   "source": [
    "data.head()"
   ]
  },
  {
   "cell_type": "code",
   "execution_count": 12,
   "metadata": {},
   "outputs": [],
   "source": [
    "data.set_index('Year', inplace=True)"
   ]
  },
  {
   "cell_type": "code",
   "execution_count": 13,
   "metadata": {},
   "outputs": [
    {
     "data": {
      "text/html": [
       "<div>\n",
       "<style scoped>\n",
       "    .dataframe tbody tr th:only-of-type {\n",
       "        vertical-align: middle;\n",
       "    }\n",
       "\n",
       "    .dataframe tbody tr th {\n",
       "        vertical-align: top;\n",
       "    }\n",
       "\n",
       "    .dataframe thead th {\n",
       "        text-align: right;\n",
       "    }\n",
       "</style>\n",
       "<table border=\"1\" class=\"dataframe\">\n",
       "  <thead>\n",
       "    <tr style=\"text-align: right;\">\n",
       "      <th></th>\n",
       "      <th>All ages</th>\n",
       "      <th>Under 16</th>\n",
       "      <th>16 to 24</th>\n",
       "      <th>25 to 34</th>\n",
       "      <th>35 to 44</th>\n",
       "      <th>45 to 54</th>\n",
       "      <th>55 to 64</th>\n",
       "      <th>65 to 74</th>\n",
       "      <th>75 and over</th>\n",
       "      <th>Unknown</th>\n",
       "    </tr>\n",
       "    <tr>\n",
       "      <th>Year</th>\n",
       "      <th></th>\n",
       "      <th></th>\n",
       "      <th></th>\n",
       "      <th></th>\n",
       "      <th></th>\n",
       "      <th></th>\n",
       "      <th></th>\n",
       "      <th></th>\n",
       "      <th></th>\n",
       "      <th></th>\n",
       "    </tr>\n",
       "  </thead>\n",
       "  <tbody>\n",
       "    <tr>\n",
       "      <th>2014/15</th>\n",
       "      <td>440288.0</td>\n",
       "      <td>3357.0</td>\n",
       "      <td>28321.0</td>\n",
       "      <td>71483.0</td>\n",
       "      <td>56598.0</td>\n",
       "      <td>73281.0</td>\n",
       "      <td>80400.0</td>\n",
       "      <td>79101.0</td>\n",
       "      <td>47732.0</td>\n",
       "      <td>15.0</td>\n",
       "    </tr>\n",
       "    <tr>\n",
       "      <th>2013/14</th>\n",
       "      <td>365577.0</td>\n",
       "      <td>3011.0</td>\n",
       "      <td>23743.0</td>\n",
       "      <td>59059.0</td>\n",
       "      <td>47629.0</td>\n",
       "      <td>61823.0</td>\n",
       "      <td>68175.0</td>\n",
       "      <td>63735.0</td>\n",
       "      <td>38393.0</td>\n",
       "      <td>9.0</td>\n",
       "    </tr>\n",
       "    <tr>\n",
       "      <th>2012/13</th>\n",
       "      <td>292404.0</td>\n",
       "      <td>3115.0</td>\n",
       "      <td>18849.0</td>\n",
       "      <td>43681.0</td>\n",
       "      <td>39627.0</td>\n",
       "      <td>51364.0</td>\n",
       "      <td>55676.0</td>\n",
       "      <td>50262.0</td>\n",
       "      <td>29822.0</td>\n",
       "      <td>8.0</td>\n",
       "    </tr>\n",
       "    <tr>\n",
       "      <th>2011/12</th>\n",
       "      <td>266666.0</td>\n",
       "      <td>2824.0</td>\n",
       "      <td>16016.0</td>\n",
       "      <td>37060.0</td>\n",
       "      <td>37098.0</td>\n",
       "      <td>47514.0</td>\n",
       "      <td>53209.0</td>\n",
       "      <td>45949.0</td>\n",
       "      <td>26989.0</td>\n",
       "      <td>7.0</td>\n",
       "    </tr>\n",
       "    <tr>\n",
       "      <th>2010/11</th>\n",
       "      <td>211783.0</td>\n",
       "      <td>2762.0</td>\n",
       "      <td>12042.0</td>\n",
       "      <td>26965.0</td>\n",
       "      <td>30606.0</td>\n",
       "      <td>39258.0</td>\n",
       "      <td>43754.0</td>\n",
       "      <td>36056.0</td>\n",
       "      <td>20056.0</td>\n",
       "      <td>284.0</td>\n",
       "    </tr>\n",
       "  </tbody>\n",
       "</table>\n",
       "</div>"
      ],
      "text/plain": [
       "         All ages  Under 16  16 to 24  25 to 34  35 to 44  45 to 54  55 to 64  \\\n",
       "Year                                                                            \n",
       "2014/15  440288.0    3357.0   28321.0   71483.0   56598.0   73281.0   80400.0   \n",
       "2013/14  365577.0    3011.0   23743.0   59059.0   47629.0   61823.0   68175.0   \n",
       "2012/13  292404.0    3115.0   18849.0   43681.0   39627.0   51364.0   55676.0   \n",
       "2011/12  266666.0    2824.0   16016.0   37060.0   37098.0   47514.0   53209.0   \n",
       "2010/11  211783.0    2762.0   12042.0   26965.0   30606.0   39258.0   43754.0   \n",
       "\n",
       "         65 to 74  75 and over  Unknown  \n",
       "Year                                     \n",
       "2014/15   79101.0      47732.0     15.0  \n",
       "2013/14   63735.0      38393.0      9.0  \n",
       "2012/13   50262.0      29822.0      8.0  \n",
       "2011/12   45949.0      26989.0      7.0  \n",
       "2010/11   36056.0      20056.0    284.0  "
      ]
     },
     "execution_count": 13,
     "metadata": {},
     "output_type": "execute_result"
    }
   ],
   "source": [
    "data.head()"
   ]
  },
  {
   "cell_type": "markdown",
   "metadata": {},
   "source": [
    "## visualize"
   ]
  },
  {
   "cell_type": "code",
   "execution_count": 14,
   "metadata": {},
   "outputs": [
    {
     "data": {
      "text/plain": [
       "<matplotlib.axes._subplots.AxesSubplot at 0x738008d160>"
      ]
     },
     "execution_count": 14,
     "metadata": {},
     "output_type": "execute_result"
    },
    {
     "data": {
      "image/png": "[encoded data removed]",
      "text/plain": [
       "<matplotlib.figure.Figure at 0x7380061ef0>"
      ]
     },
     "metadata": {},
     "output_type": "display_data"
    }
   ],
   "source": [
    "data.plot()"
   ]
  },
  {
   "cell_type": "code",
   "execution_count": 15,
   "metadata": {},
   "outputs": [],
   "source": [
    "data_without_all = data.drop('All ages', axis=1)"
   ]
  },
  {
   "cell_type": "code",
   "execution_count": 16,
   "metadata": {},
   "outputs": [
    {
     "data": {
      "text/plain": [
       "<matplotlib.axes._subplots.AxesSubplot at 0x737f6d2470>"
      ]
     },
     "execution_count": 16,
     "metadata": {},
     "output_type": "execute_result"
    },
    {
     "data": {
      "image/png": "[encoded data removed]",
      "text/plain": [
       "<matplotlib.figure.Figure at 0x737f8f1e48>"
      ]
     },
     "metadata": {},
     "output_type": "display_data"
    }
   ],
   "source": [
    "data_without_all.plot()"
   ]
  },
  {
   "cell_type": "code",
   "execution_count": 17,
   "metadata": {},
   "outputs": [
    {
     "name": "stderr",
     "output_type": "stream",
     "text": [
      "/data/data/com.termux/files/usr/lib/python3.6/site-packages/pandas/util/_decorators.py:118: FutureWarning: The `sheetname` keyword is deprecated, use `sheet_name` instead\n",
      "  return func(*args, **kwargs)\n"
     ]
    }
   ],
   "source": [
    "data = pd.read_excel('./data/obes-phys-acti-diet-eng-2016-tab.xlsx', sheetname='Table 6', skiprows=3, skip_footer=14)\n",
    "del data['Unnamed: 1']\n",
    "data.dropna(inplace=True)\n",
    "data['Year'] = data['Year'].str[:4]\n",
    "data['Year'] = data['Year'].apply(pd.to_datetime, format='%Y')\n",
    "data.set_index('Year', inplace=True)\n",
    "data.sort_index(ascending=True, inplace=True)\n",
    "data_without_all = data.drop('All ages', axis=1)"
   ]
  },
  {
   "cell_type": "code",
   "execution_count": 18,
   "metadata": {},
   "outputs": [
    {
     "data": {
      "text/plain": [
       "<matplotlib.axes._subplots.AxesSubplot at 0x737f0c6b00>"
      ]
     },
     "execution_count": 18,
     "metadata": {},
     "output_type": "execute_result"
    },
    {
     "data": {
      "image/png": "[encoded data removed]",
      "text/plain": [
       "<matplotlib.figure.Figure at 0x737f0ca2e8>"
      ]
     },
     "metadata": {},
     "output_type": "display_data"
    }
   ],
   "source": [
    "data_without_all.plot()"
   ]
  },
  {
   "cell_type": "code",
   "execution_count": 20,
   "metadata": {},
   "outputs": [
    {
     "data": {
      "text/plain": [
       "<matplotlib.legend.Legend at 0x737f809400>"
      ]
     },
     "execution_count": 20,
     "metadata": {},
     "output_type": "execute_result"
    },
    {
     "data": {
      "image/png": "[encoded data removed]",
      "text/plain": [
       "<matplotlib.figure.Figure at 0x737ef55f60>"
      ]
     },
     "metadata": {},
     "output_type": "display_data"
    }
   ],
   "source": [
    "data_without_all['Under 16'].plot(label='Under 16')\n",
    "data_without_all['35 to 44'].plot(label='35-44')\n",
    "plt.legend(loc='upper right')"
   ]
  },
  {
   "cell_type": "markdown",
   "metadata": {},
   "source": [
    "## future"
   ]
  },
  {
   "cell_type": "code",
   "execution_count": 21,
   "metadata": {},
   "outputs": [],
   "source": [
    "kids_values = data_without_all['Under 16'].values\n",
    "x_axis = range(len(kids_values))"
   ]
  },
  {
   "cell_type": "code",
   "execution_count": 26,
   "metadata": {},
   "outputs": [],
   "source": [
    "poly_degree = 3\n",
    "curve_fit = np.polyfit(x_axis, kids_values, poly_degree)\n",
    "poly_interp = np.poly1d(curve_fit)"
   ]
  },
  {
   "cell_type": "code",
   "execution_count": 27,
   "metadata": {},
   "outputs": [],
   "source": [
    "poly_fit_values = []\n",
    "\n",
    "for i in range(len(x_axis)):\n",
    "    poly_fit_values.append(poly_interp(i))"
   ]
  },
  {
   "cell_type": "code",
   "execution_count": 28,
   "metadata": {},
   "outputs": [
    {
     "data": {
      "text/plain": [
       "<matplotlib.legend.Legend at 0x73802d7d68>"
      ]
     },
     "execution_count": 28,
     "metadata": {},
     "output_type": "execute_result"
    },
    {
     "data": {
      "image/png": "[encoded data removed]",
      "text/plain": [
       "<matplotlib.figure.Figure at 0x737fb020f0>"
      ]
     },
     "metadata": {},
     "output_type": "display_data"
    }
   ],
   "source": [
    "plt.plot(x_axis, poly_fit_values, '-r', label='Fitted')\n",
    "plt.plot(x_axis, kids_values, '-b', label='Orig')\n",
    "\n",
    "plt.legend(loc='upper right')"
   ]
  },
  {
   "cell_type": "code",
   "execution_count": 29,
   "metadata": {},
   "outputs": [],
   "source": [
    "x_axis2 = range(15)\n",
    "poly_fit_values = []\n",
    "for i in range(len(x_axis2)):\n",
    "    poly_fit_values.append(poly_interp(i))"
   ]
  },
  {
   "cell_type": "code",
   "execution_count": 30,
   "metadata": {},
   "outputs": [
    {
     "data": {
      "text/plain": [
       "<matplotlib.legend.Legend at 0x737f000ba8>"
      ]
     },
     "execution_count": 30,
     "metadata": {},
     "output_type": "execute_result"
    },
    {
     "data": {
      "image/png": "[encoded data removed]",
      "text/plain": [
       "<matplotlib.figure.Figure at 0x737f8849b0>"
      ]
     },
     "metadata": {},
     "output_type": "display_data"
    }
   ],
   "source": [
    "plt.plot(x_axis2, poly_fit_values, '-r', label='Fitted')\n",
    "plt.plot(x_axis, kids_values, '-b', label='Orig')\n",
    "\n",
    "plt.legend(loc='upper right')"
   ]
  },
  {
   "cell_type": "code",
   "execution_count": null,
   "metadata": {},
   "outputs": [],
   "source": []
  }
 ],
 "metadata": {
  "kernelspec": {
   "display_name": "Python 3",
   "language": "python",
   "name": "python3"
  },
  "language_info": {
   "codemirror_mode": {
    "name": "ipython",
    "version": 3
   },
   "file_extension": ".py",
   "mimetype": "text/x-python",
   "name": "python",
   "nbconvert_exporter": "python",
   "pygments_lexer": "ipython3",
   "version": "3.6.4"
  }
 },
 "nbformat": 4,
 "nbformat_minor": 2
}
